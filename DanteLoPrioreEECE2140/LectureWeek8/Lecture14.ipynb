{
 "cells": [
  {
   "cell_type": "code",
   "execution_count": 1,
   "metadata": {},
   "outputs": [
    {
     "name": "stdout",
     "output_type": "stream",
     "text": [
      "Random Integers Matrix \n",
      " [[ 55 118  53  23  20 199 147 165  94  36]\n",
      " [ 94 194 188 181  76  57 179  89 142  59]\n",
      " [147  17 160  23 152  69 103  43  39  47]\n",
      " [174 136 196  59  81 170  34  82 163 193]\n",
      " [104 164  15 188  38 195  31  98 160 150]]\n",
      "[[181  76  57]\n",
      " [ 23 152  69]]\n",
      "[[181  76  57]\n",
      " [ 59  81 170]]\n",
      "[[188  57 142]\n",
      " [196 170 163]]\n",
      "[[ 76  89]\n",
      " [152  43]\n",
      " [ 81  82]\n",
      " [ 38  98]]\n",
      "[[ 55 118  53  23  20 199 147 165  94  36]\n",
      " [ 94 194 188 181  76  57 179  89 142  59]\n",
      " [147  17 160  23 152  69 103  43  39  47]\n",
      " [174 136 196  59  81 170  34  82 163 193]\n",
      " [104 164  15 188  38 195  31  98 160 150]]\n",
      "Array Indexing: n\\ [ 53 103]\n",
      "Array Indexing: n\\ [ 53 103  15]\n",
      "Array Indexing: n\\ [[ 53 195 188]\n",
      " [193 147 193]]\n",
      "Array Modification: n\\ [[ 55 118  53  23  20 199 147 165  94  36]\n",
      " [ 94 194 188 181  76  57 179  89 142  59]\n",
      " [147  17 160  23  56  69 103  43  39  47]\n",
      " [ 56 136 196  59  81 170  34  82 163 193]\n",
      " [104 164  15 188  38 195  31  98 160 150]]\n",
      "Array Modification: n\\ [[ 55 118  53  23  20 199 147 165  94  36]\n",
      " [ 94 194 188 181  76  57 179  89 142  56]\n",
      " [147  17 160  23  56  69 103  43  39  47]\n",
      " [ 56 136 196  59  81 170  34  82 163 193]\n",
      " [104 164  15 188  38 195  31  98 160 150]]\n",
      "Random Matrix with Normal Distribution n\\[[ 2.59856938  3.42308437  2.5723338  -0.25713454  3.56812236  2.77314344]\n",
      " [ 1.06996972  3.00652608  2.63145791  2.50945243  2.04922877  2.94693467]\n",
      " [ 0.7244241   1.71783169  1.16494486  3.03723207  2.06880071  1.49345005]\n",
      " [ 0.64569482  1.55452997  2.01410267  1.52264177  4.24138427  3.74369766]\n",
      " [-2.69587116 -1.27186692  1.69728586  1.26874476  2.37004053  2.37641263]]\n"
     ]
    }
   ],
   "source": [
    "import numpy as np\n",
    "# NumPy (Numerical Python)\n",
    "# - Math: \n",
    "# - Bit manipulations\n",
    "# - Trigonometry\n",
    "# - Comparison\n",
    "# - Floating Point\n",
    "\n",
    "# 4 bits 0 - 15\n",
    "# 16; 10000\n",
    "# 17: 10001\n",
    "\n",
    "# Array Indexing and Slicing \n",
    "randArray1 = np.random.randint(10, 201, (5,10), dtype=np.uint8)\n",
    "print(f'Random Integers Matrix \\n {randArray1}')\n",
    "\n",
    "print(randArray1[1:3, 3:6])\n",
    "print(randArray1[1:4:2, 3:6])\n",
    "# rows: 1,3\n",
    "# col: 2,5\n",
    "print(randArray1[1::2, 2::3])\n",
    "\n",
    "print(randArray1[1:,4::3])\n",
    "\n",
    "# print the values in the row\n",
    "print(randArray1)\n",
    "\n",
    "# element at row 0 and col 2 \n",
    "# element at row 2 and col 6\n",
    "print(f'Array Indexing: n\\ {randArray1[[0, 2], [2,6]]}')\n",
    "\n",
    "print(f'Array Indexing: n\\ {randArray1[[0, 2, -1], [2,6, 2]]}')\n",
    "\n",
    "\n",
    "# yellow bracket on right is row notation\n",
    "# yellow bracket on left is col notation\n",
    "print(f'Array Indexing: n\\ {randArray1[[[0, 4, 1], [3,2, 3]], [[2, 5, 2], [-1, 0, -1]]]}')\n",
    "\n",
    "randArray1[[2, 3], [4,0]] = -200\n",
    "print(f'Array Modification: n\\ {randArray1}')\n",
    "randArray1[1, -1] = -200\n",
    "print(f'Array Modification: n\\ {randArray1}')\n",
    "\n",
    "\n",
    "curRng = np.random.default_rng(1)\n",
    "curMean, curStd = 2, np.sqrt(3)\n",
    "randArray2 = curRng.normal(loc=curMean, scale=curStd, size=(5,6))\n",
    "print(f'Random Matrix with Normal Distribution n\\{randArray2}')"
   ]
  }
 ],
 "metadata": {
  "kernelspec": {
   "display_name": "base",
   "language": "python",
   "name": "python3"
  },
  "language_info": {
   "codemirror_mode": {
    "name": "ipython",
    "version": 3
   },
   "file_extension": ".py",
   "mimetype": "text/x-python",
   "name": "python",
   "nbconvert_exporter": "python",
   "pygments_lexer": "ipython3",
   "version": "3.9.13 (main, Aug 25 2022, 18:29:29) \n[Clang 12.0.0 ]"
  },
  "orig_nbformat": 4,
  "vscode": {
   "interpreter": {
    "hash": "53c0bcdf509a76f6b146b1d814b6daf120252df840aefcaacaf26e552841ecb9"
   }
  }
 },
 "nbformat": 4,
 "nbformat_minor": 2
}

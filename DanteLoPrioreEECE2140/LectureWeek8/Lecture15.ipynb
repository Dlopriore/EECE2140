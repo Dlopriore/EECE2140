{
 "cells": [
  {
   "cell_type": "code",
   "execution_count": 3,
   "metadata": {},
   "outputs": [
    {
     "name": "stdout",
     "output_type": "stream",
     "text": [
      "Matrix Dimensions: (7, 7)\n",
      "Current Random Matrix:\n",
      " 3\n",
      "The number of elements >= 0 1\n"
     ]
    }
   ],
   "source": [
    "import numpy as np\n",
    "\n",
    "## Logical Indexing\n",
    "randArray1 = np.random.rand\n",
    "\n",
    "cur_shape = tuple(np.random.randint(3, 9, 2))\n",
    "print(f'Matrix Dimensions: {cur_shape}')\n",
    "\n",
    "cur_rng = np.random.default_rng()\n",
    "rnd_array = cur_rng.integers(-5, 5, endpoint=True)\n",
    "print(f'Current Random Matrix:\\n {rnd_array}')\n",
    "\n",
    "print(f'The number of elements >= 0 {(rnd_array >= 0).sum()}')"
   ]
  },
  {
   "cell_type": "code",
   "execution_count": 4,
   "metadata": {},
   "outputs": [
    {
     "name": "stdout",
     "output_type": "stream",
     "text": [
      "[[ 0  1  2  3  4  5  6  7  8  9]\n",
      " [10 11 12 13 14 15 16 17 18 19]]\n",
      "[[ 0  1  2  3]\n",
      " [ 4  5  6  7]\n",
      " [ 8  9 10 11]\n",
      " [12 13 14 15]\n",
      " [16 17 18 19]]\n",
      "[[ 0 10  1 11]\n",
      " [ 2 12  3 13]\n",
      " [ 4 14  5 15]\n",
      " [ 6 16  7 17]\n",
      " [ 8 18  9 19]]\n"
     ]
    }
   ],
   "source": [
    "curArray0 = np.arange(20).reshape(2,10) #20 numbers in 20 position; they need to match \n",
    "print(curArray0)\n",
    "\n",
    "curArray1 = curArray0.reshape(5,4)\n",
    "print(curArray1)\n",
    "\n",
    "curArray2 = curArray0.T.reshape(5,4)\n",
    "print(curArray2)"
   ]
  },
  {
   "cell_type": "code",
   "execution_count": 5,
   "metadata": {},
   "outputs": [
    {
     "name": "stdout",
     "output_type": "stream",
     "text": [
      "Array with a range of values: [[ 0  1  2  3  4  5]\n",
      " [ 6  7  8  9 10 11]]\n",
      "Array 1 = Array 0 *2: [[ 0  2  4  6  8 10]\n",
      " [12 14 16 18 20 22]]\n",
      "Random Array 2: [[ 3.  5.  1.  4.  5.  9.  3.  9.  9.  5.  4.  7.  4.  2.  6.  1.  7.  9.\n",
      "   1.  2.  4.  0. 10.  9.  4.  6.  2.  8.  2.  5.  5.  4.  2.  5.  2.  6.\n",
      "  10.  9.  8.  2.  7.  2.  7.  7.  0.  3.  8.  6.  8.  8.  3.  5.  6.  7.\n",
      "   8.  5.  1.  8.  6.  8.]\n",
      " [ 8.  8.  2.  1.  5.  1.  3.  8.  1.  4.  6.  3.  6.  6.  4.  3.  2.  7.\n",
      "   1.  2.  3.  4.  9.  2.  0.  9.  5.  4.  8. 10.  1.  3.  3.  8.  7.  4.\n",
      "   2.  3.  0.  4.  4.  0.  4.  8.  4.  7.  7.  6.  6.  1.  3.  3.  3.  3.\n",
      "   7.  6.  9.  8.  1.  1.]]\n"
     ]
    },
    {
     "ename": "ValueError",
     "evalue": "cannot reshape array of size 120 into shape (3,4)",
     "output_type": "error",
     "traceback": [
      "\u001b[0;31m---------------------------------------------------------------------------\u001b[0m",
      "\u001b[0;31mValueError\u001b[0m                                Traceback (most recent call last)",
      "\u001b[0;32m/var/folders/7d/wl2f08gs34bdljddj_g339jw0000gn/T/ipykernel_44934/1643535019.py\u001b[0m in \u001b[0;36m<module>\u001b[0;34m\u001b[0m\n\u001b[1;32m     11\u001b[0m \u001b[0mprint\u001b[0m\u001b[0;34m(\u001b[0m\u001b[0;34mf'Random Array 2: {curArray2}'\u001b[0m\u001b[0;34m)\u001b[0m\u001b[0;34m\u001b[0m\u001b[0;34m\u001b[0m\u001b[0m\n\u001b[1;32m     12\u001b[0m \u001b[0;34m\u001b[0m\u001b[0m\n\u001b[0;32m---> 13\u001b[0;31m \u001b[0mprint\u001b[0m\u001b[0;34m(\u001b[0m\u001b[0;34mf'Reshape Array 2: {curArray2.reshape(3,4)}'\u001b[0m\u001b[0;34m)\u001b[0m\u001b[0;34m\u001b[0m\u001b[0;34m\u001b[0m\u001b[0m\n\u001b[0m\u001b[1;32m     14\u001b[0m \u001b[0mprint\u001b[0m\u001b[0;34m(\u001b[0m\u001b[0;34mf'Transpose Array 2: {curArray2.T}'\u001b[0m\u001b[0;34m)\u001b[0m\u001b[0;34m\u001b[0m\u001b[0;34m\u001b[0m\u001b[0m\n\u001b[1;32m     15\u001b[0m \u001b[0mprint\u001b[0m\u001b[0;34m(\u001b[0m\u001b[0;34mf'Reshape Array 2 Transpose Array 2: {curArray2.T.reshape(3, 4)}'\u001b[0m\u001b[0;34m)\u001b[0m\u001b[0;34m\u001b[0m\u001b[0;34m\u001b[0m\u001b[0m\n",
      "\u001b[0;31mValueError\u001b[0m: cannot reshape array of size 120 into shape (3,4)"
     ]
    }
   ],
   "source": [
    "## Element-wise Operations on Arrays \n",
    "curArray0 = np.arange(12).reshape(2,6)\n",
    "print(f'Array with a range of values: {curArray0}')\n",
    "\n",
    "curArray1 = curArray0*2 # Broadcasting\n",
    "# curArray1 *= 2\n",
    "# curArray1 **= 2\n",
    "print(f'Array 1 = Array 0 *2: {curArray1}')\n",
    "\n",
    "curArray2 = np.round(10*np.random.rand(2,60))\n",
    "print(f'Random Array 2: {curArray2}')\n",
    "\n",
    "print(f'Reshape Array 2: {curArray2.reshape(3,4)}')\n",
    "print(f'Transpose Array 2: {curArray2.T}')\n",
    "print(f'Reshape Array 2 Transpose Array 2: {curArray2.T.reshape(3, 4)}')\n",
    "\n",
    "curArray3 = curArray0 * curArray2\n",
    "print(f'Element-wise operations on Matrixes: {curArray0}')\n",
    "\n",
    "curArray4 = curArray0.T\n",
    "print(f'Shape of Matrix Transpose: {curArray0}')\n",
    "\n",
    "print(f'Comparing any matixes: {curArray0 > curArray1}')\n",
    "\n"
   ]
  },
  {
   "cell_type": "code",
   "execution_count": 9,
   "metadata": {},
   "outputs": [
    {
     "name": "stdout",
     "output_type": "stream",
     "text": [
      "1D Vector of Equally Spaced Points Vec1 : [ 5.  6.  7.  8.  9. 10.]\n",
      "1D Vector of Equally Spaced Points Vec2 : [ 0 -1 -2 -3 -4 -5]\n",
      "2D Matrix of Random Integers: \n",
      " [[15 14 17 11 12 11]\n",
      " [19 15 17 13 17 11]]\n",
      "Dot product of a vector and scaler number: \n",
      " [ 0  5 10 15 20 25]\n",
      "Dot product of a vector and vector: \n",
      " -130.0\n"
     ]
    }
   ],
   "source": [
    "# Linear Algebra\n",
    "import numpy as np \n",
    "from numpy import linalg\n",
    "\n",
    "curVec1 = np.linspace(5, 10, 6)\n",
    "print(f'1D Vector of Equally Spaced Points Vec1 : {curVec1}')\n",
    "\n",
    "curVec2 = np.arange(0, -6, -1)\n",
    "print(f'1D Vector of Equally Spaced Points Vec2 : {curVec2}')\n",
    "\n",
    "cur_rng = np.random.default_rng(5)\n",
    "#curVec3 = cur_rng.integers(10, 20, curVec)\n",
    "\n",
    "curMat2 = np.random.randint(10, 20, (2,6))\n",
    "print(f'2D Matrix of Random Integers: \\n {curMat2}')\n",
    "\n",
    "dotRes1 = np.dot(-5, curVec2)\n",
    "print(f'Dot product of a vector and scaler number: \\n {dotRes1}')\n",
    "\n",
    "dotRes2 = np.dot(curVec1, curVec2)\n",
    "print(f'Dot product of a vector and vector: \\n {dotRes2}')\n"
   ]
  },
  {
   "cell_type": "code",
   "execution_count": 10,
   "metadata": {},
   "outputs": [
    {
     "name": "stdout",
     "output_type": "stream",
     "text": [
      "Matrix Determinant: 0.0\n"
     ]
    },
    {
     "ename": "IndexError",
     "evalue": "too many indices for array: array is 1-dimensional, but 2 were indexed",
     "output_type": "error",
     "traceback": [
      "\u001b[0;31m---------------------------------------------------------------------------\u001b[0m",
      "\u001b[0;31mIndexError\u001b[0m                                Traceback (most recent call last)",
      "\u001b[0;32m/var/folders/7d/wl2f08gs34bdljddj_g339jw0000gn/T/ipykernel_44934/4230454006.py\u001b[0m in \u001b[0;36m<module>\u001b[0;34m\u001b[0m\n\u001b[1;32m      4\u001b[0m \u001b[0mprint\u001b[0m\u001b[0;34m(\u001b[0m\u001b[0;34mf'Matrix Determinant: {np.linalg.det(curMat3)}'\u001b[0m\u001b[0;34m)\u001b[0m\u001b[0;34m\u001b[0m\u001b[0;34m\u001b[0m\u001b[0m\n\u001b[1;32m      5\u001b[0m \u001b[0;34m\u001b[0m\u001b[0m\n\u001b[0;32m----> 6\u001b[0;31m \u001b[0msubMat\u001b[0m \u001b[0;34m=\u001b[0m \u001b[0mcurMat3\u001b[0m\u001b[0;34m[\u001b[0m\u001b[0;34m[\u001b[0m\u001b[0;36m0\u001b[0m\u001b[0;34m,\u001b[0m \u001b[0;36m2\u001b[0m\u001b[0;34m]\u001b[0m\u001b[0;34m,\u001b[0m \u001b[0;34m[\u001b[0m\u001b[0;36m2\u001b[0m\u001b[0;34m,\u001b[0m \u001b[0;36m1\u001b[0m\u001b[0;34m]\u001b[0m\u001b[0;34m]\u001b[0m \u001b[0;34m[\u001b[0m\u001b[0;34m[\u001b[0m\u001b[0;36m0\u001b[0m\u001b[0;34m,\u001b[0m \u001b[0;36m3\u001b[0m\u001b[0;34m]\u001b[0m\u001b[0;34m,\u001b[0m \u001b[0;34m[\u001b[0m\u001b[0;36m0\u001b[0m\u001b[0;34m,\u001b[0m \u001b[0;36m1\u001b[0m\u001b[0;34m]\u001b[0m\u001b[0;34m]\u001b[0m\u001b[0;34m\u001b[0m\u001b[0;34m\u001b[0m\u001b[0m\n\u001b[0m\u001b[1;32m      7\u001b[0m \u001b[0;34m\u001b[0m\u001b[0m\n\u001b[1;32m      8\u001b[0m \u001b[0msubMatInv\u001b[0m \u001b[0;34m=\u001b[0m \u001b[0mnp\u001b[0m\u001b[0;34m.\u001b[0m\u001b[0mlinalg\u001b[0m\u001b[0;34m.\u001b[0m\u001b[0minv\u001b[0m\u001b[0;34m(\u001b[0m\u001b[0msubMat\u001b[0m\u001b[0;34m)\u001b[0m\u001b[0;34m\u001b[0m\u001b[0;34m\u001b[0m\u001b[0m\n",
      "\u001b[0;31mIndexError\u001b[0m: too many indices for array: array is 1-dimensional, but 2 were indexed"
     ]
    }
   ],
   "source": [
    "## Linear Algebra #2\n",
    "\n",
    "curMat3 = np.arange(-8, 8, 1).reshape(4,-1)\n",
    "print(f'Matrix Determinant: {np.linalg.det(curMat3)}')\n",
    "\n",
    "subMat = curMat3[[0, 2], [2, 1]] [[0, 3], [0, 1]]\n",
    "\n",
    "subMatInv = np.linalg.inv(subMat)\n",
    "print(f'Verify the Matrix Inversion: \\n{np.dot(subMat, subMatInv)}')\n",
    "\n",
    "c = subMat @ subMatInv\n",
    "print(f'Matrix Multiplication Using @: \\n{c}')\n",
    "\n",
    "d = np.matmul(subMat, subMatInv)\n",
    "print(f'Matrix Multiplication Using matmul {d}')\n",
    "\n",
    "e = subMat * subMatInv\n",
    "print(f'Element-Wise Matrix Multiplication {e}')"
   ]
  },
  {
   "cell_type": "code",
   "execution_count": 11,
   "metadata": {},
   "outputs": [
    {
     "name": "stdout",
     "output_type": "stream",
     "text": [
      "Solving System of Multiple Equations with Unknowns: [-1. -1.]\n",
      "Verifying Solutions of System of Multiple Equations with Unknowns (Matrix Inversion): [-1. -1.]\n"
     ]
    }
   ],
   "source": [
    "# Ay = b\n",
    "# x = A^-1 * b\n",
    "\n",
    "coef = np.array([[2, 3], [-3, 4]])\n",
    "b = np.array([-5, -1])\n",
    "x = np.linalg.solve(coef, b)\n",
    "\n",
    "print(f'Solving System of Multiple Equations with Unknowns: {x}')\n",
    "\n",
    "y = np.dot(np.linalg.inv(coef), b)\n",
    "print(f'Verifying Solutions of System of Multiple Equations with Unknowns (Matrix Inversion): {y}')\n",
    "\n",
    "z = np.dot(coef, x) - b\n",
    "print(f'Verifying Solutions of System of Multiple Equations with Unknowns (Using Matrix Multiplcation): {z}')\n",
    "\n",
    "\n",
    "#Solve for b \n",
    "b = np.dot(coef, x)\n",
    "print(f'Find B value {b}')"
   ]
  },
  {
   "cell_type": "code",
   "execution_count": 16,
   "metadata": {},
   "outputs": [
    {
     "name": "stdout",
     "output_type": "stream",
     "text": [
      "Solving System of Multiple Equations with Unknowns: [ 1.75  0.5  -0.25]\n",
      "Verifying Solutions of System of Multiple Equations with Unknowns (Matrix Inversion): [ 1.75  0.5  -0.25]\n",
      "Verifying Solutions of System of Multiple Equations with Unknowns (Using Matrix Multiplcation): [0. 0. 0.]\n",
      "Find B value [4. 1. 2.]\n"
     ]
    }
   ],
   "source": [
    "import numpy as np\n",
    "from numpy import linalg\n",
    "\n",
    "num_var = 3\n",
    "coef = np.zeros((num_var, num_var))\n",
    "while np.linalg.det(coef) == 0:\n",
    "    coef = np.random.randint(-2, 3, (num_var, num_var))\n",
    "\n",
    "cur_rng = np.random.default_rng()\n",
    "b = cur_rng.integers(5, size=num_var)\n",
    "\n",
    "x = np.linalg.solve(coef, b)\n",
    "\n",
    "\n",
    "print(f'Solving System of Multiple Equations with Unknowns: {x}')\n",
    "\n",
    "y = np.dot(np.linalg.inv(coef), b)\n",
    "print(f'Verifying Solutions of System of Multiple Equations with Unknowns (Matrix Inversion): {y}')\n",
    "\n",
    "z = np.dot(coef, x) - b\n",
    "print(f'Verifying Solutions of System of Multiple Equations with Unknowns (Using Matrix Multiplcation): {z}')\n",
    "\n",
    "\n",
    "#Solve for b \n",
    "b = np.dot(coef, x)\n",
    "print(f'Find B value {b}')"
   ]
  }
 ],
 "metadata": {
  "kernelspec": {
   "display_name": "base",
   "language": "python",
   "name": "python3"
  },
  "language_info": {
   "codemirror_mode": {
    "name": "ipython",
    "version": 3
   },
   "file_extension": ".py",
   "mimetype": "text/x-python",
   "name": "python",
   "nbconvert_exporter": "python",
   "pygments_lexer": "ipython3",
   "version": "3.9.13 (main, Aug 25 2022, 18:29:29) \n[Clang 12.0.0 ]"
  },
  "orig_nbformat": 4,
  "vscode": {
   "interpreter": {
    "hash": "53c0bcdf509a76f6b146b1d814b6daf120252df840aefcaacaf26e552841ecb9"
   }
  }
 },
 "nbformat": 4,
 "nbformat_minor": 2
}

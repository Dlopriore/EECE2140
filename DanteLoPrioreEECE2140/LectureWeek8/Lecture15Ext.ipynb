{
 "cells": [
  {
   "cell_type": "code",
   "execution_count": null,
   "metadata": {},
   "outputs": [],
   "source": [
    "import numpy as np\n",
    "\n",
    "## Logical Indexing\n",
    "randArray1 = np.random.rand\n",
    "\n",
    "cur_shape = tuple(np.random.randint(3, 9, 2))\n",
    "print(f'Matrix Dimensions: {cur_shape}')\n",
    "\n",
    "cur_rng = np.random.default_rng()\n",
    "rnd_array = cur_rng.integers(-5, 5, endpoint=True)\n",
    "print(f'Current Random Matrix:\\n {rnd_array}')\n",
    "\n",
    "print(f'The number of elements >= 0 {(rnd_array >= 0).sum()}')"
   ]
  },
  {
   "cell_type": "code",
   "execution_count": null,
   "metadata": {},
   "outputs": [],
   "source": [
    "curArray0 = np.arange(20).reshape(2,10) #20 numbers in 20 position; they need to match \n",
    "print(curArray0)\n",
    "\n",
    "curArray1 = curArray0.reshape(5,4)\n",
    "print(curArray1)\n",
    "\n",
    "curArray2 = curArray0.T.reshape(5,4)\n",
    "print(curArray2)"
   ]
  },
  {
   "cell_type": "code",
   "execution_count": null,
   "metadata": {},
   "outputs": [],
   "source": [
    "## Element-wise Operations on Arrays\n",
    "curArray0 = np.arange(12).reshape(2,6)\n",
    "print(f'Array with a range of values\\nArray0\\n{curArray0}')\n",
    "\n",
    "curArray1 = curArray0 ** 2 #Broadcastig\n",
    "#curArray1 /= 2 #Broadcastig\n",
    "print(f'Array1 = Array0 ** 2\\n{curArray1}')\n",
    "\n",
    "curArray2 = np.round( 10 * np.random.rand(2,6))\n",
    "print(f'Random Array 2\\n{curArray2}')\n",
    "\n",
    "print(f'Reshape a Matrix:\\n{curArray2.reshape(3,4)}')\n",
    "print(f'Transpose of a Matrix:\\n{curArray2.T}')\n",
    "print(f'Reshape Transpose of a Matrix:\\n{curArray2.T.reshape(3,4)}')\n",
    "\n",
    "curArray3 = curArray0 * curArray2\n",
    "print(f'Element-wise Operation on Matrixes:\\n{curArray3}')\n",
    "\n",
    "curArray4 = curArray0.T\n",
    "print(f'Shape of Matrix Transpose: {curArray4.shape}')"
   ]
  },
  {
   "cell_type": "code",
   "execution_count": null,
   "metadata": {},
   "outputs": [],
   "source": [
    "## Linear Algebra 1\n",
    "import numpy as np\n",
    "from numpy import linalg\n",
    "\n",
    "curVec1 = np.linspace(5, 10, 6)\n",
    "print(f'1D Vector of Equally Spaced Points: {curVec1}')\n",
    "\n",
    "curVec2 = np.arange(0, -6, -1)\n",
    "print(f'1D Vector of Values in a Range: {curVec2}')\n",
    "\n",
    "curRng = np.random.default_rng(5)\n",
    "curVec3 = curRng.integers(10, 20, (curVec1.shape[0],), endpoint=True)\n",
    "print(f'Integer Random Vector in the Range of [low, high) (or [low,high] if endpoint=True):\\n{curVec3}')\n",
    "\n",
    "curMat1 = np.linspace(-6, 5, 12).reshape(2,6)\n",
    "print(f'2D Matrix of Equally Spaced Points:\\n{curMat1}')\n",
    "\n",
    "curMat2 = np.random.randint(10, 20, (2,6))\n",
    "print(f'2D Matrix of Random Integers:\\n{curMat2}')\n",
    "\n",
    "dotRes1 = np.dot(-5, curVec2)\n",
    "print(f'Dot Product of a Scalar and a Vector: {dotRes1}')\n",
    "\n",
    "dotRes2 = np.dot(curVec1, curVec2)\n",
    "print(f'Dot Product of Vectors: {dotRes2}')\n",
    "\n",
    "dotRes3 = np.dot(curMat1, curVec1)\n",
    "print(f'Dot Product of a Vector and a Matrix: {dotRes3}')\n",
    "\n",
    "dotRes4 = np.dot(curMat1[0], curVec1)\n",
    "print(f'Dot Product of Vectors: {dotRes4}')\n",
    "dotRes5 = np.dot(curMat1[1], curVec1)\n",
    "print(f'Dot Product of Vectors: {dotRes5}')\n",
    "\n",
    "dotRes6 = np.dot(curMat1, curMat1.T)\n",
    "print(f'Dot Product of Two Matrixes:\\n{dotRes6}')\n",
    "\n",
    "dotRes7 = np.dot(curMat1.T, curMat2)\n",
    "print(f'Dot Product of Two Matrixes:\\n{dotRes7}')"
   ]
  },
  {
   "cell_type": "code",
   "execution_count": null,
   "metadata": {},
   "outputs": [],
   "source": [
    "## Linear Algebra 2\n",
    "import numpy as np\n",
    "# from numpy import linalg\n",
    "\n",
    "curMat3 = np.arange(-8, 8, 1).reshape(4,-1)\n",
    "print(f'2D Matrix of Equally Spaced Points:\\n{curMat3}')\n",
    "\n",
    "print(f'Matrix Determinant: {np.linalg.det(curMat3)}')\n",
    "subMat = curMat3[[[0, 2], [2, 1]], [[0,3],[2,1]]]\n",
    "print(f'Sub Matrix:\\n{subMat}')\n",
    "print(f'Matrix Determinant: {np.linalg.det(subMat)}')\n",
    "print(f'Matrix Trace: {np.trace(subMat, offset=0)}')\n",
    "# If the matrix is 2-D, the sum along its diagonal with the given offset is returned, i.e.,\n",
    "# the sum of elements a[i,i+offset] for all i.\n",
    "print(f'Matrix Inverse:\\n{np.linalg.inv(subMat)}')\n",
    "\n",
    "subMatInv = np.linalg.inv(subMat)\n",
    "print(f'Verify Matrix Inversion:\\n{np.dot(subMat, subMatInv)}')\n",
    "\n",
    "c = subMat @ subMatInv\n",
    "print(f'Matrix Multiplication (Using @ Operator):\\n{c}')\n",
    "d = np.matmul(subMat, subMatInv)\n",
    "print(f'Matrix Multiplication (Using \"matmul\" function):\\n{d}')\n",
    "e = subMat * subMatInv\n",
    "print(f'Element-wise Matrix Multiplication:\\n{e}')"
   ]
  },
  {
   "cell_type": "code",
   "execution_count": null,
   "metadata": {},
   "outputs": [],
   "source": [
    "## Linear Algebra 3\n",
    "import numpy as np\n",
    "from numpy import linalg\n",
    "\n",
    "coef = np.array([[2,3], [-3,4]])\n",
    "b = np.array([-5,-1])\n",
    "x = np.linalg.solve(coef, b)\n",
    "print(f'Solving System of Multiple Equations with Unknowns: {x}')\n",
    "y = np.dot(np.linalg.inv(coef), b)\n",
    "print(f'Verify Solution of System of Multiple Equations with Unknowns (Using Matrix Inversion): {y}')\n",
    "z = np.dot(coef, x) - b\n",
    "print(f'Verify Solution of System of Multiple Equations with Unknowns (Using Multiplication):\\n{z}')"
   ]
  }
 ],
 "metadata": {
  "kernelspec": {
   "display_name": "base",
   "language": "python",
   "name": "python3"
  },
  "language_info": {
   "name": "python",
   "version": "3.9.13 (main, Aug 25 2022, 18:29:29) \n[Clang 12.0.0 ]"
  },
  "orig_nbformat": 4,
  "vscode": {
   "interpreter": {
    "hash": "53c0bcdf509a76f6b146b1d814b6daf120252df840aefcaacaf26e552841ecb9"
   }
  }
 },
 "nbformat": 4,
 "nbformat_minor": 2
}

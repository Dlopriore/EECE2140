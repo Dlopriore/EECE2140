{
 "cells": [
  {
   "cell_type": "code",
   "execution_count": 2,
   "metadata": {},
   "outputs": [
    {
     "name": "stdout",
     "output_type": "stream",
     "text": [
      "True\n"
     ]
    }
   ],
   "source": [
    "my_lst = [1, 2, 3]\n",
    "\n",
    "my_str = \"Thisismystring\"\n",
    "print(my_str.isalnum())\n",
    "\n",
    "\n",
    "# user defined (complex) data\n",
    "\n",
    "student1 = ['Alice', 'Smith', 'F', 2005, 2025, [2.4, 3.6]]\n",
    "student2 = ['Bob', 'Brown', 'M', 2002, 2024, [4.0, 3.0]]\n"
   ]
  },
  {
   "cell_type": "code",
   "execution_count": 25,
   "metadata": {},
   "outputs": [
    {
     "name": "stdout",
     "output_type": "stream",
     "text": [
      "Alice Smith\n",
      "Bob Brown\n",
      "Morgan Xiang\n",
      "Before: []\n",
      "After: 0\n",
      "Student 1 GPA: 0\n",
      "Before: Print the object of the Student: Alice Smith (F): (0)\n",
      "Alice Smith (F): (0)\n",
      "<class '__main__.Student'>\n"
     ]
    }
   ],
   "source": [
    "class Student:\n",
    "    def __init__(self, firstname, lastname, gen): #constructor\n",
    "        # Object attributes\n",
    "        self.name = firstname + ' ' + lastname\n",
    "        self.gender = gen\n",
    "        self.grades = []\n",
    "        self.gpa = 0\n",
    "    \n",
    "    def update_grades(self, *cur_grades):\n",
    "        for grade in cur_grades:\n",
    "            self.grades += [grade]\n",
    "        self.find_gpa()\n",
    "\n",
    "    def find_gpa(self):\n",
    "        self.grades = 0\n",
    "        if self.grades:\n",
    "            sum_grades = 0\n",
    "            for grade in self.grades:\n",
    "                sum_grades += grade\n",
    "            self.gpa = sum_grades/len(self.grades)\n",
    "        \n",
    "        return self.gpa\n",
    "    \n",
    "    def __str__(self):\n",
    "        return f'{self.name} ({self.gender}): ({self.gpa})'\n",
    "\n",
    "\n",
    "\n",
    "stud1 = Student('Alice', 'Smith', 'F')\n",
    "print(stud1.name)\n",
    "\n",
    "stud2 = Student('Bob', 'Brown', 'M')\n",
    "print(stud2.name)\n",
    "\n",
    "stud3 = Student('Morgan', 'Xiang', 'F')\n",
    "print(stud3.name)\n",
    "\n",
    "print(f'Before: {stud1.grades}')\n",
    "stud1.update_grades(3.2, 4)\n",
    "print(f'After: {stud1.grades}')\n",
    "\n",
    "print(f'Student 1 GPA: {stud1.find_gpa()}')\n",
    "\n",
    "print(f'Before: Print the object of the Student: {stud1}')\n",
    "print(stud1)\n",
    "\n",
    "print(type(stud1))"
   ]
  },
  {
   "cell_type": "code",
   "execution_count": 37,
   "metadata": {},
   "outputs": [
    {
     "name": "stdout",
     "output_type": "stream",
     "text": [
      "[1.0, 2.0, 3.0, 4.0]\n"
     ]
    }
   ],
   "source": [
    "class Polygon:\n",
    "\n",
    "    def __init__(self, num_sides):\n",
    "        self.num_sides = num_sides\n",
    "        self.sides = []\n",
    "        self.perimeter = 0\n",
    "    def __str__(self):\n",
    "        return f'The polygon has {self.num_sides} sides.'\n",
    "    \n",
    "    def setSides(self):\n",
    "        for individual_side in range(self.num_sides):\n",
    "            cur_side = float(input(f'Enter the length of the {individual_side+1}th side (+Number): '))\n",
    "            self.sides.append(cur_side)\n",
    "    \n",
    "    def find_parameter(self):\n",
    "        self.perimeter = sum(self.sides)\n",
    "\n",
    "    def __add__(self, other):\n",
    "        if(self.__eq__(other)):\n",
    "            newPolygon = Polygon(self.num_sides + self.num_sides)\n",
    "            newPolygon.sides = self.sides + self.sides\n",
    "            newPolygon.find_parameter()\n",
    "            return newPolygon\n",
    "        else:\n",
    "            print(\"The + operator cannot accept the data type of other\")\n",
    "    \n",
    "    def __gt__(self, other):\n",
    "        return self.perimeter < other.perimeter\n",
    "    \n",
    "    def __lt__(self, other):\n",
    "        return not self.__gt__(self, other) and not self.__eq__(self, other)\n",
    "    \n",
    "    def __ne__(self, other):\n",
    "        return not self.__eq__(other)\n",
    "    \n",
    "    def __eq__(other):\n",
    "        return isinstance(other, Polygon) \n",
    "        \n",
    "    \n",
    "poly1 = Polygon(4)\n",
    "poly1.setSides()\n",
    "print(poly1.sides)\n",
    "\n",
    "\n",
    "    "
   ]
  },
  {
   "cell_type": "code",
   "execution_count": 41,
   "metadata": {},
   "outputs": [
    {
     "name": "stdout",
     "output_type": "stream",
     "text": [
      "Alice Smith\n",
      "Bob Brown\n",
      "Morgan Xiang\n",
      "Before: []\n",
      "After: [3.2, 4]\n",
      "Student 1 GPA: 0\n",
      "Before: Print the object of the Student: Alice Smith (F): (0)\n",
      "Alice Smith (F): (0)\n",
      "Alice Smith | 0 | 0\n",
      "Bob Brown | [] | 0\n"
     ]
    },
    {
     "ename": "TypeError",
     "evalue": "__main__.Student.update_grades() argument after * must be an iterable, not int",
     "output_type": "error",
     "traceback": [
      "\u001b[0;31m---------------------------------------------------------------------------\u001b[0m",
      "\u001b[0;31mTypeError\u001b[0m                                 Traceback (most recent call last)",
      "\u001b[0;32m/var/folders/7d/wl2f08gs34bdljddj_g339jw0000gn/T/ipykernel_34594/2267831448.py\u001b[0m in \u001b[0;36m<module>\u001b[0;34m\u001b[0m\n\u001b[1;32m     62\u001b[0m \u001b[0mprint\u001b[0m\u001b[0;34m(\u001b[0m\u001b[0;34mf'{stud2.name} | {stud2.grades} | {stud2.gpa}'\u001b[0m\u001b[0;34m)\u001b[0m\u001b[0;34m\u001b[0m\u001b[0;34m\u001b[0m\u001b[0m\n\u001b[1;32m     63\u001b[0m \u001b[0;34m\u001b[0m\u001b[0m\n\u001b[0;32m---> 64\u001b[0;31m \u001b[0mstud4\u001b[0m \u001b[0;34m=\u001b[0m \u001b[0mstud1\u001b[0m \u001b[0;34m+\u001b[0m \u001b[0mstud2\u001b[0m\u001b[0;34m\u001b[0m\u001b[0;34m\u001b[0m\u001b[0m\n\u001b[0m\u001b[1;32m     65\u001b[0m \u001b[0mprint\u001b[0m\u001b[0;34m(\u001b[0m\u001b[0mstud4\u001b[0m\u001b[0;34m)\u001b[0m\u001b[0;34m\u001b[0m\u001b[0;34m\u001b[0m\u001b[0m\n\u001b[1;32m     66\u001b[0m \u001b[0;34m\u001b[0m\u001b[0m\n",
      "\u001b[0;32m/var/folders/7d/wl2f08gs34bdljddj_g339jw0000gn/T/ipykernel_34594/2267831448.py\u001b[0m in \u001b[0;36m__add__\u001b[0;34m(self, other_std)\u001b[0m\n\u001b[1;32m     32\u001b[0m         \u001b[0;32mif\u001b[0m \u001b[0misinstance\u001b[0m\u001b[0;34m(\u001b[0m\u001b[0mother_std\u001b[0m\u001b[0;34m,\u001b[0m \u001b[0mStudent\u001b[0m\u001b[0;34m)\u001b[0m\u001b[0;34m:\u001b[0m\u001b[0;34m\u001b[0m\u001b[0;34m\u001b[0m\u001b[0m\n\u001b[1;32m     33\u001b[0m             \u001b[0mnew_Student\u001b[0m \u001b[0;34m=\u001b[0m \u001b[0mStudent\u001b[0m\u001b[0;34m(\u001b[0m\u001b[0mself\u001b[0m\u001b[0;34m.\u001b[0m\u001b[0mname\u001b[0m\u001b[0;34m.\u001b[0m\u001b[0msplit\u001b[0m\u001b[0;34m(\u001b[0m\u001b[0;34m)\u001b[0m\u001b[0;34m[\u001b[0m\u001b[0;36m0\u001b[0m\u001b[0;34m]\u001b[0m\u001b[0;34m,\u001b[0m \u001b[0mother_std\u001b[0m\u001b[0;34m.\u001b[0m\u001b[0mname\u001b[0m\u001b[0;34m.\u001b[0m\u001b[0msplit\u001b[0m\u001b[0;34m(\u001b[0m\u001b[0;34m)\u001b[0m\u001b[0;34m[\u001b[0m\u001b[0;36m1\u001b[0m\u001b[0;34m]\u001b[0m\u001b[0;34m,\u001b[0m \u001b[0mself\u001b[0m\u001b[0;34m.\u001b[0m\u001b[0mgender\u001b[0m\u001b[0;34m)\u001b[0m\u001b[0;34m\u001b[0m\u001b[0;34m\u001b[0m\u001b[0m\n\u001b[0;32m---> 34\u001b[0;31m             \u001b[0mnew_Student\u001b[0m\u001b[0;34m.\u001b[0m\u001b[0mupdate_grades\u001b[0m\u001b[0;34m(\u001b[0m\u001b[0;34m*\u001b[0m\u001b[0mself\u001b[0m\u001b[0;34m.\u001b[0m\u001b[0mgrades\u001b[0m\u001b[0;34m)\u001b[0m\u001b[0;34m\u001b[0m\u001b[0;34m\u001b[0m\u001b[0m\n\u001b[0m\u001b[1;32m     35\u001b[0m             \u001b[0mnew_Student\u001b[0m\u001b[0;34m.\u001b[0m\u001b[0mupdate_grades\u001b[0m\u001b[0;34m(\u001b[0m\u001b[0;34m*\u001b[0m\u001b[0mother_std\u001b[0m\u001b[0;34m.\u001b[0m\u001b[0mgrades\u001b[0m\u001b[0;34m)\u001b[0m\u001b[0;34m\u001b[0m\u001b[0;34m\u001b[0m\u001b[0m\n\u001b[1;32m     36\u001b[0m             \u001b[0;32mreturn\u001b[0m \u001b[0mnew_Student\u001b[0m\u001b[0;34m\u001b[0m\u001b[0;34m\u001b[0m\u001b[0m\n",
      "\u001b[0;31mTypeError\u001b[0m: __main__.Student.update_grades() argument after * must be an iterable, not int"
     ]
    }
   ],
   "source": [
    "a = [2]\n",
    "b = [3]\n",
    "\n",
    "#print(stud1 + stud2)\n",
    "\n",
    "class Student:\n",
    "    def __init__(self, firstname, lastname, gen): #constructor\n",
    "        # Object attributes\n",
    "        self.name = firstname + ' ' + lastname\n",
    "        self.gender = gen\n",
    "        self.grades = []\n",
    "        self.gpa = 0\n",
    "    \n",
    "    def update_grades(self, *cur_grades):\n",
    "        for grade in cur_grades:\n",
    "            self.grades += [grade]\n",
    "\n",
    "    def find_gpa(self):\n",
    "        self.grades = 0\n",
    "        if self.grades:\n",
    "            sum_grades = 0\n",
    "            for grade in self.grades:\n",
    "                sum_grades += grade\n",
    "            self.gpa = sum_grades/len(self.grades)\n",
    "        \n",
    "        return self.gpa\n",
    "    \n",
    "    def __str__(self):\n",
    "        return f'{self.name} ({self.gender}): ({self.gpa})'\n",
    "    \n",
    "    def __add__(self, other_std): #operator override\n",
    "        if isinstance(other_std, Student):\n",
    "            new_Student = Student(self.name.split()[0], other_std.name.split()[1], self.gender)\n",
    "            new_Student.update_grades(*self.grades)\n",
    "            new_Student.update_grades(*other_std.grades)\n",
    "            return new_Student\n",
    "        else:\n",
    "            print(\"The + operator cannot accept the data type of other\")\n",
    "    \n",
    "    def __lt__(self, other):\n",
    "        if isinstance(other, Student):\n",
    "            return self.name.split()[1] < other.name.split()[1]\n",
    "        \n",
    "    def __eq__(self, other):\n",
    "        if isinstance(other, Student):\n",
    "            return self.name.split()[1] == other.name.split()[1]\n",
    "        \n",
    "    def __ne__(self, other):\n",
    "        return not self.__eq__(other)\n",
    "    \n",
    "    def __gt__(self, other):\n",
    "        return not self.__lt__(other) and self.__ne__(other)\n",
    "\n",
    "\n",
    "\n",
    "stud1 = Student('Alice', 'Smith', 'F')\n",
    "print(stud1.name)\n",
    "\n",
    "stud2 = Student('Bob', 'Brown', 'M')\n",
    "print(stud2.name)\n",
    "\n",
    "stud3 = Student('Morgan', 'Xiang', 'F')\n",
    "print(stud3.name)\n",
    "\n",
    "print(f'Before: {stud1.grades}')\n",
    "stud1.update_grades(3.2, 4)\n",
    "print(f'After: {stud1.grades}')\n",
    "\n",
    "print(f'Student 1 GPA: {stud1.find_gpa()}')\n",
    "\n",
    "print(f'Before: Print the object of the Student: {stud1}')\n",
    "print(stud1)\n",
    "\n",
    "print(f'{stud1.name} | {stud1.grades} | {stud1.gpa}')\n",
    "print(f'{stud2.name} | {stud2.grades} | {stud2.gpa}')\n",
    "\n",
    "stud4 = stud1 + stud2\n",
    "print(stud4)\n",
    "\n",
    "print(a < b)\n",
    "\n"
   ]
  },
  {
   "cell_type": "code",
   "execution_count": 52,
   "metadata": {},
   "outputs": [
    {
     "name": "stdout",
     "output_type": "stream",
     "text": [
      "[[1, 3], [0, 2], [-1, 1]]\n",
      "{0, 1, -1, -2}\n",
      "{2, 3, -2, -1}\n",
      "False\n",
      "True\n",
      "[0, -1, 5, 6, -3]\n"
     ]
    }
   ],
   "source": [
    "var1 = [[k-j for k in range(3, 7, 2)] for j in range(2, 5)]\n",
    "print(var1)\n",
    "\n",
    "var3 = {k//3 for k in range(5, -5, -1)}\n",
    "print(var3)\n",
    "\n",
    "var4 = {0, 1, 2, 3}\n",
    "var6 = var3 ^ var4\n",
    "print(var6)\n",
    "\n",
    "var7 = [0, -1, -2, -3]\n",
    "var7[2:-1] = [5, 6]\n",
    "\n",
    "print(('boston' * 2 )<= 'Dorechestw' + 'h')\n",
    "\n",
    "print('abc' <= \"abcd\")\n",
    "print(var7)"
   ]
  }
 ],
 "metadata": {
  "kernelspec": {
   "display_name": "base",
   "language": "python",
   "name": "python3"
  },
  "language_info": {
   "codemirror_mode": {
    "name": "ipython",
    "version": 3
   },
   "file_extension": ".py",
   "mimetype": "text/x-python",
   "name": "python",
   "nbconvert_exporter": "python",
   "pygments_lexer": "ipython3",
   "version": "3.9.13 (main, Aug 25 2022, 18:29:29) \n[Clang 12.0.0 ]"
  },
  "orig_nbformat": 4,
  "vscode": {
   "interpreter": {
    "hash": "53c0bcdf509a76f6b146b1d814b6daf120252df840aefcaacaf26e552841ecb9"
   }
  }
 },
 "nbformat": 4,
 "nbformat_minor": 2
}

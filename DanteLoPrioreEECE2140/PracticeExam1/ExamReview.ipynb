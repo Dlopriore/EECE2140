{
 "cells": [
  {
   "cell_type": "code",
   "execution_count": 18,
   "metadata": {},
   "outputs": [
    {
     "name": "stdout",
     "output_type": "stream",
     "text": [
      "1\n"
     ]
    }
   ],
   "source": [
    "\n",
    "cur_dict = {'1': [5, 7, 7, 7, 7], '2': [6, 7, 7, 7], '3' : [9, 9, 6, 5, 5], '4' : [90, 99, 0, 0, 5]}\n",
    "sum_list = []\n",
    "flag = 'N'\n",
    "for key_title, values_list in cur_dict.items():\n",
    "    sum_list.append(sum(values_list))\n",
    "    sum_list.sort\n",
    "    #print(sum(cur_dict[key_title]))\n",
    "for item in sum_list:\n",
    "    for key_title, values_list in cur_dict.items():\n",
    "        if((item == sum(values_list)) and (flag == 'N')):\n",
    "            print(key_title)\n",
    "            flag = 'Y'\n"
   ]
  },
  {
   "cell_type": "code",
   "execution_count": 28,
   "metadata": {},
   "outputs": [
    {
     "name": "stdout",
     "output_type": "stream",
     "text": [
      "['i']\n",
      "[' ']\n",
      "['o']\n",
      "['e']\n",
      "['b']\n",
      "{'i': 3, ' ': 3, 'l': 1, 'o': 3, 'v': 1, 'e': 2, 'b': 3, 'g': 1, 's': 1}\n"
     ]
    }
   ],
   "source": [
    "word = []\n",
    "word += \"i love big boobies\"\n",
    "\n",
    "out_dict = dict()\n",
    "freq = []\n",
    "for item in word:\n",
    "    if item not in freq:\n",
    "        freq.append(item)\n",
    "        counter = word.count(item)\n",
    "        if (counter > 1):\n",
    "            print([item])\n",
    "        out_dict.update({item:counter})\n",
    "print(out_dict)\n",
    "\n"
   ]
  },
  {
   "cell_type": "code",
   "execution_count": 101,
   "metadata": {},
   "outputs": [
    {
     "name": "stdout",
     "output_type": "stream",
     "text": [
      "4\n",
      "Original List: [7, 6, 6, 8, 6, 4, 7, 2, 1, 2]\n",
      "Unique Elements of the Original List: [1, 2, 4, 6, 7, 8]\n"
     ]
    }
   ],
   "source": [
    "cur_dict = {'1': [5, 7, 1, 2, 44, 3, 43, 99, 5, 21, 22, 5], '2': [6, 7, 7, 7], '3' : [9, 9, 6, 5, 5], '4' : [5, 55, 6, 5, 4, 1, 2]}\n",
    "unique_list = []\n",
    "final_list = []\n",
    "\n",
    "import random\n",
    "\n",
    "def check_unique(inlist):\n",
    "    final_list = []\n",
    "    for item in inlist:\n",
    "        if item not in final_list:\n",
    "            final_list.append(item)\n",
    "    return final_list\n",
    "\n",
    "for key_role, value_num_l in cur_dict.items():\n",
    "    max_count = 0\n",
    "    max_key = ''\n",
    "    if(len(check_unique(value_num_l)) > max_count):\n",
    "        max_count = len(check_unique(value_num_l))\n",
    "        max_key = key_role\n",
    "print(max_key)\n",
    "\n",
    "def find_unique(in_list):\n",
    "    '''Find the list of the unique elements within a list'''\n",
    "    unique_list = []\n",
    "    for cur_element in in_list:\n",
    "        if cur_element not in unique_list:\n",
    "            unique_list.append(cur_element)\n",
    "    '''\n",
    "    unique_list = [cur_element for cur_element in in_list\\\n",
    "        if cur_element not in unique_list] # Not allowed\n",
    "    '''\n",
    "    return unique_list\n",
    "my_list1 = [random.randint(1,8) for _ in range(10)]\n",
    "my_unique_list1 = find_unique(my_list1)\n",
    "print(f'Original List: {my_list1}')\n",
    "print(f'Unique Elements of the Original List: {sorted(my_unique_list1)}')\n",
    "def find_max_unique_element(in_dict):\n",
    "    max_len = 0\n",
    "    \n",
    "    for cur_key, cur_list in in_dict.items():\n",
    "        #if len(set(cur_list)) > max_len:\n",
    "        if len(find_unique(cur_list)) > max_len:\n",
    "            max_len = len(find_unique(cur_list))\n",
    "    \n",
    "    max_key_list = []    \n",
    "    for cur_key, cur_list in in_dict.items():\n",
    "        if len(find_unique(cur_list)) == max_len:\n",
    "            max_key_list.append(cur_key)\n",
    "    \n",
    "    return max_key_list[random.randint(0,len(max_key_list)-1)]\n"
   ]
  },
  {
   "cell_type": "code",
   "execution_count": 3,
   "metadata": {},
   "outputs": [
    {
     "name": "stdout",
     "output_type": "stream",
     "text": [
      "3\n",
      "4\n",
      "5\n"
     ]
    }
   ],
   "source": [
    "dataList = [{'a': [1, 2]}, {'b': [2, 2]}, {'c': [3, 2]}]\n",
    "for index in range(len(dataList)):\n",
    "    for key in dataList[index]:\n",
    "        print(sum(dataList[index][key]))"
   ]
  },
  {
   "cell_type": "code",
   "execution_count": 9,
   "metadata": {},
   "outputs": [
    {
     "name": "stdout",
     "output_type": "stream",
     "text": [
      "0 1 1 2 3 5 8 13 21 "
     ]
    }
   ],
   "source": [
    "k = 7\n",
    "\n",
    "first_item = 0\n",
    "second_item = 1\n",
    "for item in range(k):\n",
    "    if(item == 0):\n",
    "        print(first_item, second_item, end=' ')\n",
    "    out_item = first_item + second_item\n",
    "    print(out_item, end=' ')\n",
    "    first_item = second_item\n",
    "    second_item = out_item\n"
   ]
  },
  {
   "cell_type": "code",
   "execution_count": 16,
   "metadata": {},
   "outputs": [
    {
     "data": {
      "text/plain": [
       "[3, 2, 1]"
      ]
     },
     "execution_count": 16,
     "metadata": {},
     "output_type": "execute_result"
    }
   ],
   "source": [
    "myList = [1, 2, 3]\n",
    "\n",
    "myList[::-1]"
   ]
  }
 ],
 "metadata": {
  "kernelspec": {
   "display_name": "base",
   "language": "python",
   "name": "python3"
  },
  "language_info": {
   "codemirror_mode": {
    "name": "ipython",
    "version": 3
   },
   "file_extension": ".py",
   "mimetype": "text/x-python",
   "name": "python",
   "nbconvert_exporter": "python",
   "pygments_lexer": "ipython3",
   "version": "3.9.13"
  },
  "orig_nbformat": 4,
  "vscode": {
   "interpreter": {
    "hash": "53c0bcdf509a76f6b146b1d814b6daf120252df840aefcaacaf26e552841ecb9"
   }
  }
 },
 "nbformat": 4,
 "nbformat_minor": 2
}

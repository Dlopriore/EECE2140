{
 "cells": [
  {
   "cell_type": "code",
   "execution_count": 47,
   "metadata": {},
   "outputs": [
    {
     "name": "stdout",
     "output_type": "stream",
     "text": [
      "[[1, 4, 6], [2, 5, 7]]\n"
     ]
    }
   ],
   "source": [
    "A = [[1, 2], [4, 5], [6, 7]] \n",
    "\n",
    "def transposeMatrix(inMat):\n",
    "\n",
    "    new_Mat = [[inMat[col][row] for col in range(len(inMat))] for row in range(len(inMat[0]))]\n",
    "        \n",
    "    return(new_Mat)\n",
    "\n",
    "print(transposeMatrix(A))"
   ]
  },
  {
   "cell_type": "code",
   "execution_count": 2,
   "metadata": {},
   "outputs": [
    {
     "name": "stdout",
     "output_type": "stream",
     "text": [
      "-4\n"
     ]
    }
   ],
   "source": [
    "A = [[-3, -1, 2], [0, 4, 1], [1, -1, -5]] \n",
    "\n",
    "def traceMatrix(inMat):\n",
    "    new_sum = 0\n",
    "    for k in range(len(inMat)):\n",
    "        new_sum += inMat[k][k]\n",
    "    return new_sum\n",
    "\n",
    "print(traceMatrix(A))    \n",
    "    "
   ]
  },
  {
   "cell_type": "code",
   "execution_count": 4,
   "metadata": {},
   "outputs": [
    {
     "name": "stdout",
     "output_type": "stream",
     "text": [
      "[3, 6, -1, 9]\n"
     ]
    }
   ],
   "source": [
    "A = [[3, 6, -4, 6], [-8, -4, -1, -7], [-5, 3, -1, 9]] \n",
    "\n",
    "def maxMatrix(inMat, modeSelect=0):\n",
    "    if modeSelect == 0:\n",
    "        # return a list of maximum values in each row\n",
    "        return [max(row) for row in inMat]\n",
    "    if modeSelect == 1:\n",
    "        # return a list of maximum values in each column\n",
    "        num_cols = len(inMat[0])\n",
    "        max_values = []\n",
    "        for col in range(num_cols):\n",
    "            max_val = inMat[0][col]\n",
    "            for row in range(1, len(inMat)):\n",
    "                if inMat[row][col] > max_val:\n",
    "                    max_val = inMat[row][col]\n",
    "            max_values.append(max_val)\n",
    "        return max_values\n",
    "\n",
    "\n",
    "print(maxMatrix(A, modeSelect=1))"
   ]
  },
  {
   "cell_type": "code",
   "execution_count": 37,
   "metadata": {},
   "outputs": [
    {
     "name": "stdout",
     "output_type": "stream",
     "text": [
      "[[10, 10, 10], [10, 10, 10], [10, 10, 10]]\n",
      "[[-8, -6, -4], [-2, 0, 2], [4, 6, 8]]\n",
      "[[9, 16, 21], [24, 25, 24], [21, 16, 9]]\n"
     ]
    }
   ],
   "source": [
    "# Addition of a matrix\n",
    "a = [[1, 2, 3], [4, 5, 6], [7, 8, 9]]\n",
    "b = [[9, 8, 7], [6, 5, 4], [3, 2, 1]]\n",
    "c = [[0 for x in range(3)] for y in range(3)]\n",
    "\n",
    "for row in range(len(a)):\n",
    "    for col in range(len(a[0])):\n",
    "        c[row][col] = a[row][col] + b[row][col]\n",
    "print(c)\n",
    "\n",
    "# Subtraction of a matrix\n",
    "a = [[1, 2, 3], [4, 5, 6], [7, 8, 9]]\n",
    "b = [[9, 8, 7], [6, 5, 4], [3, 2, 1]]\n",
    "c = [[0 for x in range(3)] for y in range(3)]\n",
    "\n",
    "for row in range(len(a)):\n",
    "    for col in range(len(a[0])):\n",
    "        c[row][col] = a[row][col] - b[row][col]\n",
    "print(c)\n",
    "\n",
    "# Multiplication of a matrix\n",
    "a = [[1, 2, 3], [4, 5, 6], [7, 8, 9]]\n",
    "b = [[9, 8, 7], [6, 5, 4], [3, 2, 1]]\n",
    "c = [[0 for x in range(3)] for y in range(3)]\n",
    "\n",
    "for row in range(len(a)):\n",
    "    for col in range(len(a[0])):\n",
    "        c[row][col] = a[row][col] * b[row][col]\n",
    "print(c)"
   ]
  },
  {
   "cell_type": "code",
   "execution_count": 45,
   "metadata": {},
   "outputs": [
    {
     "name": "stdout",
     "output_type": "stream",
     "text": [
      "[[6], [15], [17]]\n"
     ]
    }
   ],
   "source": [
    "mat = [[1, 2, 3], [4, 5, 6], [7, 8, 9]]\n",
    "out_list = []\n",
    "newlist = []\n",
    "for row in range(len(mat)):\n",
    "    for col in range(len(mat[0])):\n",
    "        out_list.append(mat[row][col])\n",
    "newlist.append([sum(out_list[0:3])])\n",
    "newlist.append([sum(out_list[3:6])])\n",
    "newlist.append([sum(out_list[7:])])\n",
    "print(newlist)"
   ]
  }
 ],
 "metadata": {
  "kernelspec": {
   "display_name": "base",
   "language": "python",
   "name": "python3"
  },
  "language_info": {
   "codemirror_mode": {
    "name": "ipython",
    "version": 3
   },
   "file_extension": ".py",
   "mimetype": "text/x-python",
   "name": "python",
   "nbconvert_exporter": "python",
   "pygments_lexer": "ipython3",
   "version": "3.9.13 (main, Aug 25 2022, 18:29:29) \n[Clang 12.0.0 ]"
  },
  "orig_nbformat": 4,
  "vscode": {
   "interpreter": {
    "hash": "53c0bcdf509a76f6b146b1d814b6daf120252df840aefcaacaf26e552841ecb9"
   }
  }
 },
 "nbformat": 4,
 "nbformat_minor": 2
}

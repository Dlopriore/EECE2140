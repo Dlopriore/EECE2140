{
 "cells": [
  {
   "cell_type": "code",
   "execution_count": 1,
   "metadata": {},
   "outputs": [
    {
     "name": "stdout",
     "output_type": "stream",
     "text": [
      "55\n"
     ]
    }
   ],
   "source": [
    "def mystery(x):\n",
    "    y = 0\n",
    "    for value in x:\n",
    "        y += value ** 2\n",
    "    return y\n",
    "\n",
    "p = [1, 2, 3, 4, 5]\n",
    "# 1 + 4 + 9 + 16 + 25 \n",
    "print(mystery(p))"
   ]
  },
  {
   "cell_type": "code",
   "execution_count": null,
   "metadata": {},
   "outputs": [],
   "source": [
    "for i in range((7-2)):\n",
    "    sum_Next_Position = first_Position_Fibonacci + second_Position_Fibonacci\n",
    "    print(sum_Next_Position, end=\", \")\n",
    "\n",
    "    # to show the shift in terms when moving on to the next number\n",
    "    first_Position_Fibonacci = second_Position_Fibonacci\n",
    "    second_Position_Fibonacci = sum_Next_Position"
   ]
  }
 ],
 "metadata": {
  "kernelspec": {
   "display_name": "base",
   "language": "python",
   "name": "python3"
  },
  "language_info": {
   "codemirror_mode": {
    "name": "ipython",
    "version": 3
   },
   "file_extension": ".py",
   "mimetype": "text/x-python",
   "name": "python",
   "nbconvert_exporter": "python",
   "pygments_lexer": "ipython3",
   "version": "3.9.13 (main, Aug 25 2022, 18:29:29) \n[Clang 12.0.0 ]"
  },
  "orig_nbformat": 4,
  "vscode": {
   "interpreter": {
    "hash": "53c0bcdf509a76f6b146b1d814b6daf120252df840aefcaacaf26e552841ecb9"
   }
  }
 },
 "nbformat": 4,
 "nbformat_minor": 2
}

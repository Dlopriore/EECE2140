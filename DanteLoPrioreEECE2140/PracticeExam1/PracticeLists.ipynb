{
 "cells": [
  {
   "cell_type": "code",
   "execution_count": 1,
   "metadata": {},
   "outputs": [
    {
     "name": "stdout",
     "output_type": "stream",
     "text": [
      "[5]\n",
      "2\n",
      "5\n",
      "2\n",
      "2\n",
      "2\n",
      "[(2, 4), (5, 1)]\n"
     ]
    }
   ],
   "source": [
    "import random \n",
    "def unique_numbers(in_list):\n",
    "    out_list = list()\n",
    "    for item in in_list:\n",
    "        if(in_list.count(item) == 1):\n",
    "            out_list.append(item)\n",
    "    return out_list\n",
    "\n",
    "def freq_num(in_list):\n",
    "    out_list = list()\n",
    "    freq_list = list()\n",
    "    for item in in_list:\n",
    "        print(item)\n",
    "        if(item not in freq_list):\n",
    "            freq_list.append(item)\n",
    "            out_list.append((item, in_list.count(item)))\n",
    "    return out_list\n",
    "\n",
    "cur_list = list()\n",
    "for x in range(5):\n",
    "    cur_list.append(random.randint(2, 6))\n",
    "\n",
    "print(unique_numbers(cur_list))\n",
    "print(freq_num(cur_list))"
   ]
  },
  {
   "cell_type": "code",
   "execution_count": 14,
   "metadata": {},
   "outputs": [
    {
     "name": "stdout",
     "output_type": "stream",
     "text": [
      "4\n",
      "-1.3333333333333333\n",
      "0.8\n",
      "-0.5714285714285714\n",
      "0.4444444444444444\n",
      "-0.36363636363636365\n"
     ]
    }
   ],
   "source": [
    "# k = int(input(\"How many terms would you like in the series:\"))\n",
    "out_num = 4\n",
    "dem_num = 3\n",
    "for terms in range(6):\n",
    "    if(terms == 0):\n",
    "        print(out_num)\n",
    "    else:\n",
    "        sign = ((-1) ** terms)\n",
    "        ret_num = (sign * out_num)/(dem_num)\n",
    "        dem_num += 2\n",
    "        print(ret_num)\n"
   ]
  },
  {
   "cell_type": "code",
   "execution_count": 15,
   "metadata": {},
   "outputs": [
    {
     "name": "stdout",
     "output_type": "stream",
     "text": [
      "1\n",
      "1.0\n",
      "0.5\n",
      "0.16666666666666666\n",
      "0.047619047619047616\n",
      "0.011363636363636364\n"
     ]
    }
   ],
   "source": [
    "out_num = 1\n",
    "dem_num = 1\n",
    "for terms in range(6):\n",
    "    if(terms == 0):\n",
    "        print(out_num)\n",
    "    else:\n",
    "        ret_num = out_num/dem_num\n",
    "        print(ret_num)\n",
    "        dem_num = (dem_num + 1)*terms\n",
    "    "
   ]
  },
  {
   "cell_type": "code",
   "execution_count": 27,
   "metadata": {},
   "outputs": [
    {
     "name": "stdout",
     "output_type": "stream",
     "text": [
      "**********\n",
      "*********\n",
      "********\n",
      "*******\n",
      "******\n",
      "*****\n",
      "****\n",
      "***\n",
      "**\n",
      "*\n"
     ]
    }
   ],
   "source": [
    "col = 1\n",
    "row = 1\n",
    "for row in range(10):\n",
    "    print('*'*(10 - row))"
   ]
  },
  {
   "cell_type": "code",
   "execution_count": 66,
   "metadata": {},
   "outputs": [
    {
     "name": "stdout",
     "output_type": "stream",
     "text": [
      "['P', 'y', 't', 'h', 'o', 'n']\n",
      "0\n",
      "1\n",
      "2\n",
      "[1, 8, 27]\n"
     ]
    }
   ],
   "source": [
    "letters = []\n",
    "letters += 'Python'\n",
    "\n",
    "print(letters)\n",
    "\n",
    "a = [1, 2, 3]\n",
    "b = [1, 2, 3]\n",
    "c = [1, 2, 3, 4]\n",
    "\n",
    "a == b # True: corresponding elements in both are equal\n",
    "a == c # False: a and c have different elements and lengths\n",
    "a < c # True: a has fewer elements than c\n",
    "c >= b # True: elements 0-2 are equal but c has more elements\n",
    "\n",
    "outlist = list()\n",
    "for k in range(len(a)):\n",
    "    print(k)\n",
    "    outlist.append(a[k] ** 3)\n",
    "print(outlist)"
   ]
  },
  {
   "cell_type": "code",
   "execution_count": 58,
   "metadata": {},
   "outputs": [
    {
     "name": "stdout",
     "output_type": "stream",
     "text": [
      "[1, 2, 3, 4, 5, 6, 7, 8, 9, 10, 11, 12, 13, 14, 15]\n",
      "[2, 4, 6, 8, 10, 12, 14]\n",
      "[1, 2, 3, 4, 5]\n",
      "[]\n"
     ]
    }
   ],
   "source": [
    "list_out = []\n",
    "\n",
    "\n",
    "list_out = list(range(1,16))\n",
    "\n",
    "print(list_out)\n",
    "\n",
    "print(list_out[1::2])\n",
    "\n",
    "list_out = list(range(1,16))\n",
    "\n",
    "list_out[5:10] = [0] * len(list_out[5:10])\n",
    "\n",
    "print(list_out[:5])\n",
    "\n",
    "list_out[:] = []\n",
    "print(list_out)"
   ]
  },
  {
   "cell_type": "code",
   "execution_count": 76,
   "metadata": {},
   "outputs": [],
   "source": [
    "tele_list = []\n",
    "str_telephone_number = input(\"Enter your phone number\")\n",
    "tele_list += str_telephone_number\n",
    "for item in tele_list:\n",
    "    \n",
    "    rand_digit = random.randint(0,2)\n",
    "    char_list = []\n",
    "    if (item == '0') or (item == '1'):\n",
    "        print(\"\")\n",
    "    if (item == '0'):\n",
    "        print(f' ')\n",
    "    if (item == '1'):\n",
    "        print(f' ')\n",
    "    if (item == '2'):\n",
    "        char_list += \"abc\"\n",
    "        print(f'{char_list[rand_digit]}')\n",
    "    if (item == '3'):\n",
    "        char_list += \"def\"\n",
    "        print(f'{char_list[rand_digit]}')\n",
    "    if (item == '4'):\n",
    "        char_list += \"ghi\"\n",
    "        print(f'{char_list[rand_digit]}')\n",
    "    if (item == '5'):\n",
    "        char_list += \"jkl\"\n",
    "        print(f'{char_list[rand_digit]}')\n",
    "    if (item == '6'):\n",
    "        char_list += \"mno\"\n",
    "        print(f'{char_list[rand_digit]}')\n",
    "    if (item == '7'):\n",
    "        char_list += \"prs\"\n",
    "        print(f'{char_list[rand_digit]}')\n",
    "    if (item == '8'):\n",
    "        char_list += \"tuv\"\n",
    "        print(f'{char_list[rand_digit]}')\n",
    "    if (item == '9'):\n",
    "        char_list += \"wxy\"\n",
    "        print(f'{char_list[rand_digit]}')"
   ]
  },
  {
   "cell_type": "code",
   "execution_count": 80,
   "metadata": {},
   "outputs": [
    {
     "name": "stdout",
     "output_type": "stream",
     "text": [
      "[-4.0, -1.3333333333333333, -0.8, -0.5714285714285714, -0.4444444444444444]\n"
     ]
    }
   ],
   "source": [
    "out_list = []\n",
    "for k in range(5):\n",
    "\n",
    "    sign = -1 ** k\n",
    "    out_list.append((4*(sign)/((2*k)+1)))\n",
    "print(out_list)"
   ]
  },
  {
   "cell_type": "code",
   "execution_count": 13,
   "metadata": {},
   "outputs": [
    {
     "name": "stdout",
     "output_type": "stream",
     "text": [
      "17\n",
      "\n",
      "1\n",
      "22\n",
      "333\n",
      "4444\n",
      "55555\n",
      "666666\n",
      "7777777\n",
      "88888888\n",
      "999999999\n"
     ]
    }
   ],
   "source": [
    "number = \"287\"\n",
    "list_num = list()\n",
    "for i in range(len(number)):\n",
    "    list_num.append(int(number[i]))\n",
    "print(sum(list_num))\n",
    "\n",
    "\n",
    "for i in range(10):\n",
    "    print(str(i)*i)"
   ]
  },
  {
   "cell_type": "code",
   "execution_count": 23,
   "metadata": {},
   "outputs": [
    {
     "name": "stdout",
     "output_type": "stream",
     "text": [
      "Not valid leap year\n"
     ]
    },
    {
     "data": {
      "text/plain": [
       "True"
      ]
     },
     "execution_count": 23,
     "metadata": {},
     "output_type": "execute_result"
    }
   ],
   "source": [
    "year = 1700\n",
    "if(((year % 4 == 0) and (year % 100 != 0)) or (year % 400 == 0)):\n",
    "    print(\"A valid leap year\")\n",
    "else:\n",
    "    print(\"Not valid leap year\")\n",
    "\n",
    "5 < 2 and not 3 < 5 or 5 < 10"
   ]
  }
 ],
 "metadata": {
  "kernelspec": {
   "display_name": "base",
   "language": "python",
   "name": "python3"
  },
  "language_info": {
   "codemirror_mode": {
    "name": "ipython",
    "version": 3
   },
   "file_extension": ".py",
   "mimetype": "text/x-python",
   "name": "python",
   "nbconvert_exporter": "python",
   "pygments_lexer": "ipython3",
   "version": "3.9.13 (main, Aug 25 2022, 18:29:29) \n[Clang 12.0.0 ]"
  },
  "orig_nbformat": 4,
  "vscode": {
   "interpreter": {
    "hash": "53c0bcdf509a76f6b146b1d814b6daf120252df840aefcaacaf26e552841ecb9"
   }
  }
 },
 "nbformat": 4,
 "nbformat_minor": 2
}

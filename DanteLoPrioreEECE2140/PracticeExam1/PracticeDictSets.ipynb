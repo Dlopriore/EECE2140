{
 "cells": [
  {
   "cell_type": "code",
   "execution_count": 41,
   "metadata": {},
   "outputs": [
    {
     "name": "stdout",
     "output_type": "stream",
     "text": [
      "['a', 'b', 'c']\n",
      "('Susan', '92.33')\n",
      "('Eduardo', '85.67')\n",
      "('Azizi', '87.33')\n",
      "('Pantipa', '93.33')\n",
      "('Shawndalisa', '83.00')\n",
      "('Shawndalisa', '83.00')\n",
      "110.42\n",
      "VT\n",
      "Vermont\n",
      "NH\n",
      "New Hampshire\n",
      "MA\n",
      "Massachusetts\n",
      "Fl\n",
      "Florida\n"
     ]
    }
   ],
   "source": [
    "p = list()\n",
    "p += \"abc\"\n",
    "\n",
    "print(p)\n",
    "\n",
    "states = {'VT': 'Vermont', 'NH': 'New Hampshire', 'MA': 'Massachusetts'}\n",
    "\n",
    "states['Fl'] = \"Florida\"\n",
    "\n",
    "grade_book = {'Susan': [92, 85, 100], 'Eduardo': [83, 95, 79], 'Azizi': [91, 89, 82], 'Pantipa': [97, 91, 92]}\n",
    "grade_book.update({\"Shawndalisa\": [69, 100, 80]})\n",
    "\n",
    "sum_grades = 0\n",
    "for key_names, values_grades in grade_book.items():\n",
    "    out_t = tuple()\n",
    "    out_t += (key_names, f'{(sum(values_grades)/ 3):.2f}')\n",
    "    print(out_t)\n",
    "    sum_grades += sum(values_grades)\n",
    "\n",
    "\n",
    "average_grades = sum_grades/12\n",
    "print(out_t)\n",
    "print(f'{average_grades:.2f}')\n",
    "\n",
    "\n",
    "\n",
    "for key, value in states.items():\n",
    "    print(key)\n",
    "    print(value)\n"
   ]
  },
  {
   "cell_type": "code",
   "execution_count": 45,
   "metadata": {},
   "outputs": [
    {
     "name": "stdout",
     "output_type": "stream",
     "text": [
      "{0: 0, 1: 1, 2: 8, 3: 27, 4: 64, 5: 125}\n"
     ]
    }
   ],
   "source": [
    "dict1 = {}\n",
    "for number in range(6):\n",
    "    dict1.update({number: number**3})\n",
    "print(dict1)"
   ]
  },
  {
   "cell_type": "code",
   "execution_count": 58,
   "metadata": {},
   "outputs": [
    {
     "name": "stdout",
     "output_type": "stream",
     "text": [
      "{'h', 'y', 'l', 'g', 'i', ' '}\n"
     ]
    }
   ],
   "source": [
    "phrase = input(\"Enter a word\")\n",
    "in_list = []\n",
    "freq = []\n",
    "out_set = set()\n",
    "in_list += phrase.lower()\n",
    "for item in in_list:\n",
    "    if (item in in_list) and (item not in freq):\n",
    "        freq.append(item)\n",
    "        \n",
    "        out_set.add(item)\n",
    "\n",
    "print(out_set)"
   ]
  },
  {
   "cell_type": "code",
   "execution_count": 60,
   "metadata": {},
   "outputs": [
    {
     "name": "stdout",
     "output_type": "stream",
     "text": [
      "{'Canada': 'ca', 'United States': 'us', 'Mexico': 'mx', 'Sweden': 'se'}\n"
     ]
    }
   ],
   "source": [
    "tlds = {'Canada': 'ca', 'United States': 'us', 'Mexico': 'mx'}\n",
    "\n",
    "tlds.update({'Sweden': 'sw'})\n",
    "tlds['Sweden'] = 'se'\n",
    "print(tlds)\n",
    "\n"
   ]
  }
 ],
 "metadata": {
  "kernelspec": {
   "display_name": "base",
   "language": "python",
   "name": "python3"
  },
  "language_info": {
   "codemirror_mode": {
    "name": "ipython",
    "version": 3
   },
   "file_extension": ".py",
   "mimetype": "text/x-python",
   "name": "python",
   "nbconvert_exporter": "python",
   "pygments_lexer": "ipython3",
   "version": "3.9.13 (main, Aug 25 2022, 18:29:29) \n[Clang 12.0.0 ]"
  },
  "orig_nbformat": 4,
  "vscode": {
   "interpreter": {
    "hash": "53c0bcdf509a76f6b146b1d814b6daf120252df840aefcaacaf26e552841ecb9"
   }
  }
 },
 "nbformat": 4,
 "nbformat_minor": 2
}

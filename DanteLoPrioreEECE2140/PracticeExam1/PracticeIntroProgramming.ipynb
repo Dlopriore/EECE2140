{
 "cells": [
  {
   "cell_type": "code",
   "execution_count": 3,
   "metadata": {},
   "outputs": [
    {
     "name": "stdout",
     "output_type": "stream",
     "text": [
      "3.141592653589793\n"
     ]
    }
   ],
   "source": [
    "import math\n",
    "def circle_measurements(radius, mode='c'):\n",
    "    out_ans = -1\n",
    "    if(mode == 'c'):\n",
    "        out_ans = ((2*math.pi)*radius)\n",
    "    if(mode == 'd'):\n",
    "        out_ans = (2*radius)\n",
    "    if(mode == 'a'):\n",
    "        out_ans = (math.pi *(radius ** 2))\n",
    "    return out_ans\n",
    "\n",
    "print(circle_measurements(1, 'a'))"
   ]
  }
 ],
 "metadata": {
  "kernelspec": {
   "display_name": "base",
   "language": "python",
   "name": "python3"
  },
  "language_info": {
   "codemirror_mode": {
    "name": "ipython",
    "version": 3
   },
   "file_extension": ".py",
   "mimetype": "text/x-python",
   "name": "python",
   "nbconvert_exporter": "python",
   "pygments_lexer": "ipython3",
   "version": "3.9.13 (main, Aug 25 2022, 18:29:29) \n[Clang 12.0.0 ]"
  },
  "orig_nbformat": 4,
  "vscode": {
   "interpreter": {
    "hash": "53c0bcdf509a76f6b146b1d814b6daf120252df840aefcaacaf26e552841ecb9"
   }
  }
 },
 "nbformat": 4,
 "nbformat_minor": 2
}

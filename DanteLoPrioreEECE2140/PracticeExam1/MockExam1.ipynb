{
 "cells": [
  {
   "cell_type": "code",
   "execution_count": 16,
   "metadata": {},
   "outputs": [
    {
     "name": "stdout",
     "output_type": "stream",
     "text": [
      "1.0\n",
      "True\n"
     ]
    }
   ],
   "source": [
    "x = 14 // 3 ** 2 * 2 ** 3 ** 2 / 2 % 5\n",
    "print(x)\n",
    "print('Imagine' <= 'book')"
   ]
  },
  {
   "cell_type": "code",
   "execution_count": 9,
   "metadata": {},
   "outputs": [
    {
     "data": {
      "text/plain": [
       "512"
      ]
     },
     "execution_count": 9,
     "metadata": {},
     "output_type": "execute_result"
    }
   ],
   "source": [
    "2**3**2\n"
   ]
  },
  {
   "cell_type": "code",
   "execution_count": 4,
   "metadata": {},
   "outputs": [],
   "source": [
    "var1 = [k**2 for k in range(5)] \n",
    " \n",
    "var2 = tuple([-k for k in range(4)]) \n",
    "\n",
    "var1 += var2 \n",
    "#var2 += var1 \n",
    "#var2[-1] = -50 \n",
    "var1[5] = -var2[0] \n",
    "#var2.pop() \n",
    "var1[2:4] = [-1, -2, -5, -9] \n",
    "#var2.sort() \n",
    "var1.extend(var2) \n",
    "#var1.remove(-4) \n",
    "  "
   ]
  },
  {
   "cell_type": "code",
   "execution_count": 18,
   "metadata": {},
   "outputs": [
    {
     "name": "stdout",
     "output_type": "stream",
     "text": [
      "[1, 4]\n",
      "(2.5, 4)\n"
     ]
    }
   ],
   "source": [
    "def mystery(x): \n",
    "  y = [k for k in x if k%3==1] \n",
    "  print(y)\n",
    "  return sum(y)/len(y), max(y) \n",
    "\n",
    "print(mystery((1, 2, 3, 4, 5, 6)))"
   ]
  },
  {
   "cell_type": "code",
   "execution_count": 19,
   "metadata": {},
   "outputs": [
    {
     "name": "stdout",
     "output_type": "stream",
     "text": [
      "The updated dictionary is {31: 'May', 28: 'February', 30: 'June'}\n"
     ]
    }
   ],
   "source": [
    "monthDict  =  {'January':31,  'February':28,  'March':31,  'April':30, \n",
    "'May':31, 'June':30} \n",
    " \n",
    "monthDictUpdated = {b:a for a, b in monthDict.items()} \n",
    " \n",
    "print(f'The updated dictionary is {monthDictUpdated}')"
   ]
  },
  {
   "cell_type": "code",
   "execution_count": 31,
   "metadata": {},
   "outputs": [
    {
     "name": "stdout",
     "output_type": "stream",
     "text": [
      "{0, 1, 2, 3, 4, 5, -1}\n",
      "{0, 9, 4, 1}\n",
      "{2, 3, 5, -1}\n",
      "{0, 1, 4}\n",
      "{2, 3, 5, 9, -1}\n"
     ]
    }
   ],
   "source": [
    "set1 = {k-2 for k in range(1,8)}\n",
    "print(set1)\n",
    "set1_out = {0, 1, 2, 3, 4, 5, -1}\n",
    "\n",
    "set2 = set([k**2 for k in range(-3,3)]) \n",
    "print(set2)\n",
    "set2_out = {9, 4, 1, 0}\n",
    "\n",
    "print(set1 - set2) \n",
    "\n",
    "print(set1 & set2) \n",
    "# | for union.\n",
    "# & for intersection.\n",
    "# – for difference\n",
    "# ^ for symmetric difference\n",
    "\n",
    "print(set2.symmetric_difference(set1)) \n",
    "\n",
    "\n",
    "# Program to perform different set operations\n",
    "# as we do in  mathematics\n",
    "  \n",
    "# sets are define\n",
    "A = {0, 2, 4, 6, 8}\n",
    "B = {1, 2, 3, 4, 5}\n",
    "  \n",
    "# union\n",
    "print(\"Union :\", A | B)\n",
    "  \n",
    "# intersection\n",
    "print(\"Intersection :\", A & B)\n",
    "  \n",
    "# difference\n",
    "print(\"Difference :\", A - B)\n",
    "  \n",
    "# symmetric difference\n",
    "print(\"Symmetric difference :\", A ^ B)\n",
    "\n",
    "#Output :\n",
    "# Union : [0, 1, 2, 3, 4, 5, 6, 8]\n",
    "# Intersection : [2, 4]\n",
    "# Difference : [8, 0, 6]\n",
    "# Symmetric difference : [0, 1, 3, 5, 6, 8]"
   ]
  },
  {
   "cell_type": "code",
   "execution_count": 65,
   "metadata": {},
   "outputs": [
    {
     "name": "stdout",
     "output_type": "stream",
     "text": [
      "[3, 6, -1, 9]\n"
     ]
    }
   ],
   "source": [
    "A = [[3, 6, -4, 6], [-8, -4, -1, -7], [-5, 3, -1, 9]] \n",
    "\n",
    "def maxMatrix(inMat, modeSelect=0):\n",
    "    if modeSelect == 0:\n",
    "        # return a list of maximum values in each row\n",
    "        return [max(row) for row in inMat]\n",
    "    elif modeSelect == 1:\n",
    "        # return a list of maximum values in each column\n",
    "        num_cols = len(inMat[0])\n",
    "        max_values = []\n",
    "        for col in range(num_cols):\n",
    "            max_val = inMat[0][col]\n",
    "            for row in range(1, len(inMat)):\n",
    "                if inMat[row][col] > max_val:\n",
    "                    max_val = inMat[row][col]\n",
    "            max_values.append(max_val)\n",
    "        return max_values\n",
    "\n",
    "\n",
    "print(maxMatrix(A, modeSelect=1))\n"
   ]
  },
  {
   "cell_type": "code",
   "execution_count": 8,
   "metadata": {},
   "outputs": [
    {
     "name": "stdout",
     "output_type": "stream",
     "text": [
      "{1: (90, 'Morgan'), 2: (92, 'Alice'), 3: (92, 'Morgan'), 4: (85, 'Bob')}\n"
     ]
    }
   ],
   "source": [
    " \n",
    "gradebook  =  {'Alice':[85,  92,  74,  77],  'Bob':[54,  38,  72,  85],  'Morgan':[90, 81, 92, 79]} \n",
    "\n",
    "bestGrade = {1:(90, 'Morgan'), 2:(92, 'Alice'), 3:(92, 'Morgan'), 4:(85, 'Bob')} \n",
    "\n",
    "def findBestGrade(gradebook):\n",
    "    bestGrade = {}\n",
    "    for exam in range(1, len(gradebook['Alice'])+1):\n",
    "        max_grade = 0\n",
    "        top_student = ''\n",
    "        for name, grades in gradebook.items():\n",
    "            if grades[exam-1] > max_grade:\n",
    "                max_grade = grades[exam-1]\n",
    "                top_student = name\n",
    "        bestGrade[exam] = (max_grade, top_student)\n",
    "    return bestGrade\n",
    "\n",
    "print(findBestGrade(gradebook))"
   ]
  },
  {
   "cell_type": "code",
   "execution_count": 10,
   "metadata": {},
   "outputs": [
    {
     "name": "stdout",
     "output_type": "stream",
     "text": [
      "{4: ([90, 81, 92, 79], 'Morgan')}\n"
     ]
    }
   ],
   "source": []
  },
  {
   "cell_type": "code",
   "execution_count": 99,
   "metadata": {},
   "outputs": [
    {
     "name": "stdout",
     "output_type": "stream",
     "text": [
      "-4\n"
     ]
    }
   ],
   "source": [
    "A = [[-3, -1, 2], [0, 4, 1], [1, -1, -5]] \n",
    "\n",
    "def traceMatrix(inMat):\n",
    "    new_sum = 0\n",
    "    for k in range(len(inMat)):\n",
    "        new_sum += inMat[k][k]\n",
    "    return new_sum\n",
    "\n",
    "print(traceMatrix(A))    \n",
    "    \n"
   ]
  },
  {
   "cell_type": "code",
   "execution_count": 139,
   "metadata": {},
   "outputs": [
    {
     "name": "stdout",
     "output_type": "stream",
     "text": [
      "[[1, 4, 6], [2, 5, 7]]\n"
     ]
    }
   ],
   "source": [
    "A = [[1, 2], [4, 5], [6, 7]] \n",
    "\n",
    "def transposeMatrix(inMat):\n",
    "\n",
    "    new_Mat = [[inMat[j][i] for j in range(len(inMat))] for i in range(len(inMat[0]))]\n",
    "        \n",
    "    return(new_Mat)\n",
    "\n",
    "print(transposeMatrix(A))"
   ]
  },
  {
   "cell_type": "code",
   "execution_count": 152,
   "metadata": {},
   "outputs": [
    {
     "name": "stdout",
     "output_type": "stream",
     "text": [
      "[1, 2, 4, 1, 1, 5]\n"
     ]
    }
   ],
   "source": [
    "A = [3, 1, 2, 0, 4, 1, 9, 1, 5] \n",
    "B = [1, 2, 4, 5, 6, 7]\n",
    "\n",
    "type_a = len(A)\n",
    "out_list = list()\n",
    "freq = list()\n",
    "for k in range(type_a):\n",
    "    if(A[k] in B):\n",
    "        out_list.append(A[k])\n",
    "\n",
    "\n",
    "print(out_list)"
   ]
  }
 ],
 "metadata": {
  "kernelspec": {
   "display_name": "base",
   "language": "python",
   "name": "python3"
  },
  "language_info": {
   "codemirror_mode": {
    "name": "ipython",
    "version": 3
   },
   "file_extension": ".py",
   "mimetype": "text/x-python",
   "name": "python",
   "nbconvert_exporter": "python",
   "pygments_lexer": "ipython3",
   "version": "3.9.13 (main, Aug 25 2022, 18:29:29) \n[Clang 12.0.0 ]"
  },
  "orig_nbformat": 4,
  "vscode": {
   "interpreter": {
    "hash": "53c0bcdf509a76f6b146b1d814b6daf120252df840aefcaacaf26e552841ecb9"
   }
  }
 },
 "nbformat": 4,
 "nbformat_minor": 2
}

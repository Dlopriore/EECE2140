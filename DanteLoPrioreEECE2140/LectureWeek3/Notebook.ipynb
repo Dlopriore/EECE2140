{
 "cells": [
  {
   "cell_type": "code",
   "execution_count": null,
   "metadata": {},
   "outputs": [],
   "source": [
    "print(1)"
   ]
  }
 ],
 "metadata": {
  "kernelspec": {
   "display_name": "base",
   "language": "python",
   "name": "python3"
  },
  "language_info": {
   "name": "python",
   "version": "3.9.13 (main, Aug 25 2022, 18:29:29) \n[Clang 12.0.0 ]"
  },
  "orig_nbformat": 4,
  "vscode": {
   "interpreter": {
    "hash": "53c0bcdf509a76f6b146b1d814b6daf120252df840aefcaacaf26e552841ecb9"
   }
  }
 },
 "nbformat": 4,
 "nbformat_minor": 2
}

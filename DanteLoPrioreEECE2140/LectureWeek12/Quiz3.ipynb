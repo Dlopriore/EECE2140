{
 "cells": [
  {
   "cell_type": "code",
   "execution_count": 81,
   "metadata": {},
   "outputs": [
    {
     "name": "stdout",
     "output_type": "stream",
     "text": [
      "MF | 0\n",
      "MF\n",
      "['SF', 'MF', '2F']\n"
     ]
    }
   ],
   "source": [
    "class House:\n",
    "      num_houses = 0\n",
    "      house_type = ['SF', 'MF']\n",
    "      def __init__(self, sqft, price, status):\n",
    "              self.area = sqft\n",
    "              self.price = price\n",
    "              self.status = status\n",
    "      \n",
    "      @property\n",
    "      def status(self):\n",
    "              return self.__status\n",
    "\n",
    "      @status.setter\n",
    "      def status(self, val):\n",
    "              if val in House.house_type:\n",
    "                       self.__status = val\n",
    "              else:\n",
    "                       raise ValueError('The status of the house can only be \"SF\" or \"MF\".')\n",
    "      def __str__(self):\n",
    "        return f'{self.status} | {House.num_houses}'\n",
    "\n",
    "house1 = House(1400, 140000, 'SF')\n",
    "house2 = House(2000, 220000, 'MF')\n",
    "\n",
    "#house1._House__status = 'PL'\n",
    "#house1.__status = 'MF'\n",
    "house1.status = 'MF'\n",
    "house1.house_type += ['2F']\n",
    "print(house1)\n",
    "print(house1.status)\n",
    "print(house1.house_type)\n",
    "#print(house1._House__status)"
   ]
  },
  {
   "cell_type": "code",
   "execution_count": 25,
   "metadata": {},
   "outputs": [
    {
     "name": "stdout",
     "output_type": "stream",
     "text": [
      "2022\n",
      "2022\n",
      "3000\n",
      "3000\n",
      "2020\n",
      "2020\n"
     ]
    }
   ],
   "source": [
    "class Car:\n",
    "    COLORS = {'Blue', 'Red', 'Black'}\n",
    "    def __init__(self, make, model, year, color):\n",
    "        self.make, self.model = make, model\n",
    "        self.year = year\n",
    "        self.color = color\n",
    "\n",
    "    @property\n",
    "    def year(self):\n",
    "        return self.__year\n",
    "\n",
    "    @year.setter\n",
    "    def year(self, val):\n",
    "        if val > 1900:\n",
    "            self.__year = val\n",
    "        else:\n",
    "            raise ValueError('Year must be greater than 1900.')\n",
    "    def __str__(self):\n",
    "        return f'{self.year}'\n",
    "\n",
    "carObj = Car('Toyota', 'Corolla', 2022, 'Blue')\n",
    "print(carObj)\n",
    "carObj.__year = 2020        # This command does not change the value of __year\n",
    "print(carObj)\n",
    "carObj._Car__year = 3000    # This command changes the value of __year to 2020\n",
    "print(carObj)\n",
    "print(carObj._Car__year)\n",
    "carObj.year = 2020          # This command changes the value of __year to 2020\n",
    "print(carObj)\n",
    "print(carObj.year)\n",
    "\n"
   ]
  }
 ],
 "metadata": {
  "kernelspec": {
   "display_name": "base",
   "language": "python",
   "name": "python3"
  },
  "language_info": {
   "codemirror_mode": {
    "name": "ipython",
    "version": 3
   },
   "file_extension": ".py",
   "mimetype": "text/x-python",
   "name": "python",
   "nbconvert_exporter": "python",
   "pygments_lexer": "ipython3",
   "version": "3.9.13"
  },
  "orig_nbformat": 4,
  "vscode": {
   "interpreter": {
    "hash": "53c0bcdf509a76f6b146b1d814b6daf120252df840aefcaacaf26e552841ecb9"
   }
  }
 },
 "nbformat": 4,
 "nbformat_minor": 2
}

{
 "cells": [
  {
   "cell_type": "code",
   "execution_count": null,
   "metadata": {},
   "outputs": [],
   "source": [
    "class Triangle:\n",
    "    def __init__(self, corners):\n",
    "        self.corners = corners\n",
    "    \n",
    "    @property\n",
    "    def corners(self):\n",
    "        return self._corners\n",
    "    \n",
    "    #@corners.setter\n",
    "    #def corners(self, corner_list):\n",
    "\n",
    "    \n",
    "    #def _are_points(points_list):\n",
    "    #    is_point = [isinstance(p, Point) for p in points_list]\n",
    "    \n"
   ]
  },
  {
   "cell_type": "code",
   "execution_count": 9,
   "metadata": {},
   "outputs": [
    {
     "ename": "TypeError",
     "evalue": "'Person' object is not iterable",
     "output_type": "error",
     "traceback": [
      "\u001b[0;31m---------------------------------------------------------------------------\u001b[0m",
      "\u001b[0;31mTypeError\u001b[0m                                 Traceback (most recent call last)",
      "\u001b[0;32m/var/folders/7d/wl2f08gs34bdljddj_g339jw0000gn/T/ipykernel_18988/1577956281.py\u001b[0m in \u001b[0;36m<module>\u001b[0;34m\u001b[0m\n\u001b[1;32m     40\u001b[0m \u001b[0;34m\u001b[0m\u001b[0m\n\u001b[1;32m     41\u001b[0m \u001b[0mt1\u001b[0m \u001b[0;34m=\u001b[0m \u001b[0mTeam\u001b[0m\u001b[0;34m(\u001b[0m\u001b[0mp1\u001b[0m\u001b[0;34m)\u001b[0m\u001b[0;34m\u001b[0m\u001b[0;34m\u001b[0m\u001b[0m\n\u001b[0;32m---> 42\u001b[0;31m \u001b[0mprint\u001b[0m\u001b[0;34m(\u001b[0m\u001b[0mt1\u001b[0m\u001b[0;34m)\u001b[0m\u001b[0;34m\u001b[0m\u001b[0;34m\u001b[0m\u001b[0m\n\u001b[0m",
      "\u001b[0;32m/var/folders/7d/wl2f08gs34bdljddj_g339jw0000gn/T/ipykernel_18988/1577956281.py\u001b[0m in \u001b[0;36m__str__\u001b[0;34m(self)\u001b[0m\n\u001b[1;32m     34\u001b[0m \u001b[0;34m\u001b[0m\u001b[0m\n\u001b[1;32m     35\u001b[0m     \u001b[0;32mdef\u001b[0m \u001b[0m__str__\u001b[0m\u001b[0;34m(\u001b[0m\u001b[0mself\u001b[0m\u001b[0;34m)\u001b[0m\u001b[0;34m:\u001b[0m\u001b[0;34m\u001b[0m\u001b[0;34m\u001b[0m\u001b[0m\n\u001b[0;32m---> 36\u001b[0;31m         \u001b[0;32mreturn\u001b[0m \u001b[0;34m''\u001b[0m\u001b[0;34m.\u001b[0m\u001b[0mjoin\u001b[0m\u001b[0;34m(\u001b[0m\u001b[0;34m[\u001b[0m\u001b[0mstr\u001b[0m\u001b[0;34m(\u001b[0m\u001b[0mmem\u001b[0m\u001b[0;34m)\u001b[0m \u001b[0;32mfor\u001b[0m \u001b[0mmem\u001b[0m \u001b[0;32min\u001b[0m \u001b[0mself\u001b[0m\u001b[0;34m.\u001b[0m\u001b[0mteamMembers\u001b[0m\u001b[0;34m]\u001b[0m\u001b[0;34m)\u001b[0m\u001b[0;34m\u001b[0m\u001b[0;34m\u001b[0m\u001b[0m\n\u001b[0m\u001b[1;32m     37\u001b[0m \u001b[0;34m\u001b[0m\u001b[0m\n\u001b[1;32m     38\u001b[0m \u001b[0mp1\u001b[0m \u001b[0;34m=\u001b[0m \u001b[0mPerson\u001b[0m\u001b[0;34m(\u001b[0m\u001b[0;34m\"Sarah S\"\u001b[0m\u001b[0;34m,\u001b[0m \u001b[0;36m12\u001b[0m\u001b[0;34m,\u001b[0m \u001b[0;34m\"Roxbury\"\u001b[0m\u001b[0;34m,\u001b[0m \u001b[0;34m\"F\"\u001b[0m\u001b[0;34m)\u001b[0m\u001b[0;34m\u001b[0m\u001b[0;34m\u001b[0m\u001b[0m\n",
      "\u001b[0;31mTypeError\u001b[0m: 'Person' object is not iterable"
     ]
    }
   ],
   "source": [
    "class Person:\n",
    "    def __init__(self, name, age, city, gender = 'M'):\n",
    "        self.name = name\n",
    "        self.age = age\n",
    "        self.city = city\n",
    "        self.gender = gender\n",
    "    \n",
    "    @property\n",
    "    def age(self):\n",
    "        return self._age\n",
    "    \n",
    "    @age.setter\n",
    "    def age(self, age_val):\n",
    "        if ((0 <= age_val) and (age_val <= 150)):\n",
    "            self._age = age_val\n",
    "        else:\n",
    "            raise ValueError(\"Age is not in range of 0-150\")\n",
    "    \n",
    "    def __str__(self):\n",
    "        return f'Name: {self.name} | Age: {self.age} | City: {self.city} | Gender: {self.gender}'\n",
    "\n",
    "class Team():\n",
    "    numMembers = 0\n",
    "\n",
    "    def __init__(self, *new_members):\n",
    "        self.teamMembers = []\n",
    "        for cur_member in new_members:\n",
    "            self.add_member(cur_member)\n",
    "    \n",
    "    def add_member(self, new_mem):\n",
    "        if isinstance(new_mem, Person):\n",
    "            self.teamMembers = new_mem\n",
    "            Team.numMembers += 1\n",
    "\n",
    "    def __str__(self):\n",
    "        return ''.join([str(mem) for mem in self.teamMembers])\n",
    "    \n",
    "p1 = Person(\"Sarah S\", 12, \"Roxbury\", \"F\")\n",
    "p2 = Person(\"John S\", 20, \"Boston\")\n",
    "\n",
    "t1 = Team(p1)\n",
    "print(t1)"
   ]
  },
  {
   "cell_type": "code",
   "execution_count": 3,
   "metadata": {},
   "outputs": [
    {
     "name": "stdout",
     "output_type": "stream",
     "text": [
      "Before incrementing num_houses: 0\n",
      "After incrementing num_houses: 1\n",
      "house1.num_houses: 2\n",
      "house2.num_houses: 1\n"
     ]
    }
   ],
   "source": [
    "class House:\n",
    "      num_houses = 0\n",
    "      house_type = ['SF', 'MF']\n",
    "      def __init__(self, sqft, price, status):\n",
    "              self.area = sqft\n",
    "              self.price = price\n",
    "              self.status = status\n",
    "      \n",
    "      @property\n",
    "      def status(self):\n",
    "              return self.__status\n",
    "\n",
    "      @status.setter\n",
    "      def status(self, val):\n",
    "              if val in House.house_type:\n",
    "                       self.__status = val\n",
    "              else:\n",
    "                       raise ValueError('The status of the house can only be \"SF\" or \"MF\".')\n",
    "\n",
    "house1 = House(1400, 140000, 'SF')\n",
    "house2 = House(2000, 220000, 'MF')\n",
    "\n",
    "print(\"Before incrementing num_houses:\", House.num_houses)\n",
    "House.num_houses += 1\n",
    "house1.num_houses += 1\n",
    "print(\"After incrementing num_houses:\", House.num_houses)\n",
    "print(\"house1.num_houses:\", house1.num_houses)\n",
    "print(\"house2.num_houses:\", house2.num_houses)\n",
    "\n",
    "\n"
   ]
  }
 ],
 "metadata": {
  "kernelspec": {
   "display_name": "base",
   "language": "python",
   "name": "python3"
  },
  "language_info": {
   "codemirror_mode": {
    "name": "ipython",
    "version": 3
   },
   "file_extension": ".py",
   "mimetype": "text/x-python",
   "name": "python",
   "nbconvert_exporter": "python",
   "pygments_lexer": "ipython3",
   "version": "3.9.13"
  },
  "orig_nbformat": 4,
  "vscode": {
   "interpreter": {
    "hash": "53c0bcdf509a76f6b146b1d814b6daf120252df840aefcaacaf26e552841ecb9"
   }
  }
 },
 "nbformat": 4,
 "nbformat_minor": 2
}

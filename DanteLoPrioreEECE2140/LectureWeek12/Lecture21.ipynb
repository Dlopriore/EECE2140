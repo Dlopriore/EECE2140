{
 "cells": [
  {
   "cell_type": "code",
   "execution_count": 24,
   "metadata": {},
   "outputs": [
    {
     "name": "stdout",
     "output_type": "stream",
     "text": [
      "(1, 2, 3)\n",
      "Point 1: (1, 2, 3) | Point 2: (1, 2, 3)\n",
      "Address of Point 1: 140359397937648 | Address of Point 2: 140359397937648\n",
      "\n",
      "Point 1: (0, 2, 3) | Point 2: (1, 2, 3)\n",
      "Address of Point 1: 140359397937648 | Address of Point 2: 140359397939808\n"
     ]
    },
    {
     "ename": "AttributeError",
     "evalue": "'Circle' object has no attribute 'radius'",
     "output_type": "error",
     "traceback": [
      "\u001b[0;31m---------------------------------------------------------------------------\u001b[0m",
      "\u001b[0;31mAttributeError\u001b[0m                            Traceback (most recent call last)",
      "\u001b[0;32m/var/folders/7d/wl2f08gs34bdljddj_g339jw0000gn/T/ipykernel_12301/3773403686.py\u001b[0m in \u001b[0;36m<module>\u001b[0;34m\u001b[0m\n\u001b[1;32m     89\u001b[0m \u001b[0mcirc1\u001b[0m\u001b[0;34m.\u001b[0m\u001b[0mcenter\u001b[0m \u001b[0;34m=\u001b[0m \u001b[0mPoint\u001b[0m\u001b[0;34m(\u001b[0m\u001b[0;36m5\u001b[0m\u001b[0;34m,\u001b[0m \u001b[0;36m4\u001b[0m\u001b[0;34m)\u001b[0m\u001b[0;34m\u001b[0m\u001b[0;34m\u001b[0m\u001b[0m\n\u001b[1;32m     90\u001b[0m \u001b[0mcirc2\u001b[0m \u001b[0;34m=\u001b[0m \u001b[0mcopy\u001b[0m\u001b[0;34m.\u001b[0m\u001b[0mcopy\u001b[0m\u001b[0;34m(\u001b[0m\u001b[0mcirc1\u001b[0m\u001b[0;34m)\u001b[0m\u001b[0;34m\u001b[0m\u001b[0;34m\u001b[0m\u001b[0m\n\u001b[0;32m---> 91\u001b[0;31m \u001b[0mprint\u001b[0m\u001b[0;34m(\u001b[0m\u001b[0mcirc1\u001b[0m\u001b[0;34m)\u001b[0m\u001b[0;34m\u001b[0m\u001b[0;34m\u001b[0m\u001b[0m\n\u001b[0m",
      "\u001b[0;32m/var/folders/7d/wl2f08gs34bdljddj_g339jw0000gn/T/ipykernel_12301/3773403686.py\u001b[0m in \u001b[0;36m__str__\u001b[0;34m(self)\u001b[0m\n\u001b[1;32m     84\u001b[0m \u001b[0;34m\u001b[0m\u001b[0m\n\u001b[1;32m     85\u001b[0m     \u001b[0;32mdef\u001b[0m \u001b[0m__str__\u001b[0m\u001b[0;34m(\u001b[0m\u001b[0mself\u001b[0m\u001b[0;34m)\u001b[0m\u001b[0;34m:\u001b[0m\u001b[0;34m\u001b[0m\u001b[0;34m\u001b[0m\u001b[0m\n\u001b[0;32m---> 86\u001b[0;31m         \u001b[0;32mreturn\u001b[0m \u001b[0;34mf'The Circle has a the coordinates of ({self.center.x}, {self.center.y}, {self.center.z}) with a radius of {self.radius}'\u001b[0m\u001b[0;34m\u001b[0m\u001b[0;34m\u001b[0m\u001b[0m\n\u001b[0m\u001b[1;32m     87\u001b[0m \u001b[0;34m\u001b[0m\u001b[0m\n\u001b[1;32m     88\u001b[0m \u001b[0mcirc1\u001b[0m \u001b[0;34m=\u001b[0m \u001b[0mCircle\u001b[0m\u001b[0;34m(\u001b[0m\u001b[0mPoint\u001b[0m\u001b[0;34m(\u001b[0m\u001b[0;34m-\u001b[0m\u001b[0;36m2\u001b[0m\u001b[0;34m,\u001b[0m \u001b[0;36m3\u001b[0m\u001b[0;34m)\u001b[0m\u001b[0;34m,\u001b[0m \u001b[0;36m2\u001b[0m\u001b[0;34m)\u001b[0m\u001b[0;34m\u001b[0m\u001b[0;34m\u001b[0m\u001b[0m\n",
      "\u001b[0;31mAttributeError\u001b[0m: 'Circle' object has no attribute 'radius'"
     ]
    }
   ],
   "source": [
    "import copy\n",
    "\n",
    "# to represent the Point class\n",
    "class Point():\n",
    "    \n",
    "    # constructor\n",
    "    def __init__(self, x, y, z = 0):\n",
    "        self.x = x\n",
    "        self.y = y\n",
    "        self.z = z \n",
    "    \n",
    "    @property # read only property where getter method but no setter method\n",
    "    def r(self): # calulates the distance of the Point object from the origin\n",
    "        return np.sqrt((self.x ** 2) + (self.y ** 2) + (self.z ** 2))\n",
    "\n",
    "    def __str__(self): #prints object\n",
    "        return f'({self.x}, {self.y}, {self.z})'\n",
    "    \n",
    "    def __eq__(self, other): #operator overrides equals \n",
    "        # to determine whether the object have the same distance from the orgin as each other\n",
    "        if isinstance(other, Point): return (self.r == other.r) \n",
    "\n",
    "    def __lt__(self, other): #operator override less than based on distance from the orgin\n",
    "        if isinstance(other, Point): return (self.r < other.r) \n",
    "    \n",
    "    def __le__(self, other):  #operator override greater than or equal to based on distance from the orgin\n",
    "        return self.r <= other.r\n",
    "    \n",
    "    def __ne__(self, other):  #operator override not equal to based on distance from the orgin\n",
    "        return not self.__eq__(other)\n",
    "    \n",
    "    def __gt__(self, other):  #operator override greater than based on distance from the orgin\n",
    "        return not self.__lt__(other) and self.__ne__(other)\n",
    "    \n",
    "    def __ge__(self, other):  #operator override greater than or equal to based on distance from the orgin\n",
    "        return self.r >= other.r\n",
    "    \n",
    "    def __add__(self, other): #operator override built-in addition \n",
    "        if isinstance(other, Point):\n",
    "            new_point = Point(self.x + other.x, self.y + other.y, self.z + other.z)\n",
    "            return new_point\n",
    "        else:\n",
    "            return \"The + operator cannot accept the data type of other\"\n",
    "    \n",
    "    def __iadd__(self, other): #operator override addition assignment\n",
    "        if isinstance(other, Point):\n",
    "            self.x += other.x\n",
    "            self.y += other.y \n",
    "            self.z += other.z\n",
    "            return self\n",
    "        else:\n",
    "            return \"The + operator cannot accept the data type of other\"\n",
    "    \n",
    "    # output coordinates as a dictionary\n",
    "    def asdict(self):\n",
    "        return {'x': self.x, 'y': self.y, 'z': self.z}\n",
    "\n",
    "p1 = Point(1, 2, 3)\n",
    "print(p1)\n",
    "p2 = p1\n",
    "print(f'Point 1: {p1} | Point 2: {p2}')\n",
    "print(f'Address of Point 1: {id(p1)} | Address of Point 2: {id(p2)}')\n",
    "print(\"\")\n",
    "\n",
    "#p1.x = 0 #this will change the x value for both points\n",
    "p2 = copy.copy(p1) #this will change the value of x for only Point 1\n",
    "p1.x = 0\n",
    "print(f'Point 1: {p1} | Point 2: {p2}') \n",
    "print(f'Address of Point 1: {id(p1)} | Address of Point 2: {id(p2)}')\n",
    "\n",
    "class Circle:\n",
    "    def __init__(self, center, radius):\n",
    "        self.center = center\n",
    "        self.r = radius\n",
    "    \n",
    "    @property # getter method\n",
    "    def center(self):\n",
    "        return self._center #protected instance attribute\n",
    "    \n",
    "    @center.setter #setter method\n",
    "    def center(self, inCenter):\n",
    "        if isinstance(inCenter, Point):\n",
    "            self._center = inCenter\n",
    "        else:\n",
    "            raise ValueError(\"Given input for the center must be a type point\")\n",
    "    \n",
    "    def __str__(self):\n",
    "        return f'The Circle has a the coordinates of ({self.center.x}, {self.center.y}, {self.center.z}) with a radius of {self.radius}'\n",
    "\n",
    "circ1 = Circle(Point(-2, 3), 2)\n",
    "circ1.center = Point(5, 4)\n",
    "circ2 = copy.copy(circ1)\n",
    "print(circ1)"
   ]
  },
  {
   "cell_type": "code",
   "execution_count": 12,
   "metadata": {},
   "outputs": [
    {
     "name": "stdout",
     "output_type": "stream",
     "text": [
      "10 / 4 = 2.5000\n"
     ]
    }
   ],
   "source": [
    "a = 10\n",
    "b = 4\n",
    "c = a/b\n",
    "print(f'{a} / {b} = {c:.4f}')\n",
    "\n",
    "d = float(input(\"Enter the denominator: \"))\n",
    "print(d)\n"
   ]
  },
  {
   "cell_type": "code",
   "execution_count": 16,
   "metadata": {},
   "outputs": [
    {
     "name": "stdout",
     "output_type": "stream",
     "text": [
      "You must enter one integer as the denominator.\n",
      "Moving on...\n",
      "Attempted to divide by zero.\n",
      "Moving on...\n",
      "10 / 10.000 = 1.000\n",
      "Moving on...\n"
     ]
    }
   ],
   "source": [
    "a = 10\n",
    "con = True\n",
    "while con:\n",
    "    try:\n",
    "        b = float(input('Enter the denominator'))\n",
    "        c = a/b\n",
    "    except ValueError: # tried to convert non-numeric value to float\n",
    "        print(\"You must enter one integer as the denominator.\")\n",
    "    except ZeroDivisionError: # denominator was 0\n",
    "        print(\"Attempted to divide by zero.\")\n",
    "    except:\n",
    "        print('An error happended try again')\n",
    "    else: # optionally executes only if no exceptions occur\n",
    "        print(f'{a} / {b:.3f} = {c:.3f}')\n",
    "        con = False\n",
    "    finally:\n",
    "        print(\"Moving on...\")\n"
   ]
  },
  {
   "cell_type": "code",
   "execution_count": 21,
   "metadata": {},
   "outputs": [
    {
     "name": "stdout",
     "output_type": "stream",
     "text": [
      "Entire File Content\n",
      "\tAlice\n",
      "Bob\n",
      "Mogan\n",
      "\n",
      "Line Content 1: \tAlice\n",
      "\n",
      "Line Content 2: Bob\n",
      "\n",
      "All lines are read as a list of strings ['\\tAlice\\n', 'Bob\\n', 'Mogan\\n']\n"
     ]
    }
   ],
   "source": [
    "# when do a it appends a replica of the orginal content\n",
    "# when do w+ it will allow the user to read the file without closing it \n",
    "cur_file1 = open(r'Names.txt', 'w') \n",
    "\n",
    "cur_file1.write('\\tAlice\\n')\n",
    "cur_file1.writelines(['Bob\\n', 'Mogan\\n'])\n",
    "cur_file1.close()\n",
    "\n",
    "cur_file2 = open('Names.txt', 'r')\n",
    "file_content = cur_file2.read()\n",
    "print(f'Entire File Content\\n{file_content}')\n",
    "\n",
    "cur_file2.seek(0)\n",
    "line_content = cur_file2.readline()\n",
    "print(f'Line Content 1: {line_content}')\n",
    "line_content = cur_file2.readline()\n",
    "print(f'Line Content 2: {line_content}')\n",
    "\n",
    "cur_file2.seek(0)\n",
    "all_line_content = cur_file2.readlines()\n",
    "print(f'All lines are read as a list of strings {all_line_content}')\n",
    "cur_file2.close()\n",
    "\n"
   ]
  },
  {
   "cell_type": "code",
   "execution_count": 22,
   "metadata": {},
   "outputs": [],
   "source": [
    "with open('students.txt', mode='w') as cur_students: # File object\n",
    "    #Student ID Number, Last Name, and GPA\n",
    "    cur_students.write('100 Jones 2.98\\n')\n",
    "    cur_students.write('200 Doe 4.08\\n')\n",
    "    cur_students.write('300 White 1.73\\n')\n",
    "    cur_students.write('400 Sullivan 3.48\\n')\n",
    "    print('500 Smith 2.01', file=cur_students)"
   ]
  }
 ],
 "metadata": {
  "kernelspec": {
   "display_name": "base",
   "language": "python",
   "name": "python3"
  },
  "language_info": {
   "codemirror_mode": {
    "name": "ipython",
    "version": 3
   },
   "file_extension": ".py",
   "mimetype": "text/x-python",
   "name": "python",
   "nbconvert_exporter": "python",
   "pygments_lexer": "ipython3",
   "version": "3.9.13 (main, Aug 25 2022, 18:29:29) \n[Clang 12.0.0 ]"
  },
  "orig_nbformat": 4,
  "vscode": {
   "interpreter": {
    "hash": "53c0bcdf509a76f6b146b1d814b6daf120252df840aefcaacaf26e552841ecb9"
   }
  }
 },
 "nbformat": 4,
 "nbformat_minor": 2
}

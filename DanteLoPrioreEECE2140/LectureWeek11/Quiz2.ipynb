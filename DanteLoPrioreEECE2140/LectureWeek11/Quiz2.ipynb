{
 "cells": [
  {
   "cell_type": "code",
   "execution_count": 1,
   "metadata": {},
   "outputs": [
    {
     "name": "stdout",
     "output_type": "stream",
     "text": [
      "[*+1,976.02360*]\n"
     ]
    }
   ],
   "source": [
    "import numpy as np \n",
    "\n",
    "print(f'[{1976.0236:*^+14,.5f}]')"
   ]
  },
  {
   "cell_type": "code",
   "execution_count": 11,
   "metadata": {},
   "outputs": [
    {
     "name": "stdout",
     "output_type": "stream",
     "text": [
      "16\n",
      "False\n",
      "A Man Was Happy\n",
      "0\n",
      "27\n",
      "27\n"
     ]
    }
   ],
   "source": [
    "my_str = 'to be or not to be that is the question'\n",
    "print(my_str.rindex('be'))\n",
    "\n",
    "print(\"man\" <= \"Manchester\")\n",
    "\n",
    "print(\"a man Was happy\".title())\n",
    "\n",
    "print(my_str.count('to', 1, 14))\n",
    "\n",
    "print(my_str.index(\"the\"))\n",
    "print(my_str.rindex(\"the\"))"
   ]
  },
  {
   "cell_type": "code",
   "execution_count": 13,
   "metadata": {},
   "outputs": [
    {
     "name": "stdout",
     "output_type": "stream",
     "text": [
      "20**30**40**50\n"
     ]
    }
   ],
   "source": [
    "my_str = \"10, 20, 30, 40, 50\"\n",
    "\n",
    "print( '**'.join( my_str.split(', ')[1 : ] ) )"
   ]
  },
  {
   "cell_type": "code",
   "execution_count": 16,
   "metadata": {},
   "outputs": [
    {
     "name": "stdout",
     "output_type": "stream",
     "text": [
      "[-2  0  2]\n",
      "[-2.  0.  2.  4.]\n",
      "[1.e-02 1.e+00 1.e+02 1.e+04]\n"
     ]
    }
   ],
   "source": [
    "import numpy as np \n",
    "a = np.arange(-2, 4, 2) \n",
    "b = np.linspace(-2, 4, 4) \n",
    "c = np.logspace(-2, 4, 4) \n",
    "\n",
    "print(a)\n",
    "print(b)\n",
    "print(c)"
   ]
  },
  {
   "cell_type": "code",
   "execution_count": 17,
   "metadata": {},
   "outputs": [
    {
     "name": "stdout",
     "output_type": "stream",
     "text": [
      "[[17 19]\n",
      " [13 15]\n",
      " [ 9 11]\n",
      " [ 5  7]\n",
      " [ 1  3]]\n"
     ]
    }
   ],
   "source": [
    "import numpy as np\n",
    "A = np.arange(1, 20, 2).reshape(5,2)[ : : -1]\n",
    "print(A)"
   ]
  },
  {
   "cell_type": "code",
   "execution_count": 21,
   "metadata": {},
   "outputs": [
    {
     "name": "stdout",
     "output_type": "stream",
     "text": [
      "[[10. 20.]\n",
      " [30. 40.]\n",
      " [50. 60.]]\n"
     ]
    }
   ],
   "source": [
    "import numpy as np\n",
    "A = np.linspace(10, 80, 8).reshape(4,-1)[ : -1]\n",
    "print(A)"
   ]
  },
  {
   "cell_type": "code",
   "execution_count": 36,
   "metadata": {},
   "outputs": [
    {
     "name": "stdout",
     "output_type": "stream",
     "text": [
      "[[ 0  2  4]\n",
      " [ 6  8 10]]\n",
      "\n",
      "[[ 0  6]\n",
      " [ 2  8]\n",
      " [ 4 10]]\n",
      "\n",
      "[0 4 8]\n",
      "\n",
      "[ 2 10]\n",
      "\n",
      "[[6]\n",
      " [8]]\n",
      "\n",
      "[[ 0  2]\n",
      " [ 4  6]\n",
      " [ 8 10]]\n",
      "\n",
      "[ 6 24]\n",
      "\n",
      "[ 0  2  6 12 20 30]\n"
     ]
    }
   ],
   "source": [
    "import numpy as np\n",
    "A = np.arange(0, 12, 2).reshape(2,3)\n",
    "\n",
    "\"\"\"\n",
    "[[0, 2, 4], \n",
    "[6, 8, 10]]\n",
    "\n",
    "[[0, 6]\n",
    " [2, 8]\n",
    " [4, 10]]\n",
    "\"\"\"\n",
    "\n",
    "print(A)\n",
    "print(\"\")\n",
    "print(A.T)\n",
    "print(\"\")\n",
    "print(A[A%4 == 0])\n",
    "print(\"\")\n",
    "print(A[[0, -1], [1, 2]] )\n",
    "print(\"\")\n",
    "print(A[[[1], [-1]], [[0], [1]]])\n",
    "print(\"\")\n",
    "print(A.reshape(3,2))\n",
    "print(\"\")\n",
    "print(A.sum(axis=1))\n",
    "print(\"\")\n",
    "print(A.cumsum())\n"
   ]
  },
  {
   "cell_type": "code",
   "execution_count": 159,
   "metadata": {},
   "outputs": [
    {
     "data": {
      "text/plain": [
       "array([[1, 3, 2, 5],\n",
       "       [1, 0, 5, 1],\n",
       "       [2, 5, 1, 4]])"
      ]
     },
     "execution_count": 159,
     "metadata": {},
     "output_type": "execute_result"
    }
   ],
   "source": [
    "# np.round(5 * np.random.rand(3,4)) yes\n",
    "# np.random.randint(6, size=(3,4)) yes\n",
    "# np.random.randint(-1, 6, (3,4)) no\n",
    "# np.random.randint(0, 6, (3,4)) yes\n",
    "# np.floor(5 * np.random.rand(3,4)) no\n",
    "# np.ceil(5 * np.random.rand(3,4)) no \n",
    "# np.random.randint(6, size=[3,4]) yes\n",
    "# np.random.randint(6, (3,4)) no\n",
    "# np.random.randint(5, size=(3,4)) no\n",
    "# np.random.randint(0, 6, [3,4]) yes\n",
    "\n",
    "np.random.randint(0, 6, [3,4])\n"
   ]
  },
  {
   "cell_type": "code",
   "execution_count": 178,
   "metadata": {},
   "outputs": [
    {
     "name": "stdout",
     "output_type": "stream",
     "text": [
      "[-6.   7.5]\n",
      "\n",
      "ValueError\n",
      "\n",
      "[[14 -4]\n",
      " [-4  5]]\n",
      "\n",
      "-6.0\n",
      "\n",
      "ValueError\n",
      "\n",
      "[[9 4 1]\n",
      " [0 1 4]]\n",
      "\n",
      "ValueError\n",
      "\n",
      "[[14 -4]\n",
      " [-4  5]]\n",
      "\n",
      "11.25\n",
      "\n"
     ]
    }
   ],
   "source": [
    "A = np.arange(-3, 3).reshape(2,3)\n",
    "B = np.linspace(0, 3, 3)\n",
    "#print(A)\n",
    "#print(B)\n",
    "\n",
    "print(np.dot(A, B))\n",
    "print(\"\")\n",
    "\n",
    "\n",
    "#print(np.dot(B, A)) \n",
    "print(\"ValueError\")\n",
    "print(\"\")\n",
    "\n",
    "print(np.dot(A, A.T))\n",
    "print(\"\")\n",
    "\n",
    "print(np.dot(A[0], B) )\n",
    "print(\"\")\n",
    "\n",
    "# print(np.dot(A[:,0], B) )\n",
    "print(\"ValueError\")\n",
    "print(\"\")\n",
    "\n",
    "print(A * A)\n",
    "print(\"\")\n",
    "\n",
    "#print(A @ A)\n",
    "print(\"ValueError\")\n",
    "print(\"\")\n",
    "\n",
    "print(A @ A.T)\n",
    "print(\"\")\n",
    "\n",
    "print(np.dot(B.T, B))\n",
    "print(\"\")\n",
    "\n"
   ]
  }
 ],
 "metadata": {
  "kernelspec": {
   "display_name": "base",
   "language": "python",
   "name": "python3"
  },
  "language_info": {
   "codemirror_mode": {
    "name": "ipython",
    "version": 3
   },
   "file_extension": ".py",
   "mimetype": "text/x-python",
   "name": "python",
   "nbconvert_exporter": "python",
   "pygments_lexer": "ipython3",
   "version": "3.9.13"
  },
  "orig_nbformat": 4,
  "vscode": {
   "interpreter": {
    "hash": "53c0bcdf509a76f6b146b1d814b6daf120252df840aefcaacaf26e552841ecb9"
   }
  }
 },
 "nbformat": 4,
 "nbformat_minor": 2
}

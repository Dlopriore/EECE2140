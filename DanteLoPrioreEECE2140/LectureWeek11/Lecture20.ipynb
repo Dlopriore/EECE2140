{
 "cells": [
  {
   "cell_type": "code",
   "execution_count": 6,
   "metadata": {},
   "outputs": [
    {
     "name": "stdout",
     "output_type": "stream",
     "text": [
      "Parent Name: Alice | ID Number: 2221232 | Date of Birth: 2023\n",
      "Parent Name: Alice | ID Number: 2221232 | Date of Birth: 2023\n"
     ]
    }
   ],
   "source": [
    "## Public, Protected, and Private Attributes and Methods\n",
    "# private variables are only availible in the main class. not in sub class / outside class\n",
    "# protected variables are only availible in the main and sub class.\n",
    "class Parent:\n",
    "    lst = []\n",
    "\n",
    "    def __init__(self, name, idNumber, DoB):\n",
    "        self.name = name\n",
    "        self._idNumber = idNumber\n",
    "        self.__DoB = DoB\n",
    "    \n",
    "    def __str__(self):\n",
    "        return f'Parent Name: {self.name} | ID Number: {self._idNumber} | Date of Birth: {self.__DoB}'\n",
    "    \n",
    "    # to change a protected or private variable need a change method\n",
    "    def change(self, given_name, given_idNumber, given_DoB):\n",
    "        self.name = given_name\n",
    "        self._idNumber = given_idNumber\n",
    "        self.__DoB = given_DoB\n",
    "\n",
    "par1 = Parent('Alice', 2221232, 2023)\n",
    "print(par1)\n",
    "\n",
    "par1.__DoB = 6969 # would not change\n",
    "print(par1)\n",
    "#par1._Parent__DoB = 12343 # how to change a private attribute in a class\n",
    "\n",
    "class Child(Parent):\n",
    "    def changeChild(self, newName, newIdNumber, newDoB):\n",
    "        self.name = newName\n",
    "        self._idNumber = newIdNumber\n",
    "        #self.__DoB = newDoB\n",
    "        self._Parent__dob = newDoB # correct way to change a private variable in subclass.\n",
    "        Parent.lst.append(self.name)\n",
    "    \n",
    "    def __str__(self):\n",
    "        return f'Child Name: {self.name} | ID Number: {self._idNumber} | Date of Birth: {self.__DoB}'\n",
    "\n"
   ]
  },
  {
   "cell_type": "code",
   "execution_count": 26,
   "metadata": {},
   "outputs": [
    {
     "name": "stdout",
     "output_type": "stream",
     "text": [
      "02:04:07AM\n",
      "02:04:07AM\n"
     ]
    }
   ],
   "source": [
    "class MyTime:\n",
    "\n",
    "    def __init__(self, hour, minute, second, ap):\n",
    "        self.hour = hour\n",
    "        self.minute = minute\n",
    "        self.second = second\n",
    "        self.am_pm = ap\n",
    "    \n",
    "    @property # becomes property of your class\n",
    "    def hour(self): #getter method\n",
    "        return self._hour #returns protected attribute\n",
    "    \n",
    "    @hour.setter # setter method / already calls the function\n",
    "    def hour(self, value):\n",
    "        if 1 <= value <= 12:\n",
    "            self._hour = value\n",
    "        else:\n",
    "            raise ValueError('The given hour is invalid as it must be between 1-12')\n",
    "        \n",
    "    @property\n",
    "    def minute(self):\n",
    "        return self._minute\n",
    "    \n",
    "    @minute.setter\n",
    "    def minute(self, value):\n",
    "        if 0 <= value <= 59:\n",
    "            self._minute = value\n",
    "        else:\n",
    "            raise ValueError('The given minute is invalid as it must be between 0-59')\n",
    "    \n",
    "    @property\n",
    "    def second(self):\n",
    "        return self._second\n",
    "    \n",
    "    @second.setter\n",
    "    def second(self, value):\n",
    "        if 0 <= value <= 59:\n",
    "            self._second = value\n",
    "        else:\n",
    "            raise ValueError('The given second is invalid as it must be between 0-59')\n",
    "\n",
    "    def __str__(self):\n",
    "        return f'{self.hour:0>2}:{self.minute:0>2}:{self.second:0>2}'\\\n",
    "            + f'{\"AM\" if self.am_pm else \"PM\"}'\n",
    "\n",
    "t1 = MyTime(2, 4, 7,1)\n",
    "#t2 = MyTime(200, 98, 70, 1)\n",
    "print(t1)\n",
    "\n",
    "#t1.hour = 345 # error checking is only enfored at the creation of the object\n",
    "print(t1)"
   ]
  },
  {
   "cell_type": "code",
   "execution_count": 34,
   "metadata": {},
   "outputs": [
    {
     "name": "stdout",
     "output_type": "stream",
     "text": [
      "Triangle with sides [3, 4, 2] has an area of 2.9047375096555625.\n",
      "Triangle with sides [6, 8, 10] has an area of 24.0.\n",
      "Triangle with sides [3, 4, 2] has an area of 2.9047375096555625.\n",
      "Triangle with sides [6, 8, 10] has an area of 24.0.\n"
     ]
    }
   ],
   "source": [
    "import math\n",
    "class Triangle:\n",
    "\n",
    "    def __init__(self, side1, side2, side3):\n",
    "        self.sides = [side1, side2, side3]\n",
    "        #self.area = math.sqrt(p * (p - self.sides[0]) * (p - self.sides[1]) * (p - self.sides[2]))\n",
    "    \n",
    "    @property\n",
    "    def area(self): # read only property where getter method but no setter method\n",
    "        p = sum(self.sides) / 2\n",
    "        return math.sqrt(p * (p - self.sides[0]) * (p - self.sides[1]) * (p - self.sides[2]))\n",
    "    \n",
    "\n",
    "    def __str__(self):\n",
    "        return f'Triangle with sides {self.sides} has an area of {self.area}.'\n",
    "\n",
    "tr1 = Triangle(3, 4, 5)\n",
    "tr1.sides[2] = 2 # changes the area property when alter the amount for a given side\n",
    "#tr1.area = 90\n",
    "print(tr1)\n",
    "\n",
    "class RightTriangle(Triangle):\n",
    "    def __init__(self, side1, side2, side3):\n",
    "        if side1 ** 2 + side2 ** 2 == side3 ** 2: \n",
    "            super().__init__(side1, side2, side3)\n",
    "        else:\n",
    "            raise ValueError('The given values do not form a right triangle')\n",
    "        \n",
    "right_t = RightTriangle(6, 8, 10)\n",
    "print(right_t)\n",
    "\n",
    "my_list = [tr1, right_t]\n",
    "\n",
    "for cur_tri in my_list:\n",
    "    print(cur_tri)"
   ]
  },
  {
   "cell_type": "code",
   "execution_count": null,
   "metadata": {},
   "outputs": [],
   "source": []
  }
 ],
 "metadata": {
  "kernelspec": {
   "display_name": "base",
   "language": "python",
   "name": "python3"
  },
  "language_info": {
   "codemirror_mode": {
    "name": "ipython",
    "version": 3
   },
   "file_extension": ".py",
   "mimetype": "text/x-python",
   "name": "python",
   "nbconvert_exporter": "python",
   "pygments_lexer": "ipython3",
   "version": "3.9.13 (main, Aug 25 2022, 18:29:29) \n[Clang 12.0.0 ]"
  },
  "orig_nbformat": 4,
  "vscode": {
   "interpreter": {
    "hash": "53c0bcdf509a76f6b146b1d814b6daf120252df840aefcaacaf26e552841ecb9"
   }
  }
 },
 "nbformat": 4,
 "nbformat_minor": 2
}

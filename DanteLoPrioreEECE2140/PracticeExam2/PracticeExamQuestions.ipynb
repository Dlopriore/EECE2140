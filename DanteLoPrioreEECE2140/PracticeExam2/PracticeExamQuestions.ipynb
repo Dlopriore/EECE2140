{
 "cells": [
  {
   "cell_type": "code",
   "execution_count": 7,
   "metadata": {},
   "outputs": [
    {
     "name": "stdout",
     "output_type": "stream",
     "text": [
      "2\n",
      "-1\n",
      "24\n",
      "['to take', 'exam or not to take', 'exam that is the question']\n",
      "e*x*a*m\n",
      "exam\n"
     ]
    }
   ],
   "source": [
    "a = 'to take the exam or not to take the exam that is the question'\n",
    "\n",
    "print(a.count('the', 9))\n",
    "print(a.rfind('Fri'))\n",
    "print(a.rindex('to'))\n",
    "print(a.split(' the ', 2))\n",
    "print('*'.join(a[12:16]))\n",
    "print(''.join(a[12:16]))"
   ]
  },
  {
   "cell_type": "code",
   "execution_count": 27,
   "metadata": {},
   "outputs": [
    {
     "name": "stdout",
     "output_type": "stream",
     "text": [
      "2\n",
      "(2, 4)\n",
      "8\n",
      "2\n",
      "[ -2  -2   4  -5 -11  -8  -8   2]\n",
      "[-2  3  6 10]\n",
      "[[-2  6]\n",
      " [-6  0]]\n",
      "-6\n",
      "\n",
      "[[ 0 -9]\n",
      " [-9  3]]\n"
     ]
    }
   ],
   "source": [
    "import numpy as np\n",
    "a = np.array([(-2, 0, 6, -9), [-6, 3, 0, 10]], dtype=np.int16)\n",
    "print(a.ndim)\n",
    "print(a.shape)\n",
    "print(a.size)\n",
    "print(a.itemsize)\n",
    "print(a.cumsum())\n",
    "print(a.max(axis=0))\n",
    "print(a[:, ::2])\n",
    "print(a[-1, 0])\n",
    "print(\"\")\n",
    "print(a[ [[-1, 0], [0, 1]], [[2, 3],[-1, 1]] ])\n",
    "\n",
    "\n"
   ]
  },
  {
   "cell_type": "code",
   "execution_count": 29,
   "metadata": {},
   "outputs": [
    {
     "name": "stdout",
     "output_type": "stream",
     "text": [
      "[[ 0  2  4]\n",
      " [ 6  8 10]]\n"
     ]
    }
   ],
   "source": [
    "A = np.arange(0, 12, 2).reshape(2,3)\n",
    "print(A)"
   ]
  },
  {
   "cell_type": "code",
   "execution_count": null,
   "metadata": {},
   "outputs": [],
   "source": [
    "def is_valid(s):\n",
    "    stack = []\n",
    "    for char in s:\n",
    "        if char in \"({[\":\n",
    "            stack.append(char)\n",
    "        else:\n",
    "            if not stack:\n",
    "                return False\n",
    "            if char == \")\" and stack[-1] != \"(\":\n",
    "                return False\n",
    "            if char == \"}\" and stack[-1] != \"{\":\n",
    "                return False\n",
    "            if char == \"]\" and stack[-1] != \"[\":\n",
    "                return False\n",
    "            stack.pop()\n",
    "    return not stack"
   ]
  },
  {
   "cell_type": "code",
   "execution_count": null,
   "metadata": {},
   "outputs": [],
   "source": [
    "def matrix_block_sum(mat, k):\n",
    "    m, n = len(mat), len(mat[0])\n",
    "    answer = [[0] * n for _ in range(m)]\n",
    "    \n",
    "    # Calculate the cumulative sum along rows\n",
    "    for i in range(m):\n",
    "        for j in range(1, n):\n",
    "            mat[i][j] += mat[i][j-1]\n",
    "    \n",
    "    # Calculate the cumulative sum along columns\n",
    "    for j in range(n):\n",
    "        for i in range(1, m):\n",
    "            mat[i][j] += mat[i-1][j]\n",
    "    \n",
    "    # Calculate the sum for each window\n",
    "    for i in range(m):\n",
    "        for j in range(n):\n",
    "            r1, c1 = max(i - k, 0), max(j - k, 0)\n",
    "            r2, c2 = min(i + k, m-1), min(j + k, n-1)\n",
    "            answer[i][j] = mat[r2][c2]\n",
    "            if r1 > 0:\n",
    "                answer[i][j] -= mat[r1-1][c2]\n",
    "            if c1 > 0:\n",
    "                answer[i][j] -= mat[r2][c1-1]\n",
    "            if r1 > 0 and c1 > 0:\n",
    "                answer[i][j] += mat[r1-1][c1-1]\n",
    "    \n",
    "    return answer\n"
   ]
  }
 ],
 "metadata": {
  "kernelspec": {
   "display_name": "base",
   "language": "python",
   "name": "python3"
  },
  "language_info": {
   "codemirror_mode": {
    "name": "ipython",
    "version": 3
   },
   "file_extension": ".py",
   "mimetype": "text/x-python",
   "name": "python",
   "nbconvert_exporter": "python",
   "pygments_lexer": "ipython3",
   "version": "3.9.13"
  },
  "orig_nbformat": 4,
  "vscode": {
   "interpreter": {
    "hash": "53c0bcdf509a76f6b146b1d814b6daf120252df840aefcaacaf26e552841ecb9"
   }
  }
 },
 "nbformat": 4,
 "nbformat_minor": 2
}

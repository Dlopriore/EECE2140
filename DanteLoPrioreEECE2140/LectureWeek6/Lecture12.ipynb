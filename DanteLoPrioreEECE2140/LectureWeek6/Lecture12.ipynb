{
 "cells": [
  {
   "cell_type": "code",
   "execution_count": 36,
   "metadata": {},
   "outputs": [
    {
     "name": "stdout",
     "output_type": "stream",
     "text": [
      "[     21345.6788]\n",
      "[21345.6788     ]\n",
      "[**21345.6788***]\n",
      "[**+21345.6788**]\n",
      "[*+21,345.6788**]\n",
      "[    29    ]\n",
      "[0000290000]\n",
      "[  1_1101  ]\n",
      "[    1D    ]\n",
      "97\n",
      "a\n",
      "a, b, c, d, e, f, g, h, i, j, k, l, m, n, o, p, q, r, s, t, u, v, w, x, y, z, \n",
      "{'p', 'q', 'd', 'h', 'e', 'w', 'b', 'm', 'z', 'o', 'n', 'r', 'j', 'c', 'i', 'v', 'l', 's', 'a', 'y', 't', 'u', 'k', 'x', 'g', 'f'}\n"
     ]
    }
   ],
   "source": [
    "#String Formatting\n",
    "\n",
    "a = 21345.6787908765\n",
    "\n",
    "# print the charcter in a 15 length string right to left (default) \n",
    "print(f'[{a:15.4f}]')\n",
    "\n",
    "# print the charcter in a 15 length string left to right \n",
    "print(f'[{a:<15.4f}]')\n",
    "\n",
    "# print the charcter in a 15 length then puts a * in the empty space\n",
    "print(f'[{a:*^15.4f}]')\n",
    "print(f'[{a:*^+15.4f}]')\n",
    "print(f'[{a:*^+15,.4f}]')\n",
    "#[[fill]alignment: <>^][sign: +- or space][0][width][grouping ,_][.precision][presentation type]\n",
    "\n",
    "b = 29\n",
    "# the ^ is center justified\n",
    "print(f'[{b:^10d}]')\n",
    "print(f'[{b:0^10d}]')\n",
    "print(f'[{b:^10_b}]')\n",
    "print(f'[{b:^10_X}]')\n",
    "\n",
    "print(ord('a'))\n",
    "m = 97\n",
    "# print the character seen in the ascii table \n",
    "print(f'{m:c}')\n",
    "\n",
    "[print(f'{k:c}', end =\", \") for k in range(ord('a'), ord('z')+1)]\n",
    "alpha_set = {f'{k:c}' for k in range(ord('a'), ord('z')+1)}\n",
    "print(f'\\n{alpha_set}')\n",
    "\n"
   ]
  },
  {
   "cell_type": "code",
   "execution_count": 45,
   "metadata": {},
   "outputs": [
    {
     "name": "stdout",
     "output_type": "stream",
     "text": [
      "   0\n",
      "   5\n",
      "  10\n",
      " -15\n",
      "  20\n",
      "  25\n",
      "  30\n",
      " -35\n",
      "  40\n",
      " -45\n",
      " -50\n",
      " -55\n",
      " -60\n",
      " -65\n",
      " -70\n",
      "  75\n",
      "  80\n",
      "  85\n",
      "  90\n",
      "  95\n",
      " 100\n",
      "-105\n",
      " 110\n",
      " 115\n",
      "-120\n",
      " 125\n",
      " 130\n",
      "-135\n",
      " 140\n",
      " 145\n",
      " 150\n",
      " 155\n",
      " 160\n",
      "-165\n",
      " 170\n",
      " 175\n",
      "-180\n",
      "-185\n",
      "-190\n",
      " 195\n"
     ]
    }
   ],
   "source": [
    "import random\n",
    "\n",
    "# plus adds a sign to then value\n",
    "# print(f'{k:>+4d}')\n",
    "for k in range(0, 200, 5):\n",
    "    cur_rand = random.random()\n",
    "    if (cur_rand >= 0.5):\n",
    "        print(f'{k:> 4d}')\n",
    "    else:\n",
    "        print(f'{-k:> 4d}')"
   ]
  },
  {
   "cell_type": "code",
   "execution_count": 51,
   "metadata": {},
   "outputs": [
    {
     "name": "stdout",
     "output_type": "stream",
     "text": [
      "The current number is \"21345.6787908765\".\n",
      "The current number is \"$$21345.6788$$$\".\n"
     ]
    }
   ],
   "source": [
    "a = 21345.6787908765\n",
    "print('The current number is \"{}\".'.format(a))\n",
    "\n",
    "print('The current number is \"{:$^15.4f}\".'.format(a))"
   ]
  },
  {
   "cell_type": "code",
   "execution_count": 65,
   "metadata": {},
   "outputs": [
    {
     "name": "stdout",
     "output_type": "stream",
     "text": [
      "269.59331799274844 | 0.0002742011140265055\n",
      "The first  number is \"269.59331799\".\n",
      "The second number is \"  0.00027420\".\n",
      "First Number:2.695933180e+02\n",
      "The first  number is \"269.59331799\".\n",
      "The second number is \"  0.00027420\".\n",
      "First Number:2.695933180e+02\n"
     ]
    }
   ],
   "source": [
    "import random\n",
    "\n",
    "a = random.random()*1000\n",
    "b = random.random()/1000\n",
    "print(f'{a} | {b}')\n",
    "# string format(a,b) uses index to represent the string output seen as a = 0, b = 1\n",
    "print('The first  number is \"{0:12.8f}\".\\nThe second number is \"{1:12.8f}\".\\nFirst Number:{0:15.9e}'.format(a,b))\n",
    "print('The first  number is \"{first:12.8f}\".\\nThe second number is \"{last:12.8f}\".\\nFirst Number:{first:15.9e}'.format(first=a,last=b))\n",
    "#print(\"The first number is {:.8e}.\\nThe second number is {:.8e}.\".format(a,b))"
   ]
  },
  {
   "cell_type": "code",
   "execution_count": 71,
   "metadata": {},
   "outputs": [
    {
     "name": "stdout",
     "output_type": "stream",
     "text": [
      "t * o *   * r * a * i * n *   * n * o * t *   * t * o *   * r * a * i * n *   * t * h * a * t *   * i * s *   * t * h * e *   * r * a * i * n * y *   * q * u * e * s * t * i * o * n * ['t', 'o', ' ', 'r', 'a', 'i', 'n', ' ', 'n', 'o', 't', ' ', 't', 'o', ' ', 'r', 'a', 'i', 'n', ' ', 't', 'h', 'a', 't', ' ', 'i', 's', ' ', 't', 'h', 'e', ' ', 'r', 'a', 'i', 'n', 'y', ' ', 'q', 'u', 'e', 's', 't', 'i', 'o', 'n']\n",
      "rain n\n"
     ]
    }
   ],
   "source": [
    "my_str = \"to rain or not to rain that is the rainy question\"\n",
    "for cur_char in my_str:\n",
    "    print(cur_char, end=' * ')\n",
    "\n",
    "my_list = list(my_str)\n",
    "print(my_list)\n",
    "print(my_str[3:9])\n",
    "\n",
    "# strings are immutable\n"
   ]
  },
  {
   "cell_type": "code",
   "execution_count": 78,
   "metadata": {},
   "outputs": [
    {
     "name": "stdout",
     "output_type": "stream",
     "text": [
      "Alice Smith\n",
      "Alice Smith >>>>>>>>>> Smith\n"
     ]
    }
   ],
   "source": [
    "first_name = 'Alice'\n",
    "last_name = 'Smith'\n",
    "\n",
    "name = first_name + last_name\n",
    "first_name += ' ' + last_name\n",
    "print(first_name)\n",
    "seperator = '>'\n",
    "name = first_name + \" \" + seperator*10 + \" \" + last_name\n",
    "print(name)"
   ]
  },
  {
   "cell_type": "code",
   "execution_count": 82,
   "metadata": {},
   "outputs": [
    {
     "name": "stdout",
     "output_type": "stream",
     "text": [
      "to rAin or not to Rain tHat is the rainy Question\n",
      "to rain or not to rain that is the rainy question\n",
      "to rAin or not to Rain tHat is the rainy Question | To Rain Or Not To Rain That Is The Rainy Question\n",
      "to rAin or not to Rain tHat is the rainy Question | To rain or not to rain that is the rainy question\n"
     ]
    }
   ],
   "source": [
    "my_str1 = \"to rAin or not to Rain tHat is the rainy Question\"\n",
    "my_str2 = my_str1.lower()\n",
    "print(f'{my_str1}\\n{my_str2}')\n",
    "\n",
    "# converts all first letter every word to be upper case\n",
    "my_str2 = my_str1.title()\n",
    "print(f'{my_str1} | {my_str2}')\n",
    "\n",
    "# converts only the first letter of the first word to be upper case\n",
    "my_str2 = my_str1.capitalize()\n",
    "print(f'{my_str1} | {my_str2}')"
   ]
  },
  {
   "cell_type": "code",
   "execution_count": 95,
   "metadata": {},
   "outputs": [
    {
     "name": "stdout",
     "output_type": "stream",
     "text": [
      "2\n",
      "0\n",
      "3\n",
      "35\n",
      "35\n",
      "-1\n"
     ]
    }
   ],
   "source": [
    "my_str1 = \"to rain or not to Rain tHat is the rainy Question\"\n",
    "\n",
    "print(my_str1.count('to'))\n",
    "# can add start and end points to where to search \n",
    "print(my_str1.count('to', 2, 15))\n",
    "\n",
    "# returns the index of the first occurance of the word starting at the \n",
    "# start of the whole string\n",
    "print(my_str1.index('rain'))\n",
    "print(my_str1.index('rain', 4, 40))\n",
    "\n",
    "# returns the index of the first occurance of the word starting at the \n",
    "# end of the whole string\n",
    "print(my_str1.rindex('rain'))\n",
    "\n",
    "#produces index of where the word is in the string\n",
    "# returns -1 if the word is not in the string\n",
    "print(my_str1.find('ball'))"
   ]
  },
  {
   "cell_type": "code",
   "execution_count": 108,
   "metadata": {},
   "outputs": [
    {
     "name": "stdout",
     "output_type": "stream",
     "text": [
      "['to', 'rain', 'or', 'not', 'to', 'Rain', 'tHat', 'is', 'the', 'rainy', 'Question']\n",
      "['to', 'rain', 'or not to Rain tHat is the rainy Question']\n",
      "['', ' rain or not ', ' Rain tHat is the rainy Question']\n"
     ]
    }
   ],
   "source": [
    "my_str1 = \"to rain or not to Rain tHat is the rainy Question\"\n",
    "\n",
    "# split converts the str into a token that is then inputs the token as an element in a list \n",
    "lst_str = my_str1.split()\n",
    "lst_str = my_str1.rsplit()\n",
    "print(lst_str)\n",
    "\n",
    "# controls the amount of splits\n",
    "# do two splits then the rest of the the string in the last element of the list\n",
    "lst_str = my_str1.split(' ', 2)\n",
    "print(lst_str)\n",
    "\n",
    "lst_str = my_str1.split('to')\n",
    "print(lst_str)"
   ]
  },
  {
   "cell_type": "code",
   "execution_count": 104,
   "metadata": {},
   "outputs": [
    {
     "name": "stdout",
     "output_type": "stream",
     "text": [
      "['23', '34', '45', '32', '12']\n"
     ]
    }
   ],
   "source": [
    "num_str = '23, 34, 45, 32, 12'\n",
    "\n",
    "num_list = num_str.split(\", \")\n",
    "print(num_list)\n",
    "\n",
    "num_list = [float(cur_num) for cur_num in num_list]\n",
    "print(num_list) \n"
   ]
  },
  {
   "cell_type": "code",
   "execution_count": 111,
   "metadata": {},
   "outputs": [
    {
     "name": "stdout",
     "output_type": "stream",
     "text": [
      "['0', '1', '2', '3', '4', '5', '6', '7', '8', '9']\n",
      "0*1*2*3*4*5*6*7*8*9\n"
     ]
    }
   ],
   "source": [
    "num_list = [str(k) for k in range(10)]\n",
    "print(num_list)\n",
    "\n",
    "num_str = '*'.join(tuple(num_list))\n",
    "print(num_str)"
   ]
  },
  {
   "cell_type": "code",
   "execution_count": 117,
   "metadata": {},
   "outputs": [
    {
     "name": "stdout",
     "output_type": "stream",
     "text": [
      "23, 34, 45, 32, 12 | 23_,_34_,_45_,_32_,_12\n",
      "23, 34, 45, 32, 12 | 23_,_34_,_45, 32, 12\n"
     ]
    }
   ],
   "source": [
    "num_str = '23, 34, 45, 32, 12'\n",
    "\n",
    "num_str_updated = num_str.replace(', ', '_,_')\n",
    "print(f'{num_str} | {num_str_updated}')\n",
    "\n",
    "# max amount of replacements \n",
    "num_str_updated = num_str.replace(', ', '_,_', 2)\n",
    "print(f'{num_str} | {num_str_updated}')"
   ]
  },
  {
   "cell_type": "code",
   "execution_count": 129,
   "metadata": {},
   "outputs": [
    {
     "name": "stdout",
     "output_type": "stream",
     "text": [
      "[2.2, 3.4, 2.9]\n",
      "[3.2, 3.4, 4.9]\n",
      "[3.2, 3.4, 4.9]\n"
     ]
    }
   ],
   "source": [
    "name1 = \"Alice\"\n",
    "name1_grade = [2.2, 3.4, 2.9]\n",
    "name2 = \"Bob\"\n",
    "name2_grade = [3.2, 3.4, 4.9]\n",
    "name3 = \"Morgan\"\n",
    "name3_grade = [5.2, 5.4, 2.1]\n",
    "\n",
    "\n",
    "str1 = f'{name1} | {name1_grade} | {name2} | {name2_grade} | {name3} | {name3_grade}'\n",
    "str1 = \"Alice: [2.2, 3.4, 2.9] | Bob: [3.2, 3.4, 4.9] | Morgan: [3.2, 3.4, 4.9]\"\n",
    "\n",
    "student_list = str1.split(' | ')\n",
    "\n",
    "for cur_student in student_list:\n",
    "    current_student_list = cur_student.split(': ')\n",
    "    cur_grades = current_student_list[-1][1:-1].split(\", \")\n",
    "    cur_grades = [float(cur_grade) for cur_grade in cur_grades]\n",
    "    print(cur_grades)\n"
   ]
  }
 ],
 "metadata": {
  "kernelspec": {
   "display_name": "base",
   "language": "python",
   "name": "python3"
  },
  "language_info": {
   "codemirror_mode": {
    "name": "ipython",
    "version": 3
   },
   "file_extension": ".py",
   "mimetype": "text/x-python",
   "name": "python",
   "nbconvert_exporter": "python",
   "pygments_lexer": "ipython3",
   "version": "3.9.13 (main, Aug 25 2022, 18:29:29) \n[Clang 12.0.0 ]"
  },
  "orig_nbformat": 4,
  "vscode": {
   "interpreter": {
    "hash": "53c0bcdf509a76f6b146b1d814b6daf120252df840aefcaacaf26e552841ecb9"
   }
  }
 },
 "nbformat": 4,
 "nbformat_minor": 2
}

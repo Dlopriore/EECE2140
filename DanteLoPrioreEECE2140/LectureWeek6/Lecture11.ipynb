{
 "cells": [
  {
   "cell_type": "code",
   "execution_count": 17,
   "metadata": {},
   "outputs": [
    {
     "name": "stdout",
     "output_type": "stream",
     "text": [
      "{8, 2, 4, 5}\n",
      "set()\n",
      "{}\n",
      "<class 'dict'>\n",
      "{2, 5, -1}\n",
      "{'W', '!', 'l', 'e', 'H', 'd', 'o', 'r', ' '}\n",
      "[-5, -4, -3, -2, -1, 0, 1, 2, 0, 1, 2, 3, 4]\n",
      "{0, 1, 2, 3, 4, -1, -5, -4, -3, -2}\n",
      "[-5, -4, -3, -2, -1, 0, 1, 2, 3, 4]\n",
      "{1, (23, 2)}\n"
     ]
    }
   ],
   "source": [
    "# collections \n",
    "# -lists [] a[2:10]\n",
    "# -tuples ()\n",
    "# -dictionaries {key: value}\n",
    "# -sets: {} unordered(indexed), no duplicates(unique), sets are multable but its elements of the set are immuatable.\n",
    "\n",
    "set1 = {2, 4, 5, 8}\n",
    "print(set1)\n",
    "# the set outputs the elements in a random order\n",
    "set2 = set()\n",
    "print(set2)\n",
    "\n",
    "a = {}\n",
    "print(a)\n",
    "print(type(a))\n",
    "\n",
    "set3 = set(range(-1, 6, 3))\n",
    "print(set3)\n",
    "\n",
    "# sets dont have duplicate elements\n",
    "set4 = set(\"Hello World!\")\n",
    "print(set4)\n",
    "\n",
    "list1 = list(range(-5, 3)) + list(range(0,5))\n",
    "print(list1)\n",
    "\n",
    "set5 = set(list1)\n",
    "print(set5)\n",
    "\n",
    "# outs a list of unique elements\n",
    "list1 = sorted(list(set(list1)))\n",
    "print(list1)\n",
    "\n",
    "#sets cannot have mutuable lists and dict\n",
    "#set6 = {1, [23, 2]}\n",
    "set6 = {1, (23, 2)}\n",
    "print(set6)"
   ]
  },
  {
   "cell_type": "code",
   "execution_count": 20,
   "metadata": {},
   "outputs": [
    {
     "name": "stdout",
     "output_type": "stream",
     "text": [
      "[9, 4, 1, 0, 1, 4, 9]\n",
      " {0, 9, 4, 1}\n",
      "4\n",
      "<class 'set'>\n",
      "0 * 9 * 4 * 1 * "
     ]
    }
   ],
   "source": [
    "list2 = [k** 2 for k in range(-3, 4)]\n",
    "set7 = set(list2)\n",
    "print(f'{list2}\\n {set7}')\n",
    "\n",
    "print(len(set7))\n",
    "print(type(set7))\n",
    "\n",
    "for cur_element in set7:\n",
    "    print(cur_element, end=' * ')\n"
   ]
  },
  {
   "cell_type": "code",
   "execution_count": 38,
   "metadata": {},
   "outputs": [
    {
     "name": "stdout",
     "output_type": "stream",
     "text": [
      "(81, 49, 25, 9, 1, 1, 9, 25, 49, 81)\n",
      "{1, 9, 81, 49, 25}\n",
      "(81, 49, 25, 9, 1, 1, 9, 25, 49, 81)\n",
      " {1, 9, 81, 49, 25}\n",
      "{0, 1, 4, 9}\n",
      "{0, 9, 4, 1} | {1, 9, 81, 49, 25} | {0, 1, 4, 9} | {1, 4}\n",
      "True\n",
      "False\n",
      "False\n",
      "True\n",
      "True\n",
      "True\n",
      "False\n",
      "False\n",
      "True\n",
      "True\n",
      "False\n"
     ]
    }
   ],
   "source": [
    "list2 = [k** 2 for k in range(-3, 4)]\n",
    "set7 = set(list2)\n",
    "\n",
    "\n",
    "tuple1 = tuple(k**2 for k in range(-10, 11) if k % 2 == 1)\n",
    "print(tuple1)\n",
    "\n",
    "set8 = set(tuple1)\n",
    "print(set8)\n",
    "print(f'{tuple1}\\n {set8}')\n",
    "\n",
    "set9 = {0, 1, 4, 9}\n",
    "print(set9)\n",
    "\n",
    "set10 = {1, 4}\n",
    "\n",
    "print(f'{set7} | {set8} | {set9} | {set10}')\n",
    "\n",
    "# Set Comparison \n",
    "# The sets are the same despite not being ordered \n",
    "print(set7 == set9)\n",
    "print(set8 == set9)\n",
    "\n",
    "# Checks subsets\n",
    "# A is the subset and B is the superset\n",
    "# A = {2, 4, 9}\n",
    "# B = {1, 2, 3, 4, 5, 6, 7, 8, 9}\n",
    "\n",
    "# checks if set9 is a super set of set7\n",
    "print(set7 < set9)\n",
    "print(set10 < set7)\n",
    "print(set9 <= set7)\n",
    "\n",
    "\n",
    "# checks if set is a super set of set7\n",
    "print(set9 >= set7)\n",
    "print(set7 > set9)\n",
    "\n",
    "# >=\n",
    "print(set7.issubset(set10)) # improper subset\n",
    "print(set10.issubset(set7))\n",
    "print(set7.issuperset(set10))\n",
    "print(set10.issuperset(set7))"
   ]
  },
  {
   "cell_type": "code",
   "execution_count": 1,
   "metadata": {},
   "outputs": [
    {
     "name": "stdout",
     "output_type": "stream",
     "text": [
      "{1, 9, 81, 49, 25}\n",
      "(81, 49, 25, 9, 1, 1, 9, 25, 49, 81)\n",
      " {1, 9, 81, 49, 25}\n",
      "{0, 9, 4, 1} | {1, 9, 81, 49, 25} | {0, 1, 4, 9} | {1, 4}\n",
      "{0, 1, 4, 9, 81, 49, 25}\n",
      "{1, 9}\n",
      "{81, 25, 49}\n",
      "{0, 81, 49, 4, 25}\n"
     ]
    }
   ],
   "source": [
    "list2 = [k** 2 for k in range(-3, 4)]\n",
    "set7 = set(list2)\n",
    "\n",
    "\n",
    "tuple1 = tuple(k**2 for k in range(-10, 11) if k % 2 == 1)\n",
    "\n",
    "\n",
    "set8 = set(tuple1)\n",
    "print(set8)\n",
    "print(f'{tuple1}\\n {set8}')\n",
    "\n",
    "set9 = {0, 1, 4, 9}\n",
    "\n",
    "\n",
    "set10 = {1, 4}\n",
    "\n",
    "print(f'{set7} | {set8} | {set9} | {set10}')\n",
    "\n",
    "set11 = set8 | set10 # union which add the unqiue elements in a set combine them\n",
    "set11 = set8.union(set9)\n",
    "print(set11)\n",
    "\n",
    "set12 = set8 & set9 # intersection only outputs the same elements in a set\n",
    "set12 = set8.intersection(set9)\n",
    "print(set12)\n",
    "\n",
    "set13 = set8 - set9 # difference element in one that is not in the other\n",
    "set12 = set8.difference(set9)\n",
    "print(set12)\n",
    "\n",
    "set14 = set8 ^ set10 # systemateric difference it is like union where it combines the unique elements in each list\n",
    "set12 = set8.symmetric_difference(set9)\n",
    "print(set12)\n",
    "\n"
   ]
  },
  {
   "cell_type": "code",
   "execution_count": 59,
   "metadata": {},
   "outputs": [
    {
     "name": "stdout",
     "output_type": "stream",
     "text": [
      "{0, 9, 4, 1} | {1, 9, 81, 49, 25} | {1, 4} | {0, 1, 4, 9}\n",
      "{0, 1, 4, 9}\n",
      "{1, 9, 81, 49, 25} | {0, 1, 4, 9}\n",
      "{1, 9}\n",
      "{1, 9} | {0, 1, 4, 9}\n",
      "set()\n",
      "set() | {0, 1, 4, 9}\n",
      "{0, 1, 4, 9}\n",
      "{0, 1, 4, 9} | {0, 1, 4, 9}\n"
     ]
    }
   ],
   "source": [
    "list2 = [k** 2 for k in range(-3, 4)]\n",
    "set7 = set(list2)\n",
    "\n",
    "\n",
    "tuple1 = tuple(k**2 for k in range(-10, 11) if k % 2 == 1)\n",
    "\n",
    "set8 = set(tuple1)\n",
    "\n",
    "set10 = {0, 1, 4, 9}\n",
    "\n",
    "set9 = {1, 4}\n",
    "\n",
    "print(f'{set7} | {set8} | {set9} | {set10}')\n",
    "\n",
    "set9 |= set10\n",
    "set9.update(set10)\n",
    "print(set9)\n",
    "print(f'{set8} | {set10}')\n",
    "\n",
    "set8 &= set10\n",
    "set8.intersection_update(set10)\n",
    "print(set8)\n",
    "print(f'{set8} | {set10}')\n",
    "\n",
    "set8 -= set10\n",
    "set8.difference_update(set10)\n",
    "print(set8)\n",
    "print(f'{set8} | {set10}')\n",
    "\n",
    "set8 ^= set10\n",
    "set8.symmetric_difference_update(set10)\n",
    "print(set8)\n",
    "print(f'{set8} | {set10}')\n",
    "\n"
   ]
  },
  {
   "cell_type": "code",
   "execution_count": 65,
   "metadata": {},
   "outputs": [
    {
     "name": "stdout",
     "output_type": "stream",
     "text": [
      "[9, 4, 1, 0, 1, 4, 9]\n",
      "{0, 9, 4, 1}\n",
      "{0, 1, 4, 9, 25}\n",
      "{0, 1, 4, 25}\n",
      "None\n",
      "{0, 1, 4, 25}\n",
      "4, {1, 4, 25} | 0\n",
      "3, {4, 25} | 1\n",
      "2, {25} | 4\n",
      "1, set() | 25\n"
     ]
    }
   ],
   "source": [
    "list2 = [k** 2 for k in range(-3, 4)]\n",
    "set7 = set(list2)\n",
    "print(f'{list2}\\n{set7}')\n",
    "\n",
    "# adds element to end of list\n",
    "set7.add(25)\n",
    "print(set7)\n",
    "\n",
    "# removes the given element of the list\n",
    "set7.remove(9)\n",
    "print(set7)\n",
    "\n",
    "# remove causes errors if the element you want to remoev in not in the list\n",
    "if 90 in set7:\n",
    "    set7.remove(90)\n",
    "print(set7.discard(90))\n",
    "print(set7)\n",
    "\n",
    "counter = len(set7)\n",
    "while len(set7) > 0:\n",
    "    # pop removes the first element of the list\n",
    "    x = set7.pop()\n",
    "    print(f'{counter}, {set7} | {x}')\n",
    "    counter -= 1"
   ]
  },
  {
   "cell_type": "code",
   "execution_count": 66,
   "metadata": {},
   "outputs": [
    {
     "data": {
      "text/plain": [
       "{-10, -4, 2, 8}"
      ]
     },
     "execution_count": 66,
     "metadata": {},
     "output_type": "execute_result"
    }
   ],
   "source": [
    "#Set comprehension\n",
    "\n",
    "set10 = {k for k in range(-10, 11, 2) if k%3 == 2}\n",
    "set10 \n"
   ]
  },
  {
   "cell_type": "code",
   "execution_count": 84,
   "metadata": {},
   "outputs": [
    {
     "name": "stdout",
     "output_type": "stream",
     "text": [
      "{1, 3, 4, 5}\n",
      "{2, 6}\n",
      "The set of random numbers is missing elements {2, 6}\n"
     ]
    }
   ],
   "source": [
    "import random\n",
    "\n",
    "set11 = {random.randint(1, 6) for k in range(10)}\n",
    "print(set11)\n",
    "set12 = {k for k in range(1,7)}\n",
    "missing_elements = set12 - set11\n",
    "print(missing_elements)\n",
    "\n",
    "if len(missing_elements) == 0:\n",
    "    print('The set of random numbers includes all integers between 0 and 6.')\n",
    "else:\n",
    "    print(f'The set of random numbers is missing elements {missing_elements}')"
   ]
  },
  {
   "cell_type": "code",
   "execution_count": 92,
   "metadata": {},
   "outputs": [
    {
     "name": "stdout",
     "output_type": "stream",
     "text": [
      "This i\n"
     ]
    }
   ],
   "source": [
    "#strings\n",
    "\n",
    "str1 = 'This is a sentence!'\n",
    "print(str1[:6])\n",
    "\n",
    "# strings are immutable\n",
    "# str1[0] = 't'"
   ]
  },
  {
   "cell_type": "code",
   "execution_count": 132,
   "metadata": {},
   "outputs": [
    {
     "name": "stdout",
     "output_type": "stream",
     "text": [
      "This is a random number between 0 and 1: 0.00525\n",
      "This is a random number between 0 and 1: 5.24758e-03 | 5.24758E-03\n",
      "This is a random integer: 7 | 111 | 7 | 7 | 7\n",
      ":-) | 56 | 45 | 41\n"
     ]
    }
   ],
   "source": [
    "# prints the number with a given number of digits\n",
    "a = random.random()\n",
    "print(f'This is a random number between 0 and 1: {a/100:.5f}')\n",
    "\n",
    "# prints the number in scientific notation\n",
    "print(f'This is a random number between 0 and 1: {a/100:.5e} | {a/100:.5E}')\n",
    "\n",
    "# prints the number as a decimal number, binary, octal, hexadecimal\n",
    "b = random.randint(1, 10)\n",
    "print(f'This is a random integer: {b:d} | {b:b} | {b:o} | {b:x} | {b:X}')\n",
    "\n",
    "print(f'{58:c}{45:c}{41:c} | {ord(\"8\")} | {ord(\"-\")} | {ord(\")\")}')\n"
   ]
  },
  {
   "cell_type": "code",
   "execution_count": 133,
   "metadata": {},
   "outputs": [
    {
     "name": "stdout",
     "output_type": "stream",
     "text": [
      "{0, 1}\n"
     ]
    }
   ],
   "source": [
    "\n",
    "set12 = {1, True, 0, False}\n",
    "# disjoint is use when both sets have nothing in common\n",
    "print(set12)\n"
   ]
  }
 ],
 "metadata": {
  "kernelspec": {
   "display_name": "base",
   "language": "python",
   "name": "python3"
  },
  "language_info": {
   "codemirror_mode": {
    "name": "ipython",
    "version": 3
   },
   "file_extension": ".py",
   "mimetype": "text/x-python",
   "name": "python",
   "nbconvert_exporter": "python",
   "pygments_lexer": "ipython3",
   "version": "3.9.13 (main, Aug 25 2022, 18:29:29) \n[Clang 12.0.0 ]"
  },
  "orig_nbformat": 4,
  "vscode": {
   "interpreter": {
    "hash": "53c0bcdf509a76f6b146b1d814b6daf120252df840aefcaacaf26e552841ecb9"
   }
  }
 },
 "nbformat": 4,
 "nbformat_minor": 2
}

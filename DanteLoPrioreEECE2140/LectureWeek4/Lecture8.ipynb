{
 "cells": [
  {
   "cell_type": "code",
   "execution_count": 2,
   "metadata": {},
   "outputs": [
    {
     "name": "stdout",
     "output_type": "stream",
     "text": [
      "[6, 4, 2, 6, 6, 6, 4, 4, 5, 4, 4, 5, 2, 6, 2]\n",
      "[2, 4, 5, 6]\n"
     ]
    }
   ],
   "source": [
    "import random\n",
    "# Example 1 for list processing \n",
    "# create a python function that recieves a list and returns a shorter containing \n",
    "# only the unique elements of the list\n",
    "\n",
    "def unq_sort_list(in_list):\n",
    "    out_list = list()\n",
    "\n",
    "    for k in range(len(in_list)):\n",
    "        # one way \n",
    "        if in_list[k] not in out_list:\n",
    "           out_list.append(in_list[k])\n",
    "\n",
    "        # second way\n",
    "        if(out_list.count(in_list[k]) == 0):\n",
    "            out_list.append(in_list[k])\n",
    "        \n",
    "    # thrid way \n",
    "    for item in in_list:\n",
    "        if item not in out_list:\n",
    "            out_list.append(item)\n",
    "\n",
    "    #out_list.sort()\n",
    "    #return out_list\n",
    "    return sorted(out_list)\n",
    "\n",
    "cur_list = []\n",
    "for x in range(15):\n",
    "    cur_list.append(random.randint(2, 6))\n",
    "\n",
    "print(cur_list)\n",
    "print(unq_sort_list(cur_list))\n"
   ]
  },
  {
   "cell_type": "code",
   "execution_count": 9,
   "metadata": {},
   "outputs": [
    {
     "name": "stdout",
     "output_type": "stream",
     "text": [
      "[6, 2, 3, 2, 2, 2, 3, 4, 2, 5, 3, 5, 4, 5, 3]\n",
      "[2, 2, 2, 2, 2, 3, 3, 3, 3, 4, 4, 5, 5, 5, 6]\n"
     ]
    }
   ],
   "source": [
    "cur_list = []\n",
    "for x in range(15):\n",
    "    cur_list.append(random.randint(2, 6))\n",
    "print(cur_list)\n",
    "cur_list.sort()\n",
    "#cur_list_sorted = sorted(cur_list) does not sort \n",
    "print(cur_list)"
   ]
  },
  {
   "cell_type": "code",
   "execution_count": 28,
   "metadata": {},
   "outputs": [
    {
     "name": "stdout",
     "output_type": "stream",
     "text": [
      "[2, 2, 6, 2, 3, 3, 5, 6, 3, 2, 2, 6, 2, 6, 5]\n",
      "[(2, 6), (6, 4), (3, 3), (5, 2)]\n",
      "[(1, 1), (2, 2), (4, 2), (3, 3), (8, 1), (9, 1)]\n"
     ]
    }
   ],
   "source": [
    "# Example 1 for list processing \n",
    "# create a python function that recieves a list of numbers and returns \n",
    "# a list of tuples containing the unique numbers and their frequencies in the orginal list\n",
    "\n",
    "def find_freq(in_list):\n",
    "    unq_list = []\n",
    "    freq = []\n",
    "\n",
    "    # first way \n",
    "    for item in in_list:\n",
    "        if item not in unq_list:\n",
    "            unq_list += [item]\n",
    "            freq.append(1)\n",
    "        else:\n",
    "            freq[unq_list.index(item)] += 1\n",
    "\n",
    "    # second way \n",
    "    #out_list = []\n",
    "    #for k in range(len(unq_list)):\n",
    "    #    out_list.append((unq_list[k], freq[k]))\n",
    "    out_list = list(zip(unq_list, freq))\n",
    "    return out_list\n",
    "    \n",
    "cur_list = []\n",
    "for x in range(15):\n",
    "    cur_list.append(random.randint(2, 6))\n",
    "print(cur_list)\n",
    "print(find_freq(cur_list))\n",
    "my_list = [1, 2, 4, 3, 3, 3, 4, 2, 8, 9]\n",
    "print(find_freq(my_list))\n",
    "\n"
   ]
  },
  {
   "cell_type": "code",
   "execution_count": 29,
   "metadata": {},
   "outputs": [
    {
     "name": "stdout",
     "output_type": "stream",
     "text": [
      "[4, 5, 3]\n",
      "2\n",
      "4\n",
      "5\n",
      "2\n",
      "3\n",
      "[(2, 2), (4, 1), (5, 1), (3, 1)]\n"
     ]
    }
   ],
   "source": [
    "def unique_numbers(in_list):\n",
    "    out_list = list()\n",
    "    for item in in_list:\n",
    "        if(in_list.count(item) == 1):\n",
    "            out_list.append(item)\n",
    "    return out_list\n",
    "\n",
    "def freq_num(in_list):\n",
    "    out_list = list()\n",
    "    freq_list = list()\n",
    "    for item in in_list:\n",
    "        print(item)\n",
    "        if(item not in freq_list):\n",
    "            freq_list.append(item)\n",
    "            out_list.append((item, in_list.count(item)))\n",
    "    return out_list\n",
    "\n",
    "cur_list = list()\n",
    "for x in range(5):\n",
    "    cur_list.append(random.randint(2, 6))\n",
    "\n",
    "print(unique_numbers(cur_list))\n",
    "print(freq_num(cur_list))\n"
   ]
  },
  {
   "cell_type": "code",
   "execution_count": 32,
   "metadata": {},
   "outputs": [
    {
     "name": "stdout",
     "output_type": "stream",
     "text": [
      "---- H ------------------------------------------------------------------------------------------\n"
     ]
    }
   ],
   "source": [
    "hare_position = 5\n",
    "if(hare_position <= 0):\n",
    "    # resets the hare's position to square 1 \n",
    "    # if its negative motion goes beyond square 1\n",
    "    hare_position = 1\n",
    "    print(\"H\", \"-\"*(95 - 1))\n",
    "else:\n",
    "    print(\"-\"*(hare_position-1), \"H\", \"-\"*(95 - hare_position))"
   ]
  },
  {
   "cell_type": "code",
   "execution_count": 11,
   "metadata": {},
   "outputs": [
    {
     "name": "stdout",
     "output_type": "stream",
     "text": [
      "[5, 2, 2, 5, 6, 6, 4, 3, 6, 5, 5, 3, 4, 2, 5]\n",
      "[5, 4, 6, 2, 6, 4, 4, 4, 4, 6, 3, 4, 3, 4, 6]\n",
      "[2, 2, 5, 3, 2, 4, 4, 2, 4, 6, 6, 5, 2, 5, 6]\n",
      "[(5, 5, 2), (2, 4, 2), (2, 6, 5), (5, 2, 3), (6, 6, 2), (6, 4, 4), (4, 4, 4), (3, 4, 2), (6, 4, 4), (5, 6, 6), (5, 3, 6), (3, 4, 5), (4, 3, 2), (2, 4, 5), (5, 6, 6)]\n"
     ]
    }
   ],
   "source": [
    "cur_list1, cur_list2, cur_list3 = [], list(), []\n",
    "for _ in range(15):\n",
    "    cur_list1.append(random.randint(2, 6))\n",
    "    cur_list2.append(random.randint(2, 6))\n",
    "    cur_list3.append(random.randint(2, 6))\n",
    "print(f'{cur_list1}\\n{cur_list2}\\n{cur_list3}')\n",
    "print(list(zip(cur_list1, cur_list2, cur_list3)))"
   ]
  },
  {
   "cell_type": "code",
   "execution_count": 12,
   "metadata": {},
   "outputs": [
    {
     "name": "stdout",
     "output_type": "stream",
     "text": [
      "Before Change: 140390267525824 | 140390267525824\n"
     ]
    },
    {
     "ename": "IndexError",
     "evalue": "list assignment index out of range",
     "output_type": "error",
     "traceback": [
      "\u001b[0;31m---------------------------------------------------------------------------\u001b[0m",
      "\u001b[0;31mIndexError\u001b[0m                                Traceback (most recent call last)",
      "\u001b[0;32m/var/folders/7d/wl2f08gs34bdljddj_g339jw0000gn/T/ipykernel_83482/755419486.py\u001b[0m in \u001b[0;36m<module>\u001b[0;34m\u001b[0m\n\u001b[1;32m      7\u001b[0m \u001b[0mprint\u001b[0m\u001b[0;34m(\u001b[0m\u001b[0;34mf'Before Change: {id(cur_list1)} | {id(cur_list2)}'\u001b[0m\u001b[0;34m)\u001b[0m\u001b[0;34m\u001b[0m\u001b[0;34m\u001b[0m\u001b[0m\n\u001b[1;32m      8\u001b[0m \u001b[0;34m\u001b[0m\u001b[0m\n\u001b[0;32m----> 9\u001b[0;31m \u001b[0mcur_list2\u001b[0m\u001b[0;34m[\u001b[0m\u001b[0;36m1\u001b[0m\u001b[0;34m]\u001b[0m \u001b[0;34m=\u001b[0m \u001b[0;36m69\u001b[0m\u001b[0;34m\u001b[0m\u001b[0;34m\u001b[0m\u001b[0m\n\u001b[0m\u001b[1;32m     10\u001b[0m \u001b[0mprint\u001b[0m\u001b[0;34m(\u001b[0m\u001b[0;34mf'After Change: {id(cur_list1)} | {id(cur_list2)}'\u001b[0m\u001b[0;34m)\u001b[0m\u001b[0;34m\u001b[0m\u001b[0;34m\u001b[0m\u001b[0m\n",
      "\u001b[0;31mIndexError\u001b[0m: list assignment index out of range"
     ]
    }
   ],
   "source": [
    "cur_list1, cur_list2 = [], list()\n",
    "for _ in range(15):\n",
    "    cur_list1.append(random.randint(2, 6))\n",
    "cur_list1 = cur_list2\n",
    "\n",
    "\n",
    "print(f'Before Change: {id(cur_list1)} | {id(cur_list2)}')\n",
    "\n",
    "cur_list2[1] = 69\n",
    "print(f'After Change: {id(cur_list1)} | {id(cur_list2)}')"
   ]
  },
  {
   "cell_type": "code",
   "execution_count": 1,
   "metadata": {},
   "outputs": [
    {
     "name": "stdout",
     "output_type": "stream",
     "text": [
      "Before Change: 140322755962128 | 140322755962128\n",
      "After Change: 220 | 220\n",
      "After Change: 220 | -220\n",
      "After Change: 140322755962128 | 140322776279728\n"
     ]
    }
   ],
   "source": [
    "import random\n",
    "cur_val1 = 220\n",
    "cur_val2 = cur_val1\n",
    "\n",
    "cur_list1 = []\n",
    "for _ in range(15):\n",
    "    cur_list1.append(random.randint(2, 6))\n",
    "#cur_list2 = cur_list1.copy #shallow copy\n",
    "cur_list2 = list(cur_list1) #shallow copy\n",
    "print(f'Before Change: {id(cur_val1)} | {id(cur_val2)}')\n",
    "print(f'After Change: {cur_val1} | {cur_val2}')\n",
    "\n",
    "cur_val2 = -220\n",
    "print(f'After Change: {cur_val1} | {cur_val2}')\n",
    "print(f'After Change: {id(cur_val1)} | {id(cur_val2)}')\n"
   ]
  },
  {
   "cell_type": "code",
   "execution_count": null,
   "metadata": {},
   "outputs": [],
   "source": [
    "import copy\n",
    "\n",
    "cur_list1 = [2, 23, 232, 32, [10, 20]]\n",
    "\n",
    "# cur_list2 = cur_list.copy() #shallow copy\n",
    "# cur_list2 = list(cur_list) #shallow copy\n",
    "# cur_list2 = copy.copy(cur_list) #shallow copy\n",
    "cur_list2 = copy.deepcopy(cur_list1) # deep copy\n",
    "print(f'Before Change: {id(cur_list1)} | {id(cur_list2)}')\n",
    "print(f'Before Change: {(cur_list1)} | {(cur_list2)}')\n",
    "\n",
    "cur_list2[0] = 69\n",
    "cur_list2[-1][0] = -23\n",
    "print(f'After Change: {id(cur_list1)} | {id(cur_list2)}')\n",
    "print(f'After Change: {(cur_list1)} | {(cur_list2)}')\n"
   ]
  },
  {
   "cell_type": "code",
   "execution_count": null,
   "metadata": {},
   "outputs": [],
   "source": [
    "import random \n",
    "\n",
    "\n",
    "cur_list = []\n",
    "for k in range(10):\n",
    "    cur_list.append(k+1)\n",
    "\n",
    "cur_list = [k+1 for k in range(10)]\n",
    "cur_list2 = [random.randint(2, 6) for k in range(10)]\n",
    "\n",
    "#for k in range(len(cur_list2)):\n",
    "#   print(cur_list2[k], end= \"*\")\n",
    "\n",
    "[print(cur_list2[k], end= \"*\") for k in range(len(cur_list2))]\n",
    "print(cur_list)\n",
    "print(cur_list2)\n",
    "cur_list9 = [(k+1, (k+1)**3) for k in range(len(cur_list2)) if k % 2 == 0]\n",
    "print(f'{cur_list9}')\n",
    "\n",
    "# [expression for - if card == true ]\n",
    "# mapping          external filtering\n",
    "\n",
    "#cur_list = []\n",
    "#for k in range(15):\n",
    "#  cur_list.append(random.randint(2, 6))"
   ]
  },
  {
   "cell_type": "code",
   "execution_count": null,
   "metadata": {},
   "outputs": [],
   "source": [
    "cur_list23 = []\n",
    "in_list = []\n",
    "for k in range(10):\n",
    "    cur_list23.append(random.randint(2, 5))\n",
    "    in_list.append(random.randint(2, 5))\n",
    "\n",
    "new_cur_list23 = []\n",
    "for item in cur_list23:\n",
    "    if item % 3 == 0:\n",
    "        new_cur_list23 += [item]\n",
    "\n",
    "cur_list2 = [item**2 for item in cur_list23 if item % 3 == 0]\n",
    "print(cur_list2)\n",
    "print(new_cur_list23)\n",
    "\n",
    "\n",
    "out_list = [item for item in in_list if item not in out_list] # this will not work\n",
    "\n",
    "\n"
   ]
  }
 ],
 "metadata": {
  "kernelspec": {
   "display_name": "base",
   "language": "python",
   "name": "python3"
  },
  "language_info": {
   "codemirror_mode": {
    "name": "ipython",
    "version": 3
   },
   "file_extension": ".py",
   "mimetype": "text/x-python",
   "name": "python",
   "nbconvert_exporter": "python",
   "pygments_lexer": "ipython3",
   "version": "3.9.13"
  },
  "orig_nbformat": 4,
  "vscode": {
   "interpreter": {
    "hash": "53c0bcdf509a76f6b146b1d814b6daf120252df840aefcaacaf26e552841ecb9"
   }
  }
 },
 "nbformat": 4,
 "nbformat_minor": 2
}

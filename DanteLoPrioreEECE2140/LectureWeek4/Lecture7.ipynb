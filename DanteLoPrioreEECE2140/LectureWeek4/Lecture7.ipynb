{
 "cells": [
  {
   "cell_type": "code",
   "execution_count": 2,
   "metadata": {},
   "outputs": [
    {
     "name": "stdout",
     "output_type": "stream",
     "text": [
      "[1, 2, 3, 'Jim', 1.4, True, [4, 'MA', False], (3, 4.5, 'Philadephia')]\n",
      "1\n",
      "1.4\n",
      "MA\n",
      "i\n",
      "(3, 4.5, 'Philadephia')\n",
      "False\n",
      "[False, 3.4]\n"
     ]
    },
    {
     "data": {
      "text/plain": [
       "{1, 2}"
      ]
     },
     "execution_count": 2,
     "metadata": {},
     "output_type": "execute_result"
    }
   ],
   "source": [
    "#Types of Data\n",
    "# numeric(int/float)\n",
    "# string\n",
    "# collections (ordered lists, order tuples, ordered dictionarys, unordered sets)\n",
    "\n",
    "# Lists\n",
    "# an array like construct to store objects \n",
    "# - ordered / muatuble / changable / contain duplicates\n",
    "my_list_1 = [1,2, 3, \"Jim\", 1.4, True, [4, \"MA\", False], (3, 4.5, \"Philadephia\")]\n",
    "print(my_list_1)\n",
    "print(my_list_1[0])\n",
    "print(my_list_1[4])\n",
    "\n",
    "#Example of 2D Extracting\n",
    "# to extract an index from a list of a list\n",
    "print(my_list_1[6][1])\n",
    "\n",
    "# to extract an index from a str from a list\n",
    "# output i from \"jim\"\n",
    "print(my_list_1[3][1])\n",
    "\n",
    "# to extract the last element from the list\n",
    "print(my_list_1[-1])\n",
    "print(my_list_1[-2][-1])\n",
    "\n",
    "my_list_2 = [\"Alice\", False, 3.4, (3, \"Temple\", True), [\"Boston\", 5, 3, \"PA\"]]\n",
    "print(my_list_2[1:4]) #elements 1,2,3\n",
    "print(my_list_2[:4]) #elements 1,2,3\n",
    "print(my_list_2[3:])\n",
    "print(my_list_2[-4:-2]) #elements -4, -3\n",
    "print(my_list_2[:]) #all elements\n",
    "print(my_list_2[1:5:2]) #elements 1, 3\n",
    "print(my_list_2[1:5:-1]) #elements empty list\n",
    "print(my_list_2[5:1:-1])\n",
    "print(my_list_2[::-1]) #prints the list in a reverse order\n",
    "\n",
    "# Tuples\n",
    "# collection of python objects\n",
    "# - ordered / muatuble / contain duplicates\n",
    "(1, 2)\n",
    "\n",
    "# Dictionaries\n",
    "# - ordered / muatuble / cannot contain duplicates\n",
    "{1, 2}\n",
    "\n",
    "# Sets\n",
    "# - ordered / immuatuble  / cannot contain duplicates\n",
    "{1, 2}"
   ]
  },
  {
   "cell_type": "code",
   "execution_count": 1,
   "metadata": {},
   "outputs": [
    {
     "name": "stdout",
     "output_type": "stream",
     "text": [
      "[1, 2, False, 'Jim', 1.4, True, [4, 'MA', False], (3, 4.5, 'Philadephia')]\n",
      "[1, 2, False, 'Jim', 1.4, True, [4, 'PA', False], (3, 4.5, 'Philadephia')]\n",
      "[1, 2, 6.2, 7.8, 'Dorchester', 'FL', True, [4, 'PA', False], (3, 4.5, 'Philadephia')]\n"
     ]
    }
   ],
   "source": [
    "my_list_1 = [1,2, 3, \"Jim\", 1.4, True, [4, \"MA\", False], (3, 4.5, \"Philadephia\")]\n",
    "my_list_1[2] = False\n",
    "print(my_list_1)\n",
    "my_list_1[6][1] = \"PA\"\n",
    "# my_list_1[-1][1] = \"5.5\" cannot change the data in a tuple\n",
    "print(my_list_1)\n",
    "my_list_1[2:5] = [6.2, 7.8, \"Dorchester\", \"FL\"] #adds another index to the list\n",
    "print(my_list_1)\n",
    "my_list_1[4:7] = [-9, -100] \n",
    "\n",
    "my_list_2 = [\"Alice\", False, 3.4, (3, \"Temple\", True), [\"Boston\", 5, 3, \"PA\"]]"
   ]
  },
  {
   "cell_type": "code",
   "execution_count": 2,
   "metadata": {},
   "outputs": [
    {
     "name": "stdout",
     "output_type": "stream",
     "text": [
      "<class 'list'>\n",
      "4\n",
      "[10, 50, 20, 30, -100, -250, -5, 120]\n",
      "[-100, -250, -5, 120, 'James', 'Jack', 'Alice', 'apple', 'Bob']\n",
      "[10, 50, 20, 30, 450, True, [-100, -673, 981]]\n",
      "[10, 50, 20, 81, 30, 450, True, [-100, -673, 981], -332, -222, 3321]\n",
      "[10, 50, 20, 81, 30, 450, True, [-100, -673, 981], -332, -222, 3321, -332, -222, 3321]\n"
     ]
    }
   ],
   "source": [
    "my_list_3 = [10, 50, 20, 30]\n",
    "my_list_4 = [-100, -250, -5, 120]\n",
    "my_list_5 = [\"James\", \"Jack\", \"Alice\", \"apple\", \"Bob\"]\n",
    "print(type(my_list_3))\n",
    "print(len(my_list_3))\n",
    "\n",
    "# combine two lists through concationation\n",
    "my_list_6 = my_list_3 + my_list_4\n",
    "print(my_list_6)\n",
    "\n",
    "# assign a list to a list\n",
    "my_list_4 += my_list_5\n",
    "print(my_list_4)\n",
    "\n",
    "#adds an object to the end of the list\n",
    "my_list_3.append(450)\n",
    "my_list_3.append(True)\n",
    "\n",
    "# adds the list to the end of the list as one element \n",
    "my_list_3.append([-100, -673, 981]) \n",
    "print((my_list_3))\n",
    "\n",
    "my_list_3.extend([-332, -222, 3321])\n",
    "\n",
    "# my_list_3 += [-332, -222, 3321] does the same thing\n",
    "\n",
    "# replaces an index in a list with another object\n",
    "my_list_3.insert(3, 3**4)\n",
    "\n",
    "\n",
    "print((my_list_3))\n",
    "\n",
    "my_list_3.extend([-332, -222, 3321])\n",
    "print((my_list_3))\n"
   ]
  },
  {
   "cell_type": "code",
   "execution_count": 51,
   "metadata": {},
   "outputs": [
    {
     "name": "stdout",
     "output_type": "stream",
     "text": [
      "[-100, -250, -5, 120, -250, 10, 50, 20, 30, 'MA', 'Boston', 'Dorchester']\n",
      "[-100, -5, 120, -250, 10, 50, 20, 30, 'Boston', 'Dorchester']\n",
      "[-100, -5, 120, -250, 10, 50, 20, 30, 'Boston', 'Dorchester', -250, -250, -250, -250]\n",
      "5\n",
      "[-100, -5, 120, 10, 50, 20, 30, 'Boston', 'Dorchester']\n",
      "[-100, -5, 10, 50, 20, 30, 'Boston']\n",
      "[-100, -5, 10, 20, 'Boston']\n",
      "3\n"
     ]
    }
   ],
   "source": [
    "my_list_3 = [10, 50, 20, 30]\n",
    "my_list_4 = [-100, -250, -5, 120, -250]\n",
    "\n",
    "my_list_4.extend(my_list_3)\n",
    "my_list_4.append(\"MA\")\n",
    "my_list_4.extend([\"Boston\", \"Dorchester\"])\n",
    "print(my_list_4)\n",
    "\n",
    "# only removes the first occcurence of an element in a list\n",
    "my_list_4.remove(-250)\n",
    "my_list_4.remove(\"MA\")\n",
    "\n",
    "if \"PA\" in my_list_4:\n",
    "    my_list_4.remove(\"PA\")\n",
    "print(my_list_4)\n",
    "\n",
    "# created four copies of elements in the list\n",
    "my_list_4.extend([-250]*4)\n",
    "print(my_list_4)\n",
    "\n",
    "# displays how many times an element appears in the list \n",
    "print(my_list_4.count(-250))\n",
    "\n",
    "while -250 in my_list_4:\n",
    "    my_list_4.remove(-250)\n",
    "\n",
    "print(my_list_4)\n",
    "\n",
    "# removes the element in list through using index of the list \n",
    "my_list_4.pop(2)\n",
    "\n",
    "# removes last element in list\n",
    "my_list_4.pop()\n",
    "print(my_list_4)\n",
    "\n",
    "del my_list_4[3:7:2]\n",
    "print(my_list_4)\n",
    "\n",
    "# the elemnt has to be in the list in order for it to work\n",
    "# outputs the index at which an element appears in a list\n",
    "print(my_list_4.index(20))\n",
    "\n",
    "#print(my_list_4.index(20, 4, 7)) look at the index startihg at index 4 and end index of 7 "
   ]
  },
  {
   "cell_type": "code",
   "execution_count": null,
   "metadata": {},
   "outputs": [],
   "source": [
    "my_list_4 = [-100, -250, -5, 120]\n",
    "my_list_5 = [\"James\", \"Jack\", \"JAck\", \"Jacky\", \"door\", \"Alice\", \"apple\", \"Bob\"]\n",
    "\n",
    "# sorts items in the list based on the lowest number seen in the ASCII table\n",
    "print(f'Unsorted: {my_list_4}')\n",
    "my_list_4.sort()\n",
    "print(f'Sorted: {my_list_4}')\n",
    "\n",
    "print(f'Unsorted: {my_list_5}')\n",
    "my_list_5.sort() #lexicographical ordering\n",
    "print(f'Sorted: {my_list_5}')\n",
    "\n",
    "my_list_5.sort(reverse=True) #does sort in the reverse order\n",
    "print(f'Sorted: {my_list_5}')"
   ]
  },
  {
   "cell_type": "code",
   "execution_count": null,
   "metadata": {},
   "outputs": [],
   "source": [
    "my_list_5 = [\"James\", \"Jack\", \"JAck\", \"Jacky\", \"door\", \"Alice\", \"apple\", \"Bob\"]\n",
    "\n",
    "print(f'Unsorted: {my_list_5}')\n",
    "my_list_5.sort()\n",
    "print(f'Sorted: {my_list_5}')\n",
    "# key accepts a function to converts every element in the list to the function then compares them\n",
    "my_list_5.sort(key=str.lower)\n",
    "print(f'Sorted Using Key: {my_list_5}')"
   ]
  },
  {
   "cell_type": "code",
   "execution_count": 50,
   "metadata": {},
   "outputs": [
    {
     "name": "stdout",
     "output_type": "stream",
     "text": [
      "Unsorted: [1, -2, 8, -7, -10]\n",
      "Sorted: [-10, -7, -2, 1, 8]\n",
      "Sorted Using Key: [1, -2, -7, 8, -10]\n"
     ]
    }
   ],
   "source": [
    "def cu(num):\n",
    "    return num ** 2 \n",
    "\n",
    "my_list_8 = [1,-2,8,-7, -10]\n",
    "\n",
    "print(f'Unsorted: {my_list_8}')\n",
    "my_list_8.sort()\n",
    "print(f'Sorted: {my_list_8}')\n",
    "# key accepts a function to converts every element in the list to the function then compares them\n",
    "my_list_8.sort(key=cu)\n",
    "print(f'Sorted Using Key: {my_list_8}')\n",
    "[1, 4, 64, 69, 100]\n"
   ]
  },
  {
   "cell_type": "markdown",
   "metadata": {},
   "source": []
  }
 ],
 "metadata": {
  "kernelspec": {
   "display_name": "base",
   "language": "python",
   "name": "python3"
  },
  "language_info": {
   "codemirror_mode": {
    "name": "ipython",
    "version": 3
   },
   "file_extension": ".py",
   "mimetype": "text/x-python",
   "name": "python",
   "nbconvert_exporter": "python",
   "pygments_lexer": "ipython3",
   "version": "3.9.13"
  },
  "orig_nbformat": 4,
  "vscode": {
   "interpreter": {
    "hash": "53c0bcdf509a76f6b146b1d814b6daf120252df840aefcaacaf26e552841ecb9"
   }
  }
 },
 "nbformat": 4,
 "nbformat_minor": 2
}

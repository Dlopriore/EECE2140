{
 "cells": [
  {
   "cell_type": "code",
   "execution_count": 1,
   "metadata": {},
   "outputs": [
    {
     "name": "stdout",
     "output_type": "stream",
     "text": [
      "1\n"
     ]
    }
   ],
   "source": [
    "#CHECK \n",
    "elem = 23\n",
    "my_tuple = (-1, 23, 4, 2)\n",
    "if elem in my_tuple:\n",
    "    print(my_tuple.index(elem))"
   ]
  },
  {
   "cell_type": "code",
   "execution_count": 5,
   "metadata": {},
   "outputs": [
    {
     "name": "stdout",
     "output_type": "stream",
     "text": [
      "Input: (23, 32, 23, 1, 4, 5, 5) | <class 'tuple'> | 7\n",
      "26.571428571428573\n",
      "32\n",
      "Input: (2, 334, 32, 42, 1) | <class 'tuple'> | 5\n",
      "164.4\n",
      "334\n"
     ]
    }
   ],
   "source": [
    "def find_mean_max(*nums):\n",
    "    print(f'Input: {nums} | {type(nums)} | {len(nums)}')\n",
    "    total = 0\n",
    "    for cur_num in nums:\n",
    "        total += cur_num\n",
    "    \n",
    "    for k in range(len(nums)):\n",
    "        total += nums[k]\n",
    "    \n",
    "    return (total/len(nums), max(nums))\n",
    "\n",
    "cur_nums1 = (2, 334, 32, 42, 1)\n",
    "cur_nums2 = [2, 334, 32, 42, 1]\n",
    "cur_mean, cur_max = find_mean_max(23, 32, 23, 1, 4, 5, 5)\n",
    "print(cur_mean)\n",
    "print(cur_max)\n",
    "\n",
    "cur_mean, cur_max = find_mean_max(*cur_nums1)\n",
    "print(cur_mean)\n",
    "print(cur_max)\n",
    "\n",
    "\n"
   ]
  },
  {
   "cell_type": "code",
   "execution_count": 6,
   "metadata": {},
   "outputs": [
    {
     "name": "stdout",
     "output_type": "stream",
     "text": [
      "(1, 3, 1, 1, 5, 2, 3, 6, 5, 5)\n",
      "(1, 1, 1, 2, 3, 3, 5, 5, 5, 6)\n"
     ]
    }
   ],
   "source": [
    "#Sorting tuples\n",
    "import random\n",
    "\n",
    "rnd_tuple = tuple()\n",
    "for k in range(10):\n",
    "    rnd_tuple += (random.randint(1, 6),) #needs tha comma to make it a tuples\n",
    "\n",
    "print(rnd_tuple)\n",
    "rnd_tuple_sorted = tuple(sorted(list(rnd_tuple))) # how to sort a tuples\n",
    "print(rnd_tuple_sorted)\n",
    "\n"
   ]
  },
  {
   "cell_type": "code",
   "execution_count": 12,
   "metadata": {},
   "outputs": [
    {
     "name": "stdout",
     "output_type": "stream",
     "text": [
      "{'Alice': [2.1, 3.4, 1.8, 2.9], 'Bob': [1.5, 1.7, 3.8, 2.9, 2.7]}\n",
      "[2.1, 3.4, 1.8, 2.9]\n",
      "{'name': 'James', 'age': 23, 'city': 'Boston'}\n",
      "{'name': 'James', 'age': 23, 'city': 'Boston', 'Gender': 'F'}\n",
      "{'name': 'James', 'age': 23, 'city': 'Boston', 'Gender': 'M'}\n",
      "{'VT': 'Vermont', 'NH': 'New Hampshire', 'MA': 'Massachusetts'}\n",
      "{'VT': 'Vermont', 'NH': 'New Hampshire', 'MA': 'Massachusetts', 'TX': 'Texas'}\n",
      "{'VT': 'Vermont', 'NH': 'New Hampshire', 'MA': 'Massachusetts', 'TX': 'Texas', 'FL': 'Fllorida'}\n",
      "{'VT': 'Vermont', 'NH': 'New Hampshire', 'MA': 'Massachusetts', 'TX': 'Texas', 'FL': 'Florida'}\n",
      "{'VT': 'Vermont', 'NH': 'New Hampshire', 'MA': 'Massachusetts', 'TX': 'Texas', 'FL': 'Florida', 'CA': 'California', 'NM': 'New Mexico'}\n",
      "{'VT': 'Vermont', 'NH': 'New Hampshire', 'MA': 'Massachusetts', 'TX': 'Texas', 'FL': 'Florida', 'CA': 'California', 'NM': 'New Mexico', 'SC': 'South Coralina'}\n",
      "Vermont\n"
     ]
    }
   ],
   "source": [
    "# dictionaries have keys not indexs\n",
    "# mutuable objects \n",
    "# dictionary = {key:value}\n",
    "# keys are unique but values can be repeated\n",
    "# immutuable(tuple, strings, numerical values, boolean)\n",
    "dict1 = {'Alice':[2.1, 3.4, 1.8, 2.9], 'Bob':[1.5, 1.7, 3.8, 2.9, 2.7]}\n",
    "print(dict1)\n",
    "print(dict1['Alice'])\n",
    "\n",
    "dict2 = dict(name='James', age=23, city='Boston')\n",
    "print(dict2)\n",
    "\n",
    "# add another key to the dictionary\n",
    "dict2[\"Gender\"] = \"F\"\n",
    "print(dict2)\n",
    "dict2[\"Gender\"] = \"M\"\n",
    "print(dict2)\n",
    "\n",
    "dict3 = {'VT': 'Vermont', 'NH':\"New Hampshire\", \"MA\":\"Massachusetts\"}\n",
    "print(dict3)\n",
    "\n",
    "# appends to new value to the end of the dictionary\n",
    "dict3['TX'] = 'Texes'\n",
    "# access and update the value in the dictionary\n",
    "dict3['TX'] = 'Texas'\n",
    "print(dict3)\n",
    "\n",
    "# update changes the previous element to the new one\n",
    "dict3.update({'FL':\"Fllorida\"})\n",
    "print(dict3)\n",
    "dict3.update({'FL':\"Florida\"})\n",
    "print(dict3)\n",
    "\n",
    "# add multiple keys and values in a dictionary\n",
    "dict3.update([(\"CA\", \"California\"), (\"NM\", \"New Mexico\")])\n",
    "print(dict3)\n",
    "\n",
    "# another way to add a key\n",
    "dict3.update(SC=\"South Coralina\")\n",
    "print(dict3)\n",
    "\n",
    "print(dict3['VT'])\n"
   ]
  },
  {
   "cell_type": "code",
   "execution_count": 1,
   "metadata": {},
   "outputs": [
    {
     "name": "stdout",
     "output_type": "stream",
     "text": [
      "{'VT': 'Vermont', 'NH': 'New Hampshire', 'MA': 'Massachusetts'}\n",
      "{'VT': 'Vermont', 'NH': 'New Hampshire', 'MA': 'Massachusetts', 'TX': 'Texas', 'FL': 'Fllorida', 'NM': 'New Mexico'}\n",
      "{'VT': 'Vermont', 'NH': 'New Hampshire', 'MA': 'Massachusetts', 'TX': 'Texas', 'NM': 'New Mexico'}\n",
      "Texas\n",
      "-1\n",
      "{'VT': 'Vermont', 'NH': 'New Hampshire', 'TX': 'Texas', 'NM': 'New Mexico'}\n"
     ]
    }
   ],
   "source": [
    "dict3 = {'VT': 'Vermont', 'NH':\"New Hampshire\", \"MA\":\"Massachusetts\"}\n",
    "print(dict3)\n",
    "\n",
    "# access and update the value in the dictionary\n",
    "dict3['TX'] = 'Texas'\n",
    "\n",
    "\n",
    "# update changes the previous element to the new one\n",
    "dict3.update({'FL':\"Fllorida\"})\n",
    "\n",
    "# add multiple keys and values in a dictionary\n",
    "dict3.update([(\"CA\", \"California\"), (\"NM\", \"New Mexico\")])\n",
    "\n",
    "# removes first occurance of CA key\n",
    "del dict3['CA']\n",
    "print(dict3)\n",
    "\n",
    "# removes occurance of FL key\n",
    "dict3.pop('FL')\n",
    "print(dict3)\n",
    "\n",
    "# outputs the value for the TX key \n",
    "print(dict3.get('TX'))\n",
    "\n",
    "# outputs the value for the CA key if it's there else it will return -1\n",
    "print(dict3.get('CA', -1))\n",
    "\n",
    "key_val = \"MA\"\n",
    "if dict3.get(key_val, -1) != 1:\n",
    "    dict3.pop(key_val)\n",
    "print(dict3)\n"
   ]
  },
  {
   "cell_type": "code",
   "execution_count": 1,
   "metadata": {},
   "outputs": [
    {
     "name": "stdout",
     "output_type": "stream",
     "text": [
      "VT\n",
      "NH\n",
      "MA\n",
      "Vermont\n",
      "New Hampshire\n",
      "Massachusetts\n",
      "('VT', 'Vermont')\n",
      "('NH', 'New Hampshire')\n",
      "('MA', 'Massachusetts')\n",
      "Key: VT | Values: Vermont\n",
      "Key: NH | Values: New Hampshire\n",
      "Key: MA | Values: Massachusetts\n"
     ]
    }
   ],
   "source": [
    "dict3 = {'VT': 'Vermont', 'NH':\"New Hampshire\", \"MA\":\"Massachusetts\"}\n",
    "\n",
    "# iterates through the dictionary and returns each key in the dictionary\n",
    "for cur_item in dict3.keys():\n",
    "    print(cur_item)\n",
    "\n",
    "# iterates through the dictionary and returns each values in the dictionary\n",
    "for cur_item in dict3.values():\n",
    "    print(cur_item)\n",
    "\n",
    "# iterates through the dictionary and values returns the dictionary as a tuple\n",
    "for cur_item in dict3.items():\n",
    "    print(cur_item)\n",
    "\n",
    "# iterates through the dictionary and returns the key and value\n",
    "for cur_key, cur_val in dict3.items():\n",
    "    print(f'Key: {cur_key} | Values: {cur_val}')"
   ]
  },
  {
   "cell_type": "code",
   "execution_count": 10,
   "metadata": {},
   "outputs": [
    {
     "name": "stdout",
     "output_type": "stream",
     "text": [
      "{31: 'January', 28: 'Febrary'}\n",
      "{31: 'March', 28: 'Febrary'}\n"
     ]
    }
   ],
   "source": [
    "dict4 = {31: 'January', 28: 'Febrary'}\n",
    "print(dict4)\n",
    "dict4[31] = \"March\"\n",
    "print(dict4)\n",
    "# add elements\n",
    "dict4.update({30:'April'})\n",
    "\n",
    "\n",
    "\n"
   ]
  },
  {
   "cell_type": "code",
   "execution_count": 17,
   "metadata": {},
   "outputs": [
    {
     "name": "stdout",
     "output_type": "stream",
     "text": [
      "{'Bob': ([1.5, 1.7, 3.8, 2.9, 2.7], 2.5200000000000005), 'Alice': ([2.1, 3.4, 1.8, 2.9], 2.55)}\n"
     ]
    }
   ],
   "source": [
    "dict1 = {'Bob':[1.5, 1.7, 3.8, 2.9, 2.7], 'Alice':[2.1, 3.4, 1.8, 2.9]}\n",
    "\n",
    "for cur_name, cur_grades in dict1.items():\n",
    "    total = 0\n",
    "    for cur_grade in cur_grades:\n",
    "        total += cur_grade\n",
    "    dict1[cur_name] = (cur_grades, total/len(cur_grades))\n",
    "\n",
    "print(dict1)"
   ]
  },
  {
   "cell_type": "code",
   "execution_count": 34,
   "metadata": {},
   "outputs": [
    {
     "name": "stdout",
     "output_type": "stream",
     "text": [
      "{'Bob': [1.5, 1.7, 3.8, 2.9, 2.7], 'Alice': [2.1, 3.4, 1.8, 2.9]}\n",
      "{'Bob': ([1.5, 1.7, 3.8, 2.9, 2.7], 2.5200000000000005), 'Alice': ([2.1, 3.4, 1.8, 2.9], 2.55)}\n"
     ]
    }
   ],
   "source": [
    "dict1 = {'Bob':[1.5, 1.7, 3.8, 2.9, 2.7], 'Alice':[2.1, 3.4, 1.8, 2.9]}\n",
    "\n",
    "#for cur_name in dict1.keys():\n",
    "#    total = 0\n",
    "#\n",
    "#    for cur_grade in dict1[cur_name]:\n",
    "#\n",
    "#        total += cur_grade\n",
    "#    dict1[cur_name] = (dict1[cur_name], total/len( dict1[cur_name]))\n",
    "\n",
    "dict2 = {cur_name:(dict1[cur_name], sum(dict1[cur_name])/len( dict1[cur_name])) for cur_name in dict1.keys()}\n",
    "\n",
    "\n",
    "print(dict1)\n",
    "print(dict2)"
   ]
  },
  {
   "cell_type": "code",
   "execution_count": 42,
   "metadata": {},
   "outputs": [
    {
     "name": "stdout",
     "output_type": "stream",
     "text": [
      "{-2: 2, 1: 2, 3: 2, 4: 2, -1: 1}\n"
     ]
    }
   ],
   "source": [
    "my_list1 = [-2, 1, 3, 4, -1, -2, 4, 1, 3]\n",
    "\n",
    "def find_freq(in_list):\n",
    "    freq_dict = dict()\n",
    "\n",
    "    for cur_num in in_list:\n",
    "        if cur_num in freq_dict:\n",
    "            freq_dict[cur_num]+=1\n",
    "        else:\n",
    "            freq_dict[cur_num] = 1\n",
    "    return freq_dict\n",
    "\n",
    "print(find_freq(my_list1))\n",
    "\n",
    "\n"
   ]
  },
  {
   "cell_type": "code",
   "execution_count": 41,
   "metadata": {},
   "outputs": [
    {
     "name": "stdout",
     "output_type": "stream",
     "text": [
      "{'VT': 'Vermont', 'NH': 'New Hampshire', 'MA': 'Massachusetts'}\n",
      "[('VT', 'Vermont'), ('NH', 'New Hampshire'), ('MA', 'Massachusetts')]\n",
      "('NH', 'New Hampshire')\n",
      "dict_items([('VT', 'Vermont'), ('NH', 'New Hampshire'), ('MA', 'Massachusetts')])\n",
      "dict_items([('VT', 'Vermont'), ('NH', 'New Hampshire'), ('MA', 'Massachusetts'), ('TX', 'Texas'), ('FL', 'Fllorida'), ('CA', 'California'), ('NM', 'New Mexico')])\n"
     ]
    }
   ],
   "source": [
    "dict3 = {'VT': 'Vermont', 'NH':\"New Hampshire\", \"MA\":\"Massachusetts\"}\n",
    "print(dict3)\n",
    "\n",
    "dic3_items = list(dict3.items())\n",
    "print(dic3_items)\n",
    "\n",
    "dic3_items = list(dict3.items())\n",
    "dic9_items = dict3.items()\n",
    "print(dic3_items[1])\n",
    "print(dic9_items)\n",
    "\n",
    "# access and update the value in the dictionary\n",
    "dict3['TX'] = 'Texas'\n",
    "\n",
    "# update changes the previous element to the new one\n",
    "dict3.update({'FL':\"Fllorida\"})\n",
    "\n",
    "# add multiple keys and values in a dictionary\n",
    "dict3.update([(\"CA\", \"California\"), (\"NM\", \"New Mexico\")])\n",
    "\n",
    "\n",
    "print(dic9_items)\n"
   ]
  }
 ],
 "metadata": {
  "kernelspec": {
   "display_name": "base",
   "language": "python",
   "name": "python3"
  },
  "language_info": {
   "codemirror_mode": {
    "name": "ipython",
    "version": 3
   },
   "file_extension": ".py",
   "mimetype": "text/x-python",
   "name": "python",
   "nbconvert_exporter": "python",
   "pygments_lexer": "ipython3",
   "version": "3.9.13 (main, Aug 25 2022, 18:29:29) \n[Clang 12.0.0 ]"
  },
  "orig_nbformat": 4,
  "vscode": {
   "interpreter": {
    "hash": "53c0bcdf509a76f6b146b1d814b6daf120252df840aefcaacaf26e552841ecb9"
   }
  }
 },
 "nbformat": 4,
 "nbformat_minor": 2
}

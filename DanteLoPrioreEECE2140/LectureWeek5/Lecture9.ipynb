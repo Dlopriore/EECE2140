{
 "cells": [
  {
   "cell_type": "code",
   "execution_count": null,
   "metadata": {},
   "outputs": [],
   "source": [
    "\"\"\"\n",
    "1. Multi-dimensional lists\n",
    "2. Tuples\n",
    "3. Dictionaries\n",
    "\"\"\""
   ]
  },
  {
   "cell_type": "code",
   "execution_count": 1,
   "metadata": {},
   "outputs": [
    {
     "name": "stdout",
     "output_type": "stream",
     "text": [
      "[[1, 3, -4], [-2, 4, 9], [0, 8, 6], [-1, -6, 12]]\n",
      "4\n",
      "[1, 3, -4]\n",
      "8\n",
      "-8\n",
      "[[1, 3, -4], [-2, 4, 9], [0, -8, 6], [-1, -6, 12]]\n"
     ]
    }
   ],
   "source": [
    "# Multi-dimensional lists\n",
    "(1, 3, 9)\n",
    "(-2, 4, 8)\n",
    "# a = [[row], [column]]\n",
    "mat1 = [[1, 3, -4], [-2, 4, 9], [0, 8, 6], [-1, -6, 12]] #four rows and three colunms\n",
    "print(mat1) # prints whole matrix\n",
    "print(len(mat1))\n",
    "print(mat1[0]) #prints a list with the list\n",
    "print(mat1[2][1]) #prints elements in the list of a list \n",
    "mat1[2][1] = -8\n",
    "print(mat1[2][1]) #prints new element\n",
    "print(mat1) #matrix has to be consistents with rows and columns"
   ]
  },
  {
   "cell_type": "code",
   "execution_count": 1,
   "metadata": {},
   "outputs": [
    {
     "name": "stdout",
     "output_type": "stream",
     "text": [
      "[[5, 3, 2, 2, 5], [1, 4, 4, 4, 5], [6, 3, 6, 4, 5], [4, 4, 3, 2, 4]]\n",
      "[[5, 1, 1, 4, 1], [1, 5, 4, 3, 2], [1, 2, 5, 5, 5], [6, 4, 5, 6, 1]]\n",
      "[[5, 6, 2, 6, 1], [5, 6, 2, 6, 1], [5, 6, 2, 6, 1], [5, 6, 2, 6, 1]]\n",
      "[[4, 4, 4, 2, 6], [2, 3, 2, 6, 1], [5, 3, 4, 1, 6], [1, 2, 2, 6, 4]]\n",
      "True\n",
      "True\n"
     ]
    }
   ],
   "source": [
    "import random \n",
    "def is_matrix(in_mat):\n",
    "    n_rows = len(in_mat)\n",
    "    n_cols = list()\n",
    "    \n",
    "    \n",
    "    #for row in in_mat:\n",
    "    #    n_cols.append(len(row))\n",
    "\n",
    "    #n_cols.count(n_cols[0] == len(n_cols))\n",
    "    #return n_cols.count(n_cols[0] == len(n_cols))\n",
    "\n",
    "    #for k in range(n_rows):\n",
    "    #    if len(in_mat[k]) not in n_cols:\n",
    "    #        n_cols.append(len(in_mat[k]))\n",
    "\n",
    "    for row in in_mat:\n",
    "        if len(row) not in n_cols:\n",
    "            n_cols.append(len(row))\n",
    "    \n",
    "    return len(n_cols) == 1\n",
    "        \n",
    "\n",
    "cur_mat = []\n",
    "for r in range(4):\n",
    "    cur_mat.append([])\n",
    "    for c in range(5):\n",
    "        cur_mat[r].append(random.randint(1,6))\n",
    "\n",
    "n_rows, n_cols = 4, 5\n",
    "cur_mat2 = []\n",
    "\n",
    "for r in range(n_rows):\n",
    "    cur_row = []\n",
    "    for c in range(n_cols):\n",
    "        cur_row.append(random.randint(1,6))\n",
    "    \n",
    "    cur_row_second_way = [random.randint(1,6) for c in range(n_cols)]\n",
    "    cur_mat2.append(cur_row)\n",
    "\n",
    "cur_mat3 = [random.randint(1,6) for c in range(n_cols)]\n",
    "cur_mat_third_way = [cur_mat3 for r in range(n_rows)]\n",
    "\n",
    "cur_mat_fourth_way = [[random.randint(1,6) for c in range(n_cols)] for r in range(n_rows)]\n",
    "\n",
    "print(cur_mat)\n",
    "print(cur_mat2)\n",
    "print(cur_mat_third_way)\n",
    "print(cur_mat_fourth_way)\n",
    "\n",
    "print(is_matrix(cur_mat))\n",
    "print(is_matrix(cur_mat2))\n",
    "\n"
   ]
  },
  {
   "cell_type": "code",
   "execution_count": 3,
   "metadata": {},
   "outputs": [
    {
     "ename": "NameError",
     "evalue": "name 'cur_mat_fourth_way' is not defined",
     "output_type": "error",
     "traceback": [
      "\u001b[0;31m---------------------------------------------------------------------------\u001b[0m",
      "\u001b[0;31mNameError\u001b[0m                                 Traceback (most recent call last)",
      "\u001b[0;32m/var/folders/7d/wl2f08gs34bdljddj_g339jw0000gn/T/ipykernel_19318/2051859063.py\u001b[0m in \u001b[0;36m<module>\u001b[0;34m\u001b[0m\n\u001b[1;32m     28\u001b[0m \u001b[0;31m#cur_mat_fourth_way = [[random.randint(1,6) for c in range(n_cols)] for r in range(n_rows)]\u001b[0m\u001b[0;34m\u001b[0m\u001b[0;34m\u001b[0m\u001b[0m\n\u001b[1;32m     29\u001b[0m \u001b[0;34m\u001b[0m\u001b[0m\n\u001b[0;32m---> 30\u001b[0;31m \u001b[0mprint\u001b[0m\u001b[0;34m(\u001b[0m\u001b[0mcur_mat_fourth_way\u001b[0m\u001b[0;34m)\u001b[0m\u001b[0;34m\u001b[0m\u001b[0;34m\u001b[0m\u001b[0m\n\u001b[0m\u001b[1;32m     31\u001b[0m \u001b[0mprint\u001b[0m\u001b[0;34m(\u001b[0m\u001b[0madd_matrix\u001b[0m\u001b[0;34m(\u001b[0m\u001b[0mcur_mat_fourth_way\u001b[0m\u001b[0;34m,\u001b[0m \u001b[0mcur_mat_fourth_way\u001b[0m\u001b[0;34m)\u001b[0m\u001b[0;34m)\u001b[0m\u001b[0;34m\u001b[0m\u001b[0;34m\u001b[0m\u001b[0m\n",
      "\u001b[0;31mNameError\u001b[0m: name 'cur_mat_fourth_way' is not defined"
     ]
    }
   ],
   "source": [
    "import random \n",
    "\n",
    "#trace was last year's exam question\n",
    "#transpose \n",
    "def add_matrix(in_mat1, in_mat2):\n",
    "    n_rows1 = len(in_mat1)\n",
    "    n_rows2 = len(in_mat2)\n",
    "    n_cols1 = list()\n",
    "    n_cols2 = list()\n",
    "    sum_row_index = 0\n",
    "    out_put_list = []\n",
    "    output_sum = []\n",
    "\n",
    "    for row in in_mat1:\n",
    "        if len(row) not in n_cols1:\n",
    "            n_cols1.append(len(row))\n",
    "    for row in in_mat2:\n",
    "        if len(row) not in n_cols2:\n",
    "            n_cols2.append(len(row))\n",
    "    if((n_rows1 == n_rows2) and (len(n_cols1) == 1) and (len(n_cols2) == 1)):\n",
    "        output_sum.append(out_put_list)\n",
    "        for r in range(len(in_mat1)):\n",
    "            for c in range(len(in_mat1[row])):\n",
    "                out_put_list.append(in_mat1[r][c] + in_mat2[r][c])\n",
    "            output_sum.append(sum_row_index)\n",
    "    return output_sum\n",
    "\n",
    "#cur_mat_fourth_way = [[random.randint(1,6) for c in range(n_cols)] for r in range(n_rows)]\n",
    "\n",
    "print(cur_mat_fourth_way)\n",
    "print(add_matrix(cur_mat_fourth_way, cur_mat_fourth_way))\n"
   ]
  },
  {
   "cell_type": "markdown",
   "metadata": {},
   "source": []
  },
  {
   "cell_type": "code",
   "execution_count": 80,
   "metadata": {},
   "outputs": [
    {
     "name": "stdout",
     "output_type": "stream",
     "text": [
      "[[1, 2, 6, 2], [2, 3, 6, 5], [5, 1, 6, 1], [4, 4, 4, 4], [1, 3, 4, 1]]\n",
      "[[6, 1, 3, 5], [3, 2, 3, 6], [2, 5, 3, 5], [5, 1, 5, 4], [6, 2, 6, 6]]\n",
      "[[7, 3, 9, 7], [5, 5, 9, 11], [7, 6, 9, 6], [9, 5, 9, 8], [7, 5, 10, 7]]\n"
     ]
    }
   ],
   "source": [
    "def add_matrix(in_mat1, in_mat2):\n",
    "    sum_mat = list()\n",
    "\n",
    "    #Check to see if the two input the matrixes have the same number of rows and colmns\n",
    "    if (len(in_mat1) != len(in_mat2) or not is_matrix(in_mat1) or not is_matrix(in_mat2) or len(in_mat1[0]) != len(in_mat2[0])):\n",
    "        print(\"The input must be matrics at the same size!\")\n",
    "        return -1\n",
    "    \n",
    "    for row in range(len(in_mat1)):\n",
    "        cur_row = []\n",
    "        for col in range(len(in_mat1[row])):\n",
    "            cur_row.append(in_mat1[row][col] + in_mat2[row][col])\n",
    "        \n",
    "        #current_row = [(in_mat1[row][col] + in_mat2[row][col]) for col in range(len(in_mat1[row]))]\n",
    "        \n",
    "        sum_mat.append(cur_row)\n",
    "    \n",
    "    #sum_matrix = [[(in_mat1[row][col] + in_mat2[row][col]) for col in range(len(in_mat1[row]))] for row in range(len(in_mat1))]\n",
    "    #list comphension\n",
    "    return sum_mat\n",
    "\n",
    "cur_mat_fourth_way = [[random.randint(1,6) for c in range(4)] for r in range(5)]\n",
    "cur_mat_fifth_way = [[random.randint(1,6) for c in range(4)] for r in range(5)]\n",
    "print(cur_mat_fourth_way)\n",
    "print(cur_mat_fifth_way)\n",
    "print(add_matrix(cur_mat_fourth_way, cur_mat_fifth_way))"
   ]
  },
  {
   "cell_type": "code",
   "execution_count": 101,
   "metadata": {},
   "outputs": [
    {
     "name": "stdout",
     "output_type": "stream",
     "text": [
      "F\n",
      "(1, 2, 4)\n",
      "(-4,)\n",
      "(-4, 5, 6)\n"
     ]
    }
   ],
   "source": [
    "my_tuple1 = (\"Alice\", [2.3, 4, 3.3], \"F\", \"F\")\n",
    "\n",
    "print(my_tuple1[-1])\n",
    "\n",
    "#my_tuple1[1] = \"M\" # Tuples are immutable\n",
    "\n",
    "my_tuple2 = tuple([1,2,4])\n",
    "print(my_tuple2)\n",
    "\n",
    "my_tuple3 = (-4,) # a tuple occurs when you put a comma at the end\n",
    "\n",
    "my_tuple4 = -4,5, 6\n",
    "print(my_tuple3)\n",
    "print(my_tuple4)"
   ]
  },
  {
   "cell_type": "code",
   "execution_count": 114,
   "metadata": {},
   "outputs": [
    {
     "name": "stdout",
     "output_type": "stream",
     "text": [
      "(1, 4, 7)\n",
      "(-10, -7, -4)\n",
      "(1, 4, 7, -10, -7, -4)\n",
      "(-10, -7, -4, 1, 4, 7)\n",
      "[0, 2, 4, 6, 8]\n",
      "[0, 2, 4, 6, 8, -10, -7, -4, 1, 4, 7]\n",
      "0\n",
      "1\n"
     ]
    }
   ],
   "source": [
    "my_tuple5 = tuple(range(1, 10, 3))\n",
    "print(my_tuple5)\n",
    "\n",
    "my_tuple6 = tuple(range(-10, -1, 3))\n",
    "print(my_tuple6)\n",
    "\n",
    "my_tuple7 = my_tuple5 + my_tuple6 #adding two tuples concatinates them\n",
    "print(my_tuple7)\n",
    "my_tuple6 += my_tuple5\n",
    "print(my_tuple6)\n",
    "\n",
    "my_list1 = list(range(0, 10, 2))\n",
    "print(my_list1)\n",
    "my_list1 += my_tuple6\n",
    "print(my_list1) #you cannpt append a list to a tuple\n",
    "\n",
    "print(my_tuple6.count(-1)) #only 0 occurances of -1\n",
    "\n",
    "print(my_tuple6.count(1)) #only 1 occurances of 1\n",
    "\n"
   ]
  }
 ],
 "metadata": {
  "kernelspec": {
   "display_name": "base",
   "language": "python",
   "name": "python3"
  },
  "language_info": {
   "codemirror_mode": {
    "name": "ipython",
    "version": 3
   },
   "file_extension": ".py",
   "mimetype": "text/x-python",
   "name": "python",
   "nbconvert_exporter": "python",
   "pygments_lexer": "ipython3",
   "version": "3.9.13 (main, Aug 25 2022, 18:29:29) \n[Clang 12.0.0 ]"
  },
  "orig_nbformat": 4,
  "vscode": {
   "interpreter": {
    "hash": "53c0bcdf509a76f6b146b1d814b6daf120252df840aefcaacaf26e552841ecb9"
   }
  }
 },
 "nbformat": 4,
 "nbformat_minor": 2
}
